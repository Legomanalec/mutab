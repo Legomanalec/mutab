{
 "cells": [
  {
   "cell_type": "code",
   "execution_count": 1,
   "metadata": {},
   "outputs": [],
   "source": [
    "import tensorflow as tf\n",
    "import numpy as np\n",
    "import os\n",
    "import time"
   ]
  },
  {
   "cell_type": "code",
   "execution_count": 2,
   "metadata": {},
   "outputs": [
    {
     "name": "stdout",
     "output_type": "stream",
     "text": [
      "2.10.1\n"
     ]
    }
   ],
   "source": [
    "print(tf.__version__)"
   ]
  },
  {
   "cell_type": "code",
   "execution_count": 3,
   "metadata": {},
   "outputs": [
    {
     "data": {
      "text/plain": [
       "[PhysicalDevice(name='/physical_device:GPU:0', device_type='GPU')]"
      ]
     },
     "execution_count": 3,
     "metadata": {},
     "output_type": "execute_result"
    }
   ],
   "source": [
    "tf.config.list_physical_devices('GPU')"
   ]
  },
  {
   "cell_type": "code",
   "execution_count": 4,
   "metadata": {},
   "outputs": [],
   "source": [
    "lst = []\n",
    "\n",
    "with open('../data/full_tab_string.txt') as small_pf:\n",
    "\n",
    "    tmp_list = []\n",
    "    for line in small_pf:\n",
    "        line = line.rstrip(\"\\n\")\n",
    "        if line == \"\":\n",
    "            lst.append(tmp_list)\n",
    "            tmp_list = []\n",
    "        else:\n",
    "            tmp_list.extend(line.split())\n",
    "\n",
    "    if tmp_list:  # add last one\n",
    "        lst.append(tmp_list)\n",
    "lst = lst[0]"
   ]
  },
  {
   "cell_type": "code",
   "execution_count": 5,
   "metadata": {},
   "outputs": [],
   "source": [
    "text = \"\"\n",
    "with open('../data/full_tab_string.txt') as small_pf:\n",
    "    text = small_pf.read()"
   ]
  },
  {
   "cell_type": "code",
   "execution_count": 7,
   "metadata": {},
   "outputs": [],
   "source": [
    "#Can't use set because tab encodings are not hashable types\n",
    "def unique(list1):\n",
    "    unique_set = set()\n",
    "    for x in list1:\n",
    "        if x not in unique_set:\n",
    "            unique_set.add(x)\n",
    "    return unique_set"
   ]
  },
  {
   "cell_type": "code",
   "execution_count": 8,
   "metadata": {},
   "outputs": [],
   "source": [
    "#list of all tab locations\n",
    "tab_vocab = unique(lst)"
   ]
  },
  {
   "cell_type": "code",
   "execution_count": 9,
   "metadata": {},
   "outputs": [
    {
     "name": "stdout",
     "output_type": "stream",
     "text": [
      "['[UNK]', 'e20', 'G17', 'B20', 'A75', 'e5', 'B10', 'D17', 'B15', 'e16', 'E11', 'B9', 'D10', 'e21', 'D9', 'G99', 'B22', 'B18', 'A33', 'e6', 'A14', 'D25', 'E77', 'e19', 'G14', 'D6', 'e2', 'G6', 'A6', 'e11', 'A5', 'D19', 'A11', 'B5', 'D77', 'G92', 'e12', 'e15', 'D0', 'E3', 'D12', 'D52', 'D5', 'E6', 'G19', 'B53', 'D3', 'B12', 'G4', 'E4', 'B16', 'A44', 'G91', 'E10', 'E2', 'E16', 'e18', 'E34', 'G23', 'E14', 'A12', 'e17', 'G21', 'E8', 'D16', 'e24', 'D15', 'G22', 'D14', 'G81', 'A45', 'A16', 'e3', 'D2', 'G16', 'E13', 'e7', 'B7', 'B51', 'B4', 'e77', 'B6', 'e9', 'E33', 'B8', 'B31', 'A13', 'e14', 'e10', 'A22', 'B17', 'B14', 'E57', 'B88', 'A10', 'D20', 'E9', 'A17', 'A1', 'E1', 'G11', 'B1', 'B11', 'G2', 'G5', 'e28', 'B21', 'E17', 'D22', 'G3', 'B33', 'A25', 'G24', 'E15', 'G7', 'B19', 'B13', 'G40', 'A19', 'D13', 'E5', 'A52', 'D7', 'E12', 'e23', 'D1', 'B24', 'A0', 'G42', 'G61', 'G13', 'B0', 'D75', 'A3', 'A4', 'e8', 'A54', 'G12', 'B23', 'B2', 'e1', 'A77', 'e0', 'A15', 'G0', 'e71', 'e22', 'G15', 'e13', 'D8', 'E7', 'E0', 'D11', 'A8', 'A2', 'e51', 'G9', 'G8', 'e4', 'A57', 'E19', 'B3', 'G20', 'G10', 'A99', 'B71', 'E22', 'G18', 'G1', 'E55', 'D4', 'A7', 'A9']\n"
     ]
    }
   ],
   "source": [
    "ids_from_chars = tf.keras.layers.StringLookup(\n",
    "    num_oov_indices = 1, \n",
    "    vocabulary=list(tab_vocab), \n",
    "    mask_token=None)\n",
    "print(ids_from_chars.get_vocabulary())"
   ]
  },
  {
   "cell_type": "code",
   "execution_count": 10,
   "metadata": {},
   "outputs": [],
   "source": [
    "chars_from_ids = tf.keras.layers.StringLookup(\n",
    "    vocabulary=ids_from_chars.get_vocabulary(), invert=True, mask_token=None)\n"
   ]
  },
  {
   "cell_type": "code",
   "execution_count": 11,
   "metadata": {},
   "outputs": [],
   "source": [
    "def text_from_ids(ids):\n",
    "  return tf.strings.reduce_join(chars_from_ids(ids) + \" \", axis=-1)"
   ]
  },
  {
   "cell_type": "code",
   "execution_count": 12,
   "metadata": {},
   "outputs": [],
   "source": [
    "all_ids = ids_from_chars(tf.strings.split(text))"
   ]
  },
  {
   "cell_type": "code",
   "execution_count": 13,
   "metadata": {},
   "outputs": [
    {
     "data": {
      "text/plain": [
       "tensorflow.python.data.ops.dataset_ops.TensorSliceDataset"
      ]
     },
     "execution_count": 13,
     "metadata": {},
     "output_type": "execute_result"
    }
   ],
   "source": [
    "ids_dataset = tf.data.Dataset.from_tensor_slices(all_ids)\n",
    "type(ids_dataset)"
   ]
  },
  {
   "cell_type": "code",
   "execution_count": 14,
   "metadata": {},
   "outputs": [
    {
     "name": "stdout",
     "output_type": "stream",
     "text": [
      "D7\n",
      "G5\n",
      "B5\n",
      "e5\n",
      "e7\n",
      "D6\n",
      "B5\n",
      "G5\n",
      "e7\n",
      "e8\n"
     ]
    }
   ],
   "source": [
    "for ids in ids_dataset.take(10):\n",
    "    print(chars_from_ids(ids).numpy().decode('utf-8'))"
   ]
  },
  {
   "cell_type": "code",
   "execution_count": 15,
   "metadata": {},
   "outputs": [],
   "source": [
    "seq_length = 10"
   ]
  },
  {
   "cell_type": "code",
   "execution_count": 16,
   "metadata": {},
   "outputs": [
    {
     "name": "stdout",
     "output_type": "stream",
     "text": [
      "<class 'tensorflow.python.data.ops.dataset_ops.BatchDataset'>\n",
      "tf.Tensor([b'D7' b'G5' b'B5' b'e5' b'e7' b'D6' b'B5' b'G5' b'e7' b'e8' b'D5'], shape=(11,), dtype=string)\n",
      "<class 'tensorflow.python.framework.ops.EagerTensor'>\n"
     ]
    }
   ],
   "source": [
    "sequences = ids_dataset.batch(seq_length+1, drop_remainder=True)\n",
    "print(type(sequences))\n",
    "for seq in sequences.take(1):\n",
    "  print(chars_from_ids(seq))\n",
    "  print(type(seq))"
   ]
  },
  {
   "cell_type": "code",
   "execution_count": 17,
   "metadata": {},
   "outputs": [
    {
     "name": "stdout",
     "output_type": "stream",
     "text": [
      "b'D7 G5 B5 e5 e7 D6 B5 G5 e7 e8 D5 '\n",
      "b'B5 G5 e8 e2 D4 B3 G2 e2 e0 D3 B1 '\n",
      "b'G2 B1 e0 B1 G2 B0 G0 A2 B1 G2 A0 '\n",
      "b'B1 G2 A0 G2 A0 A8 A7 A0 D7 G5 B5 '\n",
      "b'e7 D6 B5 G5 e7 e8 D5 B5 G5 e8 e2 '\n"
     ]
    }
   ],
   "source": [
    "for seq in sequences.take(5):\n",
    "  print(text_from_ids(seq).numpy())"
   ]
  },
  {
   "cell_type": "code",
   "execution_count": 18,
   "metadata": {},
   "outputs": [],
   "source": [
    "def split_input_target(sequence):\n",
    "    input_text = sequence[:-1]\n",
    "    target_text = sequence[1:]\n",
    "    return input_text, target_text"
   ]
  },
  {
   "cell_type": "code",
   "execution_count": 19,
   "metadata": {},
   "outputs": [
    {
     "data": {
      "text/plain": [
       "<MapDataset element_spec=(TensorSpec(shape=(10,), dtype=tf.int64, name=None), TensorSpec(shape=(10,), dtype=tf.int64, name=None))>"
      ]
     },
     "execution_count": 19,
     "metadata": {},
     "output_type": "execute_result"
    }
   ],
   "source": [
    "dataset = sequences.map(split_input_target)\n",
    "dataset\n",
    "\n"
   ]
  },
  {
   "cell_type": "code",
   "execution_count": 20,
   "metadata": {},
   "outputs": [
    {
     "name": "stdout",
     "output_type": "stream",
     "text": [
      "Input : b'D7 G5 B5 e5 e7 D6 B5 G5 e7 e8 '\n",
      "Target: b'G5 B5 e5 e7 D6 B5 G5 e7 e8 D5 '\n"
     ]
    }
   ],
   "source": [
    "for input_example, target_example in dataset.take(1):\n",
    "    print(\"Input :\", text_from_ids(input_example).numpy())\n",
    "    print(\"Target:\", text_from_ids(target_example).numpy())"
   ]
  },
  {
   "cell_type": "code",
   "execution_count": 21,
   "metadata": {},
   "outputs": [
    {
     "data": {
      "text/plain": [
       "<PrefetchDataset element_spec=(TensorSpec(shape=(64, 10), dtype=tf.int64, name=None), TensorSpec(shape=(64, 10), dtype=tf.int64, name=None))>"
      ]
     },
     "execution_count": 21,
     "metadata": {},
     "output_type": "execute_result"
    }
   ],
   "source": [
    "# Batch size\n",
    "BATCH_SIZE = 64\n",
    "\n",
    "# Buffer size to shuffle the dataset\n",
    "# (TF data is designed to work with possibly infinite sequences,\n",
    "# so it doesn't attempt to shuffle the entire sequence in memory. Instead,\n",
    "# it maintains a buffer in which it shuffles elements).\n",
    "BUFFER_SIZE = 10000\n",
    "\n",
    "dataset = (\n",
    "    dataset\n",
    "    .shuffle(BUFFER_SIZE)\n",
    "    .batch(BATCH_SIZE, drop_remainder=True)\n",
    "    .prefetch(tf.data.experimental.AUTOTUNE))\n",
    "\n",
    "dataset"
   ]
  },
  {
   "cell_type": "code",
   "execution_count": 26,
   "metadata": {},
   "outputs": [],
   "source": [
    "# Length of the vocabulary in StringLookup Layer\n",
    "vocab_size = len(ids_from_chars.get_vocabulary())\n",
    "\n",
    "# The embedding dimension\n",
    "embedding_dim = 256\n",
    "\n",
    "# Number of RNN units\n",
    "rnn_units = 2048"
   ]
  },
  {
   "cell_type": "code",
   "execution_count": 27,
   "metadata": {},
   "outputs": [],
   "source": [
    "class MyModel(tf.keras.Model):\n",
    "  def __init__(self, vocab_size, embedding_dim, rnn_units):\n",
    "    super().__init__(self)\n",
    "    self.embedding = tf.keras.layers.Embedding(vocab_size, embedding_dim)\n",
    "    self.gru = tf.keras.layers.GRU(rnn_units,\n",
    "                                   return_sequences=True,\n",
    "                                   return_state=True)\n",
    "\n",
    "    #adjust the dense units size                         \n",
    "    self.dense = tf.keras.layers.Dense(vocab_size)\n",
    "\n",
    "  def call(self, inputs, states=None, return_state=False, training=False):\n",
    "    x = inputs\n",
    "    x = self.embedding(x, training=training)\n",
    "    if states is None:\n",
    "      states = self.gru.get_initial_state(x)\n",
    "    x, states = self.gru(x, initial_state=states, training=training)\n",
    "    x = self.dense(x, training=training)\n",
    "\n",
    "    if return_state:\n",
    "      return x, states\n",
    "    else:\n",
    "      return x"
   ]
  },
  {
   "cell_type": "code",
   "execution_count": 28,
   "metadata": {},
   "outputs": [],
   "source": [
    "model = MyModel(\n",
    "    vocab_size=vocab_size,\n",
    "    embedding_dim=embedding_dim,\n",
    "    rnn_units=rnn_units)"
   ]
  },
  {
   "cell_type": "code",
   "execution_count": 29,
   "metadata": {},
   "outputs": [
    {
     "name": "stdout",
     "output_type": "stream",
     "text": [
      "(64, 10, 173) # (batch_size, sequence_length, vocab_size)\n"
     ]
    }
   ],
   "source": [
    "for input_example_batch, target_example_batch in dataset.take(1):\n",
    "    example_batch_predictions = model(input_example_batch)\n",
    "    print(example_batch_predictions.shape, \"# (batch_size, sequence_length, vocab_size)\")"
   ]
  },
  {
   "cell_type": "code",
   "execution_count": 30,
   "metadata": {},
   "outputs": [
    {
     "name": "stdout",
     "output_type": "stream",
     "text": [
      "Model: \"my_model_1\"\n",
      "_________________________________________________________________\n",
      " Layer (type)                Output Shape              Param #   \n",
      "=================================================================\n",
      " embedding_1 (Embedding)     multiple                  44288     \n",
      "                                                                 \n",
      " gru_1 (GRU)                 multiple                  14168064  \n",
      "                                                                 \n",
      " dense_1 (Dense)             multiple                  354477    \n",
      "                                                                 \n",
      "=================================================================\n",
      "Total params: 14,566,829\n",
      "Trainable params: 14,566,829\n",
      "Non-trainable params: 0\n",
      "_________________________________________________________________\n"
     ]
    }
   ],
   "source": [
    "model.summary()"
   ]
  },
  {
   "cell_type": "code",
   "execution_count": 31,
   "metadata": {},
   "outputs": [],
   "source": [
    "sampled_indices = tf.random.categorical(example_batch_predictions[0], num_samples=1)\n",
    "sampled_indices = tf.squeeze(sampled_indices, axis=-1).numpy()"
   ]
  },
  {
   "cell_type": "code",
   "execution_count": 32,
   "metadata": {},
   "outputs": [
    {
     "data": {
      "text/plain": [
       "array([143,  15,  91, 130,  72,  53,  80,   3, 103, 138], dtype=int64)"
      ]
     },
     "execution_count": 32,
     "metadata": {},
     "output_type": "execute_result"
    }
   ],
   "source": [
    "sampled_indices"
   ]
  },
  {
   "cell_type": "code",
   "execution_count": 33,
   "metadata": {},
   "outputs": [
    {
     "name": "stdout",
     "output_type": "stream",
     "text": [
      "Input:\n",
      " b'G0 D7 G4 D5 G4 B0 B3 B0 G4 G4 '\n",
      "\n",
      "Next Char Predictions:\n",
      " b'A15 G99 B14 G13 e3 E10 e77 B20 G2 B23 '\n"
     ]
    }
   ],
   "source": [
    "print(\"Input:\\n\", text_from_ids(input_example_batch[0]).numpy())\n",
    "print()\n",
    "print(\"Next Char Predictions:\\n\", text_from_ids(sampled_indices).numpy())"
   ]
  },
  {
   "cell_type": "code",
   "execution_count": 34,
   "metadata": {},
   "outputs": [],
   "source": [
    "loss = tf.losses.SparseCategoricalCrossentropy(from_logits=True)"
   ]
  },
  {
   "cell_type": "code",
   "execution_count": 35,
   "metadata": {},
   "outputs": [
    {
     "name": "stdout",
     "output_type": "stream",
     "text": [
      "Prediction shape:  (64, 10, 173)  # (batch_size, sequence_length, vocab_size)\n",
      "Mean loss:         tf.Tensor(5.1524916, shape=(), dtype=float32)\n"
     ]
    }
   ],
   "source": [
    "example_batch_mean_loss = loss(target_example_batch, example_batch_predictions)\n",
    "print(\"Prediction shape: \", example_batch_predictions.shape, \" # (batch_size, sequence_length, vocab_size)\")\n",
    "print(\"Mean loss:        \", example_batch_mean_loss)"
   ]
  },
  {
   "cell_type": "code",
   "execution_count": 36,
   "metadata": {},
   "outputs": [],
   "source": [
    "model.compile(optimizer='adam', loss=loss)"
   ]
  },
  {
   "cell_type": "code",
   "execution_count": 37,
   "metadata": {},
   "outputs": [],
   "source": [
    "# Directory where the checkpoints will be saved\n",
    "checkpoint_dir = './tab_training_checkpoints'\n",
    "# Name of the checkpoint files\n",
    "checkpoint_prefix = os.path.join(checkpoint_dir, \"ckpt_{epoch}\")\n",
    "\n",
    "checkpoint_callback = tf.keras.callbacks.ModelCheckpoint(\n",
    "    filepath=checkpoint_prefix,\n",
    "    save_weights_only=True)"
   ]
  },
  {
   "cell_type": "code",
   "execution_count": 38,
   "metadata": {},
   "outputs": [],
   "source": [
    "EPOCHS = 1000"
   ]
  },
  {
   "cell_type": "code",
   "execution_count": 39,
   "metadata": {},
   "outputs": [
    {
     "name": "stdout",
     "output_type": "stream",
     "text": [
      "Epoch 1/1000\n",
      "248/248 [==============================] - 5s 15ms/step - loss: 3.0467\n",
      "Epoch 2/1000\n",
      "248/248 [==============================] - 4s 15ms/step - loss: 2.2575\n",
      "Epoch 3/1000\n",
      "248/248 [==============================] - 4s 15ms/step - loss: 1.8537\n",
      "Epoch 4/1000\n",
      "248/248 [==============================] - 4s 15ms/step - loss: 1.5133\n",
      "Epoch 5/1000\n",
      "248/248 [==============================] - 4s 15ms/step - loss: 1.2402\n",
      "Epoch 6/1000\n",
      "248/248 [==============================] - 4s 15ms/step - loss: 1.0417\n",
      "Epoch 7/1000\n",
      "248/248 [==============================] - 4s 15ms/step - loss: 0.9190\n",
      "Epoch 8/1000\n",
      "248/248 [==============================] - 4s 16ms/step - loss: 0.8467\n",
      "Epoch 9/1000\n",
      "248/248 [==============================] - 4s 15ms/step - loss: 0.8013\n",
      "Epoch 10/1000\n",
      "248/248 [==============================] - 4s 14ms/step - loss: 0.7726\n",
      "Epoch 11/1000\n",
      "248/248 [==============================] - 4s 14ms/step - loss: 0.7525\n",
      "Epoch 12/1000\n",
      "248/248 [==============================] - 4s 14ms/step - loss: 0.7357\n",
      "Epoch 13/1000\n",
      "248/248 [==============================] - 4s 14ms/step - loss: 0.7255\n",
      "Epoch 14/1000\n",
      "248/248 [==============================] - 4s 14ms/step - loss: 0.7153\n",
      "Epoch 15/1000\n",
      "248/248 [==============================] - 4s 14ms/step - loss: 0.7069\n",
      "Epoch 16/1000\n",
      "248/248 [==============================] - 4s 14ms/step - loss: 0.6997\n",
      "Epoch 17/1000\n",
      "248/248 [==============================] - 4s 14ms/step - loss: 0.6944\n",
      "Epoch 18/1000\n",
      "248/248 [==============================] - 4s 14ms/step - loss: 0.6898\n",
      "Epoch 19/1000\n",
      "248/248 [==============================] - 4s 14ms/step - loss: 0.6856\n",
      "Epoch 20/1000\n",
      "248/248 [==============================] - 4s 14ms/step - loss: 0.6807\n",
      "Epoch 21/1000\n",
      "248/248 [==============================] - 4s 15ms/step - loss: 0.6767\n",
      "Epoch 22/1000\n",
      "248/248 [==============================] - 4s 14ms/step - loss: 0.6724\n",
      "Epoch 23/1000\n",
      "248/248 [==============================] - 4s 16ms/step - loss: 0.6700\n",
      "Epoch 24/1000\n",
      "248/248 [==============================] - 4s 14ms/step - loss: 0.6672\n",
      "Epoch 25/1000\n",
      "248/248 [==============================] - 4s 14ms/step - loss: 0.6628\n",
      "Epoch 26/1000\n",
      "248/248 [==============================] - 4s 14ms/step - loss: 0.6607\n",
      "Epoch 27/1000\n",
      "248/248 [==============================] - 4s 16ms/step - loss: 0.6580\n",
      "Epoch 28/1000\n",
      "248/248 [==============================] - 4s 14ms/step - loss: 0.6572\n",
      "Epoch 29/1000\n",
      "248/248 [==============================] - 4s 14ms/step - loss: 0.6536\n",
      "Epoch 30/1000\n",
      "248/248 [==============================] - 4s 14ms/step - loss: 0.6519\n",
      "Epoch 31/1000\n",
      "248/248 [==============================] - 4s 14ms/step - loss: 0.6507\n",
      "Epoch 32/1000\n",
      "248/248 [==============================] - 4s 14ms/step - loss: 0.6478\n",
      "Epoch 33/1000\n",
      "248/248 [==============================] - 4s 14ms/step - loss: 0.6462\n",
      "Epoch 34/1000\n",
      "248/248 [==============================] - 4s 17ms/step - loss: 0.6435\n",
      "Epoch 35/1000\n",
      "248/248 [==============================] - 4s 14ms/step - loss: 0.6432\n",
      "Epoch 36/1000\n",
      "248/248 [==============================] - 4s 14ms/step - loss: 0.6415\n",
      "Epoch 37/1000\n",
      "248/248 [==============================] - 4s 14ms/step - loss: 0.6418\n",
      "Epoch 38/1000\n",
      "248/248 [==============================] - 4s 14ms/step - loss: 0.6396\n",
      "Epoch 39/1000\n",
      "248/248 [==============================] - 4s 16ms/step - loss: 0.6374\n",
      "Epoch 40/1000\n",
      "248/248 [==============================] - 4s 14ms/step - loss: 0.6353\n",
      "Epoch 41/1000\n",
      "248/248 [==============================] - 4s 14ms/step - loss: 0.6330\n",
      "Epoch 42/1000\n",
      "248/248 [==============================] - 4s 14ms/step - loss: 0.6317\n",
      "Epoch 43/1000\n",
      "248/248 [==============================] - 4s 17ms/step - loss: 0.6282\n",
      "Epoch 44/1000\n",
      "248/248 [==============================] - 4s 14ms/step - loss: 0.6293\n",
      "Epoch 45/1000\n",
      "248/248 [==============================] - 4s 14ms/step - loss: 0.6282\n",
      "Epoch 46/1000\n",
      "248/248 [==============================] - 4s 14ms/step - loss: 0.6260\n",
      "Epoch 47/1000\n",
      "248/248 [==============================] - 4s 14ms/step - loss: 0.6255\n",
      "Epoch 48/1000\n",
      "248/248 [==============================] - 4s 14ms/step - loss: 0.6240\n",
      "Epoch 49/1000\n",
      "248/248 [==============================] - 4s 14ms/step - loss: 0.6242\n",
      "Epoch 50/1000\n",
      "248/248 [==============================] - 4s 14ms/step - loss: 0.6230\n",
      "Epoch 51/1000\n",
      "248/248 [==============================] - 4s 14ms/step - loss: 0.6225\n",
      "Epoch 52/1000\n",
      "248/248 [==============================] - 4s 14ms/step - loss: 0.6224\n",
      "Epoch 53/1000\n",
      "248/248 [==============================] - 4s 14ms/step - loss: 0.6226\n",
      "Epoch 54/1000\n",
      "248/248 [==============================] - 4s 14ms/step - loss: 0.6239\n",
      "Epoch 55/1000\n",
      "248/248 [==============================] - 4s 14ms/step - loss: 0.6262\n",
      "Epoch 56/1000\n",
      "248/248 [==============================] - 4s 14ms/step - loss: 0.6269\n",
      "Epoch 57/1000\n",
      "248/248 [==============================] - 4s 14ms/step - loss: 0.6279\n",
      "Epoch 58/1000\n",
      "248/248 [==============================] - 4s 14ms/step - loss: 0.6301\n",
      "Epoch 59/1000\n",
      "248/248 [==============================] - 4s 14ms/step - loss: 0.6267\n",
      "Epoch 60/1000\n",
      "248/248 [==============================] - 4s 14ms/step - loss: 0.6208\n",
      "Epoch 61/1000\n",
      "248/248 [==============================] - 4s 14ms/step - loss: 0.6165\n",
      "Epoch 62/1000\n",
      "248/248 [==============================] - 4s 14ms/step - loss: 0.6130\n",
      "Epoch 63/1000\n",
      "248/248 [==============================] - 4s 14ms/step - loss: 0.6108\n",
      "Epoch 64/1000\n",
      "248/248 [==============================] - 4s 15ms/step - loss: 0.6089\n",
      "Epoch 65/1000\n",
      "248/248 [==============================] - 4s 14ms/step - loss: 0.6081\n",
      "Epoch 66/1000\n",
      "248/248 [==============================] - 4s 14ms/step - loss: 0.6081\n",
      "Epoch 67/1000\n",
      "248/248 [==============================] - 4s 14ms/step - loss: 0.6090\n",
      "Epoch 68/1000\n",
      "248/248 [==============================] - 4s 14ms/step - loss: 0.6074\n",
      "Epoch 69/1000\n",
      "248/248 [==============================] - 4s 14ms/step - loss: 0.6088\n",
      "Epoch 70/1000\n",
      "248/248 [==============================] - 4s 14ms/step - loss: 0.6082\n",
      "Epoch 71/1000\n",
      "248/248 [==============================] - 4s 17ms/step - loss: 0.6086\n",
      "Epoch 72/1000\n",
      "248/248 [==============================] - 4s 14ms/step - loss: 0.6088\n",
      "Epoch 73/1000\n",
      "248/248 [==============================] - 4s 14ms/step - loss: 0.6091\n",
      "Epoch 74/1000\n",
      "248/248 [==============================] - 4s 14ms/step - loss: 0.6088\n",
      "Epoch 75/1000\n",
      "248/248 [==============================] - 4s 15ms/step - loss: 0.6086\n",
      "Epoch 76/1000\n",
      "248/248 [==============================] - 4s 14ms/step - loss: 0.6095\n",
      "Epoch 77/1000\n",
      "248/248 [==============================] - 4s 14ms/step - loss: 0.6105\n",
      "Epoch 78/1000\n",
      "248/248 [==============================] - 4s 14ms/step - loss: 0.6134\n",
      "Epoch 79/1000\n",
      "248/248 [==============================] - 5s 20ms/step - loss: 0.6241\n",
      "Epoch 80/1000\n",
      "248/248 [==============================] - 4s 14ms/step - loss: 0.6451\n",
      "Epoch 81/1000\n",
      "248/248 [==============================] - 4s 14ms/step - loss: 0.6358\n",
      "Epoch 82/1000\n",
      "248/248 [==============================] - 4s 14ms/step - loss: 0.6200\n",
      "Epoch 83/1000\n",
      "248/248 [==============================] - 4s 14ms/step - loss: 0.6103\n",
      "Epoch 84/1000\n",
      "248/248 [==============================] - 4s 17ms/step - loss: 0.6038\n",
      "Epoch 85/1000\n",
      "248/248 [==============================] - 4s 14ms/step - loss: 0.6008\n",
      "Epoch 86/1000\n",
      "248/248 [==============================] - 4s 14ms/step - loss: 0.5992\n",
      "Epoch 87/1000\n",
      "248/248 [==============================] - 4s 14ms/step - loss: 0.5992\n",
      "Epoch 88/1000\n",
      "248/248 [==============================] - 4s 14ms/step - loss: 0.5990\n",
      "Epoch 89/1000\n",
      "248/248 [==============================] - 4s 14ms/step - loss: 0.5993\n",
      "Epoch 90/1000\n",
      "248/248 [==============================] - 4s 14ms/step - loss: 0.6001\n",
      "Epoch 91/1000\n",
      "248/248 [==============================] - 4s 16ms/step - loss: 0.6005\n",
      "Epoch 92/1000\n",
      "248/248 [==============================] - 4s 14ms/step - loss: 0.6008\n",
      "Epoch 93/1000\n",
      "248/248 [==============================] - 4s 14ms/step - loss: 0.6003\n",
      "Epoch 94/1000\n",
      "248/248 [==============================] - 4s 14ms/step - loss: 0.6008\n",
      "Epoch 95/1000\n",
      "248/248 [==============================] - 4s 14ms/step - loss: 0.6007\n",
      "Epoch 96/1000\n",
      "248/248 [==============================] - 4s 15ms/step - loss: 0.6011\n",
      "Epoch 97/1000\n",
      "248/248 [==============================] - 4s 14ms/step - loss: 0.6016\n",
      "Epoch 98/1000\n",
      "248/248 [==============================] - 4s 14ms/step - loss: 0.6019\n",
      "Epoch 99/1000\n",
      "248/248 [==============================] - 4s 14ms/step - loss: 0.6025\n",
      "Epoch 100/1000\n",
      "248/248 [==============================] - 4s 15ms/step - loss: 0.6021\n",
      "Epoch 101/1000\n",
      "248/248 [==============================] - 4s 14ms/step - loss: 0.6014\n",
      "Epoch 102/1000\n",
      "248/248 [==============================] - 4s 14ms/step - loss: 0.6025\n",
      "Epoch 103/1000\n",
      "248/248 [==============================] - 4s 14ms/step - loss: 0.6104\n",
      "Epoch 104/1000\n",
      "248/248 [==============================] - 4s 14ms/step - loss: 0.6380\n",
      "Epoch 105/1000\n",
      "248/248 [==============================] - 4s 14ms/step - loss: 0.6735\n",
      "Epoch 106/1000\n",
      "248/248 [==============================] - 4s 14ms/step - loss: 0.6507\n",
      "Epoch 107/1000\n",
      "248/248 [==============================] - 4s 15ms/step - loss: 0.6251\n",
      "Epoch 108/1000\n",
      "248/248 [==============================] - 4s 17ms/step - loss: 0.6106\n",
      "Epoch 109/1000\n",
      "248/248 [==============================] - 4s 14ms/step - loss: 0.6028\n",
      "Epoch 110/1000\n",
      "248/248 [==============================] - 4s 14ms/step - loss: 0.5990\n",
      "Epoch 111/1000\n",
      "248/248 [==============================] - 4s 14ms/step - loss: 0.5961\n",
      "Epoch 112/1000\n",
      "248/248 [==============================] - 4s 15ms/step - loss: 0.5955\n",
      "Epoch 113/1000\n",
      "248/248 [==============================] - 4s 14ms/step - loss: 0.5953\n",
      "Epoch 114/1000\n",
      "248/248 [==============================] - 4s 14ms/step - loss: 0.5954\n",
      "Epoch 115/1000\n",
      "248/248 [==============================] - 4s 14ms/step - loss: 0.5955\n",
      "Epoch 116/1000\n",
      "248/248 [==============================] - 4s 17ms/step - loss: 0.5952\n",
      "Epoch 117/1000\n",
      "248/248 [==============================] - 4s 14ms/step - loss: 0.5965\n",
      "Epoch 118/1000\n",
      "248/248 [==============================] - 4s 14ms/step - loss: 0.5972\n",
      "Epoch 119/1000\n",
      "248/248 [==============================] - 4s 14ms/step - loss: 0.5972\n",
      "Epoch 120/1000\n",
      "248/248 [==============================] - 4s 14ms/step - loss: 0.5973\n",
      "Epoch 121/1000\n",
      "248/248 [==============================] - 4s 14ms/step - loss: 0.5996\n",
      "Epoch 122/1000\n",
      "248/248 [==============================] - 4s 14ms/step - loss: 0.5996\n",
      "Epoch 123/1000\n",
      "248/248 [==============================] - 4s 15ms/step - loss: 0.6014\n",
      "Epoch 124/1000\n",
      "248/248 [==============================] - 4s 14ms/step - loss: 0.6024\n",
      "Epoch 125/1000\n",
      "248/248 [==============================] - 4s 14ms/step - loss: 0.6108\n",
      "Epoch 126/1000\n",
      "248/248 [==============================] - 4s 14ms/step - loss: 0.6395\n",
      "Epoch 127/1000\n",
      "248/248 [==============================] - 4s 14ms/step - loss: 0.6726\n",
      "Epoch 128/1000\n",
      "248/248 [==============================] - 4s 14ms/step - loss: 0.6556\n",
      "Epoch 129/1000\n",
      "248/248 [==============================] - 4s 14ms/step - loss: 0.6276\n",
      "Epoch 130/1000\n",
      "248/248 [==============================] - 4s 14ms/step - loss: 0.6129\n",
      "Epoch 131/1000\n",
      "248/248 [==============================] - 4s 14ms/step - loss: 0.6040\n",
      "Epoch 132/1000\n",
      "248/248 [==============================] - 4s 14ms/step - loss: 0.5981\n",
      "Epoch 133/1000\n",
      "248/248 [==============================] - 4s 14ms/step - loss: 0.5965\n",
      "Epoch 134/1000\n",
      "248/248 [==============================] - 4s 14ms/step - loss: 0.5946\n",
      "Epoch 135/1000\n",
      "248/248 [==============================] - 4s 17ms/step - loss: 0.5947\n",
      "Epoch 136/1000\n",
      "248/248 [==============================] - 4s 14ms/step - loss: 0.5940\n",
      "Epoch 137/1000\n",
      "248/248 [==============================] - 4s 14ms/step - loss: 0.5947\n",
      "Epoch 138/1000\n",
      "248/248 [==============================] - 4s 14ms/step - loss: 0.5970\n",
      "Epoch 139/1000\n",
      "248/248 [==============================] - 4s 14ms/step - loss: 0.5956\n",
      "Epoch 140/1000\n",
      "248/248 [==============================] - 4s 14ms/step - loss: 0.5972\n",
      "Epoch 141/1000\n",
      "248/248 [==============================] - 4s 14ms/step - loss: 0.5984\n",
      "Epoch 142/1000\n",
      "248/248 [==============================] - 4s 14ms/step - loss: 0.5979\n",
      "Epoch 143/1000\n",
      "248/248 [==============================] - 4s 14ms/step - loss: 0.5998\n",
      "Epoch 144/1000\n",
      "248/248 [==============================] - 4s 14ms/step - loss: 0.6015\n",
      "Epoch 145/1000\n",
      "248/248 [==============================] - 4s 14ms/step - loss: 0.6048\n",
      "Epoch 146/1000\n",
      "248/248 [==============================] - 4s 14ms/step - loss: 0.6213\n",
      "Epoch 147/1000\n",
      "248/248 [==============================] - 4s 14ms/step - loss: 0.6700\n",
      "Epoch 148/1000\n",
      "248/248 [==============================] - 4s 17ms/step - loss: 0.6775\n",
      "Epoch 149/1000\n",
      "248/248 [==============================] - 4s 14ms/step - loss: 0.6501\n",
      "Epoch 150/1000\n",
      "248/248 [==============================] - 4s 14ms/step - loss: 0.6300\n",
      "Epoch 151/1000\n",
      "248/248 [==============================] - 4s 14ms/step - loss: 0.6159\n",
      "Epoch 152/1000\n",
      "248/248 [==============================] - 4s 14ms/step - loss: 0.6083\n",
      "Epoch 153/1000\n",
      "248/248 [==============================] - 4s 14ms/step - loss: 0.6028\n",
      "Epoch 154/1000\n",
      "248/248 [==============================] - 4s 14ms/step - loss: 0.6004\n",
      "Epoch 155/1000\n",
      "248/248 [==============================] - 4s 16ms/step - loss: 0.5966\n",
      "Epoch 156/1000\n",
      "248/248 [==============================] - 4s 14ms/step - loss: 0.5968\n",
      "Epoch 157/1000\n",
      "248/248 [==============================] - 4s 14ms/step - loss: 0.5990\n",
      "Epoch 158/1000\n",
      "248/248 [==============================] - 4s 14ms/step - loss: 0.5987\n",
      "Epoch 159/1000\n",
      "248/248 [==============================] - 4s 14ms/step - loss: 0.6000\n",
      "Epoch 160/1000\n",
      "248/248 [==============================] - 4s 14ms/step - loss: 0.6006\n",
      "Epoch 161/1000\n",
      "248/248 [==============================] - 4s 16ms/step - loss: 0.6034\n",
      "Epoch 162/1000\n",
      "248/248 [==============================] - 4s 14ms/step - loss: 0.6059\n",
      "Epoch 163/1000\n",
      "248/248 [==============================] - 4s 14ms/step - loss: 0.6100\n",
      "Epoch 164/1000\n",
      "248/248 [==============================] - 4s 14ms/step - loss: 0.6147\n",
      "Epoch 165/1000\n",
      "248/248 [==============================] - 4s 16ms/step - loss: 0.6216\n",
      "Epoch 166/1000\n",
      "248/248 [==============================] - 4s 14ms/step - loss: 0.6287\n",
      "Epoch 167/1000\n",
      "248/248 [==============================] - 4s 14ms/step - loss: 0.6398\n",
      "Epoch 168/1000\n",
      "248/248 [==============================] - 4s 14ms/step - loss: 0.6421\n",
      "Epoch 169/1000\n",
      "248/248 [==============================] - 4s 15ms/step - loss: 0.6313\n",
      "Epoch 170/1000\n",
      "248/248 [==============================] - 4s 14ms/step - loss: 0.6225\n",
      "Epoch 171/1000\n",
      "248/248 [==============================] - 4s 14ms/step - loss: 0.6150\n",
      "Epoch 172/1000\n",
      "248/248 [==============================] - 4s 14ms/step - loss: 0.6117\n",
      "Epoch 173/1000\n",
      "248/248 [==============================] - 4s 14ms/step - loss: 0.6082\n",
      "Epoch 174/1000\n",
      "248/248 [==============================] - 4s 14ms/step - loss: 0.6053\n",
      "Epoch 175/1000\n",
      "248/248 [==============================] - 4s 14ms/step - loss: 0.6035\n",
      "Epoch 176/1000\n",
      "248/248 [==============================] - 4s 16ms/step - loss: 0.6041\n",
      "Epoch 177/1000\n",
      "248/248 [==============================] - 4s 14ms/step - loss: 0.6031\n",
      "Epoch 178/1000\n",
      "248/248 [==============================] - 4s 14ms/step - loss: 0.6022\n",
      "Epoch 179/1000\n",
      "248/248 [==============================] - 4s 14ms/step - loss: 0.6030\n",
      "Epoch 180/1000\n",
      "248/248 [==============================] - 4s 14ms/step - loss: 0.6048\n",
      "Epoch 181/1000\n",
      "248/248 [==============================] - 4s 17ms/step - loss: 0.6061\n",
      "Epoch 182/1000\n",
      "248/248 [==============================] - 4s 14ms/step - loss: 0.6090\n",
      "Epoch 183/1000\n",
      "248/248 [==============================] - 4s 14ms/step - loss: 0.6179\n",
      "Epoch 184/1000\n",
      "248/248 [==============================] - 4s 14ms/step - loss: 0.6366\n",
      "Epoch 185/1000\n",
      "248/248 [==============================] - 4s 14ms/step - loss: 0.6671\n",
      "Epoch 186/1000\n",
      "248/248 [==============================] - 4s 14ms/step - loss: 0.6676\n",
      "Epoch 187/1000\n",
      "248/248 [==============================] - 4s 14ms/step - loss: 0.6615\n",
      "Epoch 188/1000\n",
      "248/248 [==============================] - 4s 14ms/step - loss: 0.6460\n",
      "Epoch 189/1000\n",
      "248/248 [==============================] - 4s 14ms/step - loss: 0.6336\n",
      "Epoch 190/1000\n",
      "248/248 [==============================] - 4s 14ms/step - loss: 0.6255\n",
      "Epoch 191/1000\n",
      "248/248 [==============================] - 4s 14ms/step - loss: 0.6202\n",
      "Epoch 192/1000\n",
      "248/248 [==============================] - 4s 14ms/step - loss: 0.6151\n",
      "Epoch 193/1000\n",
      "248/248 [==============================] - 4s 14ms/step - loss: 0.6120\n",
      "Epoch 194/1000\n",
      "248/248 [==============================] - 4s 14ms/step - loss: 0.6106\n",
      "Epoch 195/1000\n",
      "248/248 [==============================] - 4s 14ms/step - loss: 0.6100\n",
      "Epoch 196/1000\n",
      "248/248 [==============================] - 4s 14ms/step - loss: 0.6078\n",
      "Epoch 197/1000\n",
      "248/248 [==============================] - 4s 14ms/step - loss: 0.6071\n",
      "Epoch 198/1000\n",
      "248/248 [==============================] - 4s 14ms/step - loss: 0.6081\n",
      "Epoch 199/1000\n",
      "248/248 [==============================] - 4s 14ms/step - loss: 0.6089\n",
      "Epoch 200/1000\n",
      "248/248 [==============================] - 4s 14ms/step - loss: 0.6158\n",
      "Epoch 201/1000\n",
      "248/248 [==============================] - 4s 14ms/step - loss: 0.6298\n",
      "Epoch 202/1000\n",
      "248/248 [==============================] - 4s 14ms/step - loss: 0.6432\n",
      "Epoch 203/1000\n",
      "248/248 [==============================] - 4s 14ms/step - loss: 0.6519\n",
      "Epoch 204/1000\n",
      "248/248 [==============================] - 4s 14ms/step - loss: 0.6497\n",
      "Epoch 205/1000\n",
      "248/248 [==============================] - 4s 14ms/step - loss: 0.6492\n",
      "Epoch 206/1000\n",
      "248/248 [==============================] - 4s 14ms/step - loss: 0.6485\n",
      "Epoch 207/1000\n",
      "248/248 [==============================] - 4s 14ms/step - loss: 0.6422\n",
      "Epoch 208/1000\n",
      "248/248 [==============================] - 4s 14ms/step - loss: 0.6371\n",
      "Epoch 209/1000\n",
      "248/248 [==============================] - 4s 15ms/step - loss: 0.6310\n",
      "Epoch 210/1000\n",
      "248/248 [==============================] - 4s 16ms/step - loss: 0.6288\n",
      "Epoch 211/1000\n",
      "248/248 [==============================] - 4s 14ms/step - loss: 0.6262\n",
      "Epoch 212/1000\n",
      "248/248 [==============================] - 4s 14ms/step - loss: 0.6235\n",
      "Epoch 213/1000\n",
      "248/248 [==============================] - 4s 14ms/step - loss: 0.6237\n",
      "Epoch 214/1000\n",
      "248/248 [==============================] - 4s 14ms/step - loss: 0.6243\n",
      "Epoch 215/1000\n",
      "248/248 [==============================] - 4s 14ms/step - loss: 0.6294\n",
      "Epoch 216/1000\n",
      "248/248 [==============================] - 4s 14ms/step - loss: 0.6319\n",
      "Epoch 217/1000\n",
      "248/248 [==============================] - 4s 14ms/step - loss: 0.6329\n",
      "Epoch 218/1000\n",
      "245/248 [============================>.] - ETA: 0s - loss: 0.6330"
     ]
    },
    {
     "ename": "KeyboardInterrupt",
     "evalue": "",
     "output_type": "error",
     "traceback": [
      "\u001b[1;31m---------------------------------------------------------------------------\u001b[0m",
      "\u001b[1;31mKeyboardInterrupt\u001b[0m                         Traceback (most recent call last)",
      "\u001b[1;32m~\\AppData\\Local\\Temp\\ipykernel_15348\\3521637298.py\u001b[0m in \u001b[0;36m<module>\u001b[1;34m\u001b[0m\n\u001b[1;32m----> 1\u001b[1;33m \u001b[0mhistory\u001b[0m \u001b[1;33m=\u001b[0m \u001b[0mmodel\u001b[0m\u001b[1;33m.\u001b[0m\u001b[0mfit\u001b[0m\u001b[1;33m(\u001b[0m\u001b[0mdataset\u001b[0m\u001b[1;33m,\u001b[0m \u001b[0mepochs\u001b[0m\u001b[1;33m=\u001b[0m\u001b[0mEPOCHS\u001b[0m\u001b[1;33m,\u001b[0m \u001b[0mcallbacks\u001b[0m\u001b[1;33m=\u001b[0m\u001b[1;33m[\u001b[0m\u001b[0mcheckpoint_callback\u001b[0m\u001b[1;33m]\u001b[0m\u001b[1;33m)\u001b[0m\u001b[1;33m\u001b[0m\u001b[1;33m\u001b[0m\u001b[0m\n\u001b[0m",
      "\u001b[1;32mc:\\Users\\alecr\\anaconda3\\lib\\site-packages\\keras\\utils\\traceback_utils.py\u001b[0m in \u001b[0;36merror_handler\u001b[1;34m(*args, **kwargs)\u001b[0m\n\u001b[0;32m     63\u001b[0m         \u001b[0mfiltered_tb\u001b[0m \u001b[1;33m=\u001b[0m \u001b[1;32mNone\u001b[0m\u001b[1;33m\u001b[0m\u001b[1;33m\u001b[0m\u001b[0m\n\u001b[0;32m     64\u001b[0m         \u001b[1;32mtry\u001b[0m\u001b[1;33m:\u001b[0m\u001b[1;33m\u001b[0m\u001b[1;33m\u001b[0m\u001b[0m\n\u001b[1;32m---> 65\u001b[1;33m             \u001b[1;32mreturn\u001b[0m \u001b[0mfn\u001b[0m\u001b[1;33m(\u001b[0m\u001b[1;33m*\u001b[0m\u001b[0margs\u001b[0m\u001b[1;33m,\u001b[0m \u001b[1;33m**\u001b[0m\u001b[0mkwargs\u001b[0m\u001b[1;33m)\u001b[0m\u001b[1;33m\u001b[0m\u001b[1;33m\u001b[0m\u001b[0m\n\u001b[0m\u001b[0;32m     66\u001b[0m         \u001b[1;32mexcept\u001b[0m \u001b[0mException\u001b[0m \u001b[1;32mas\u001b[0m \u001b[0me\u001b[0m\u001b[1;33m:\u001b[0m\u001b[1;33m\u001b[0m\u001b[1;33m\u001b[0m\u001b[0m\n\u001b[0;32m     67\u001b[0m             \u001b[0mfiltered_tb\u001b[0m \u001b[1;33m=\u001b[0m \u001b[0m_process_traceback_frames\u001b[0m\u001b[1;33m(\u001b[0m\u001b[0me\u001b[0m\u001b[1;33m.\u001b[0m\u001b[0m__traceback__\u001b[0m\u001b[1;33m)\u001b[0m\u001b[1;33m\u001b[0m\u001b[1;33m\u001b[0m\u001b[0m\n",
      "\u001b[1;32mc:\\Users\\alecr\\anaconda3\\lib\\site-packages\\keras\\engine\\training.py\u001b[0m in \u001b[0;36mfit\u001b[1;34m(self, x, y, batch_size, epochs, verbose, callbacks, validation_split, validation_data, shuffle, class_weight, sample_weight, initial_epoch, steps_per_epoch, validation_steps, validation_batch_size, validation_freq, max_queue_size, workers, use_multiprocessing)\u001b[0m\n\u001b[0;32m   1622\u001b[0m                     \u001b[0mepoch_logs\u001b[0m\u001b[1;33m.\u001b[0m\u001b[0mupdate\u001b[0m\u001b[1;33m(\u001b[0m\u001b[0mval_logs\u001b[0m\u001b[1;33m)\u001b[0m\u001b[1;33m\u001b[0m\u001b[1;33m\u001b[0m\u001b[0m\n\u001b[0;32m   1623\u001b[0m \u001b[1;33m\u001b[0m\u001b[0m\n\u001b[1;32m-> 1624\u001b[1;33m                 \u001b[0mcallbacks\u001b[0m\u001b[1;33m.\u001b[0m\u001b[0mon_epoch_end\u001b[0m\u001b[1;33m(\u001b[0m\u001b[0mepoch\u001b[0m\u001b[1;33m,\u001b[0m \u001b[0mepoch_logs\u001b[0m\u001b[1;33m)\u001b[0m\u001b[1;33m\u001b[0m\u001b[1;33m\u001b[0m\u001b[0m\n\u001b[0m\u001b[0;32m   1625\u001b[0m                 \u001b[0mtraining_logs\u001b[0m \u001b[1;33m=\u001b[0m \u001b[0mepoch_logs\u001b[0m\u001b[1;33m\u001b[0m\u001b[1;33m\u001b[0m\u001b[0m\n\u001b[0;32m   1626\u001b[0m                 \u001b[1;32mif\u001b[0m \u001b[0mself\u001b[0m\u001b[1;33m.\u001b[0m\u001b[0mstop_training\u001b[0m\u001b[1;33m:\u001b[0m\u001b[1;33m\u001b[0m\u001b[1;33m\u001b[0m\u001b[0m\n",
      "\u001b[1;32mc:\\Users\\alecr\\anaconda3\\lib\\site-packages\\keras\\callbacks.py\u001b[0m in \u001b[0;36mon_epoch_end\u001b[1;34m(self, epoch, logs)\u001b[0m\n\u001b[0;32m    446\u001b[0m         \u001b[0mlogs\u001b[0m \u001b[1;33m=\u001b[0m \u001b[0mself\u001b[0m\u001b[1;33m.\u001b[0m\u001b[0m_process_logs\u001b[0m\u001b[1;33m(\u001b[0m\u001b[0mlogs\u001b[0m\u001b[1;33m)\u001b[0m\u001b[1;33m\u001b[0m\u001b[1;33m\u001b[0m\u001b[0m\n\u001b[0;32m    447\u001b[0m         \u001b[1;32mfor\u001b[0m \u001b[0mcallback\u001b[0m \u001b[1;32min\u001b[0m \u001b[0mself\u001b[0m\u001b[1;33m.\u001b[0m\u001b[0mcallbacks\u001b[0m\u001b[1;33m:\u001b[0m\u001b[1;33m\u001b[0m\u001b[1;33m\u001b[0m\u001b[0m\n\u001b[1;32m--> 448\u001b[1;33m             \u001b[0mcallback\u001b[0m\u001b[1;33m.\u001b[0m\u001b[0mon_epoch_end\u001b[0m\u001b[1;33m(\u001b[0m\u001b[0mepoch\u001b[0m\u001b[1;33m,\u001b[0m \u001b[0mlogs\u001b[0m\u001b[1;33m)\u001b[0m\u001b[1;33m\u001b[0m\u001b[1;33m\u001b[0m\u001b[0m\n\u001b[0m\u001b[0;32m    449\u001b[0m \u001b[1;33m\u001b[0m\u001b[0m\n\u001b[0;32m    450\u001b[0m     \u001b[1;32mdef\u001b[0m \u001b[0mon_train_batch_begin\u001b[0m\u001b[1;33m(\u001b[0m\u001b[0mself\u001b[0m\u001b[1;33m,\u001b[0m \u001b[0mbatch\u001b[0m\u001b[1;33m,\u001b[0m \u001b[0mlogs\u001b[0m\u001b[1;33m=\u001b[0m\u001b[1;32mNone\u001b[0m\u001b[1;33m)\u001b[0m\u001b[1;33m:\u001b[0m\u001b[1;33m\u001b[0m\u001b[1;33m\u001b[0m\u001b[0m\n",
      "\u001b[1;32mc:\\Users\\alecr\\anaconda3\\lib\\site-packages\\keras\\callbacks.py\u001b[0m in \u001b[0;36mon_epoch_end\u001b[1;34m(self, epoch, logs)\u001b[0m\n\u001b[0;32m   1461\u001b[0m \u001b[1;33m\u001b[0m\u001b[0m\n\u001b[0;32m   1462\u001b[0m         \u001b[1;32mif\u001b[0m \u001b[0mself\u001b[0m\u001b[1;33m.\u001b[0m\u001b[0msave_freq\u001b[0m \u001b[1;33m==\u001b[0m \u001b[1;34m\"epoch\"\u001b[0m\u001b[1;33m:\u001b[0m\u001b[1;33m\u001b[0m\u001b[1;33m\u001b[0m\u001b[0m\n\u001b[1;32m-> 1463\u001b[1;33m             \u001b[0mself\u001b[0m\u001b[1;33m.\u001b[0m\u001b[0m_save_model\u001b[0m\u001b[1;33m(\u001b[0m\u001b[0mepoch\u001b[0m\u001b[1;33m=\u001b[0m\u001b[0mepoch\u001b[0m\u001b[1;33m,\u001b[0m \u001b[0mbatch\u001b[0m\u001b[1;33m=\u001b[0m\u001b[1;32mNone\u001b[0m\u001b[1;33m,\u001b[0m \u001b[0mlogs\u001b[0m\u001b[1;33m=\u001b[0m\u001b[0mlogs\u001b[0m\u001b[1;33m)\u001b[0m\u001b[1;33m\u001b[0m\u001b[1;33m\u001b[0m\u001b[0m\n\u001b[0m\u001b[0;32m   1464\u001b[0m \u001b[1;33m\u001b[0m\u001b[0m\n\u001b[0;32m   1465\u001b[0m     \u001b[1;32mdef\u001b[0m \u001b[0m_should_save_on_batch\u001b[0m\u001b[1;33m(\u001b[0m\u001b[0mself\u001b[0m\u001b[1;33m,\u001b[0m \u001b[0mbatch\u001b[0m\u001b[1;33m)\u001b[0m\u001b[1;33m:\u001b[0m\u001b[1;33m\u001b[0m\u001b[1;33m\u001b[0m\u001b[0m\n",
      "\u001b[1;32mc:\\Users\\alecr\\anaconda3\\lib\\site-packages\\keras\\callbacks.py\u001b[0m in \u001b[0;36m_save_model\u001b[1;34m(self, epoch, batch, logs)\u001b[0m\n\u001b[0;32m   1544\u001b[0m                         )\n\u001b[0;32m   1545\u001b[0m                     \u001b[1;32mif\u001b[0m \u001b[0mself\u001b[0m\u001b[1;33m.\u001b[0m\u001b[0msave_weights_only\u001b[0m\u001b[1;33m:\u001b[0m\u001b[1;33m\u001b[0m\u001b[1;33m\u001b[0m\u001b[0m\n\u001b[1;32m-> 1546\u001b[1;33m                         self.model.save_weights(\n\u001b[0m\u001b[0;32m   1547\u001b[0m                             \u001b[0mfilepath\u001b[0m\u001b[1;33m,\u001b[0m \u001b[0moverwrite\u001b[0m\u001b[1;33m=\u001b[0m\u001b[1;32mTrue\u001b[0m\u001b[1;33m,\u001b[0m \u001b[0moptions\u001b[0m\u001b[1;33m=\u001b[0m\u001b[0mself\u001b[0m\u001b[1;33m.\u001b[0m\u001b[0m_options\u001b[0m\u001b[1;33m\u001b[0m\u001b[1;33m\u001b[0m\u001b[0m\n\u001b[0;32m   1548\u001b[0m                         )\n",
      "\u001b[1;32mc:\\Users\\alecr\\anaconda3\\lib\\site-packages\\keras\\utils\\traceback_utils.py\u001b[0m in \u001b[0;36merror_handler\u001b[1;34m(*args, **kwargs)\u001b[0m\n\u001b[0;32m     63\u001b[0m         \u001b[0mfiltered_tb\u001b[0m \u001b[1;33m=\u001b[0m \u001b[1;32mNone\u001b[0m\u001b[1;33m\u001b[0m\u001b[1;33m\u001b[0m\u001b[0m\n\u001b[0;32m     64\u001b[0m         \u001b[1;32mtry\u001b[0m\u001b[1;33m:\u001b[0m\u001b[1;33m\u001b[0m\u001b[1;33m\u001b[0m\u001b[0m\n\u001b[1;32m---> 65\u001b[1;33m             \u001b[1;32mreturn\u001b[0m \u001b[0mfn\u001b[0m\u001b[1;33m(\u001b[0m\u001b[1;33m*\u001b[0m\u001b[0margs\u001b[0m\u001b[1;33m,\u001b[0m \u001b[1;33m**\u001b[0m\u001b[0mkwargs\u001b[0m\u001b[1;33m)\u001b[0m\u001b[1;33m\u001b[0m\u001b[1;33m\u001b[0m\u001b[0m\n\u001b[0m\u001b[0;32m     66\u001b[0m         \u001b[1;32mexcept\u001b[0m \u001b[0mException\u001b[0m \u001b[1;32mas\u001b[0m \u001b[0me\u001b[0m\u001b[1;33m:\u001b[0m\u001b[1;33m\u001b[0m\u001b[1;33m\u001b[0m\u001b[0m\n\u001b[0;32m     67\u001b[0m             \u001b[0mfiltered_tb\u001b[0m \u001b[1;33m=\u001b[0m \u001b[0m_process_traceback_frames\u001b[0m\u001b[1;33m(\u001b[0m\u001b[0me\u001b[0m\u001b[1;33m.\u001b[0m\u001b[0m__traceback__\u001b[0m\u001b[1;33m)\u001b[0m\u001b[1;33m\u001b[0m\u001b[1;33m\u001b[0m\u001b[0m\n",
      "\u001b[1;32mc:\\Users\\alecr\\anaconda3\\lib\\site-packages\\keras\\engine\\training.py\u001b[0m in \u001b[0;36msave_weights\u001b[1;34m(self, filepath, overwrite, save_format, options)\u001b[0m\n\u001b[0;32m   2818\u001b[0m                 \u001b[1;31m# Call `get_session` to initialize any uninitialized variables.\u001b[0m\u001b[1;33m\u001b[0m\u001b[1;33m\u001b[0m\u001b[0m\n\u001b[0;32m   2819\u001b[0m                 \u001b[0mbackend\u001b[0m\u001b[1;33m.\u001b[0m\u001b[0mget_session\u001b[0m\u001b[1;33m(\u001b[0m\u001b[1;33m)\u001b[0m\u001b[1;33m\u001b[0m\u001b[1;33m\u001b[0m\u001b[0m\n\u001b[1;32m-> 2820\u001b[1;33m             \u001b[0mself\u001b[0m\u001b[1;33m.\u001b[0m\u001b[0m_checkpoint\u001b[0m\u001b[1;33m.\u001b[0m\u001b[0mwrite\u001b[0m\u001b[1;33m(\u001b[0m\u001b[0mfilepath\u001b[0m\u001b[1;33m,\u001b[0m \u001b[0moptions\u001b[0m\u001b[1;33m=\u001b[0m\u001b[0moptions\u001b[0m\u001b[1;33m)\u001b[0m\u001b[1;33m\u001b[0m\u001b[1;33m\u001b[0m\u001b[0m\n\u001b[0m\u001b[0;32m   2821\u001b[0m \u001b[1;33m\u001b[0m\u001b[0m\n\u001b[0;32m   2822\u001b[0m             \u001b[1;31m# Record this checkpoint so it's visible from\u001b[0m\u001b[1;33m\u001b[0m\u001b[1;33m\u001b[0m\u001b[0m\n",
      "\u001b[1;32m~\\AppData\\Roaming\\Python\\Python39\\site-packages\\tensorflow\\python\\checkpoint\\checkpoint.py\u001b[0m in \u001b[0;36mwrite\u001b[1;34m(self, file_prefix, options)\u001b[0m\n\u001b[0;32m   2235\u001b[0m     \u001b[1;32mif\u001b[0m \u001b[0misinstance\u001b[0m\u001b[1;33m(\u001b[0m\u001b[0mfile_prefix\u001b[0m\u001b[1;33m,\u001b[0m \u001b[0mos\u001b[0m\u001b[1;33m.\u001b[0m\u001b[0mPathLike\u001b[0m\u001b[1;33m)\u001b[0m\u001b[1;33m:\u001b[0m\u001b[1;33m\u001b[0m\u001b[1;33m\u001b[0m\u001b[0m\n\u001b[0;32m   2236\u001b[0m       \u001b[0mfile_prefix\u001b[0m \u001b[1;33m=\u001b[0m \u001b[0mos\u001b[0m\u001b[1;33m.\u001b[0m\u001b[0mfspath\u001b[0m\u001b[1;33m(\u001b[0m\u001b[0mfile_prefix\u001b[0m\u001b[1;33m)\u001b[0m\u001b[1;33m\u001b[0m\u001b[1;33m\u001b[0m\u001b[0m\n\u001b[1;32m-> 2237\u001b[1;33m     \u001b[1;32mreturn\u001b[0m \u001b[0mself\u001b[0m\u001b[1;33m.\u001b[0m\u001b[0m_write\u001b[0m\u001b[1;33m(\u001b[0m\u001b[0mfile_prefix\u001b[0m\u001b[1;33m,\u001b[0m \u001b[0moptions\u001b[0m\u001b[1;33m)\u001b[0m\u001b[1;33m\u001b[0m\u001b[1;33m\u001b[0m\u001b[0m\n\u001b[0m\u001b[0;32m   2238\u001b[0m \u001b[1;33m\u001b[0m\u001b[0m\n\u001b[0;32m   2239\u001b[0m   \u001b[1;32mdef\u001b[0m \u001b[0m_write\u001b[0m\u001b[1;33m(\u001b[0m\u001b[0mself\u001b[0m\u001b[1;33m,\u001b[0m \u001b[0mfile_prefix\u001b[0m\u001b[1;33m,\u001b[0m \u001b[0moptions\u001b[0m\u001b[1;33m=\u001b[0m\u001b[1;32mNone\u001b[0m\u001b[1;33m,\u001b[0m \u001b[0mupdate_ckpt_state\u001b[0m\u001b[1;33m=\u001b[0m\u001b[1;32mFalse\u001b[0m\u001b[1;33m)\u001b[0m\u001b[1;33m:\u001b[0m\u001b[1;33m\u001b[0m\u001b[1;33m\u001b[0m\u001b[0m\n",
      "\u001b[1;32m~\\AppData\\Roaming\\Python\\Python39\\site-packages\\tensorflow\\python\\checkpoint\\checkpoint.py\u001b[0m in \u001b[0;36m_write\u001b[1;34m(self, file_prefix, options, update_ckpt_state)\u001b[0m\n\u001b[0;32m   2254\u001b[0m     \u001b[0mstart_time\u001b[0m \u001b[1;33m=\u001b[0m \u001b[0mtime\u001b[0m\u001b[1;33m.\u001b[0m\u001b[0mtime\u001b[0m\u001b[1;33m(\u001b[0m\u001b[1;33m)\u001b[0m\u001b[1;33m\u001b[0m\u001b[1;33m\u001b[0m\u001b[0m\n\u001b[0;32m   2255\u001b[0m     \u001b[0moptions\u001b[0m \u001b[1;33m=\u001b[0m \u001b[0moptions\u001b[0m \u001b[1;32mor\u001b[0m \u001b[0mcheckpoint_options\u001b[0m\u001b[1;33m.\u001b[0m\u001b[0mCheckpointOptions\u001b[0m\u001b[1;33m(\u001b[0m\u001b[1;33m)\u001b[0m\u001b[1;33m\u001b[0m\u001b[1;33m\u001b[0m\u001b[0m\n\u001b[1;32m-> 2256\u001b[1;33m     output = self._saver.save(\n\u001b[0m\u001b[0;32m   2257\u001b[0m         \u001b[0mfile_prefix\u001b[0m\u001b[1;33m=\u001b[0m\u001b[0mfile_prefix\u001b[0m\u001b[1;33m,\u001b[0m\u001b[1;33m\u001b[0m\u001b[1;33m\u001b[0m\u001b[0m\n\u001b[0;32m   2258\u001b[0m         \u001b[0moptions\u001b[0m\u001b[1;33m=\u001b[0m\u001b[0moptions\u001b[0m\u001b[1;33m,\u001b[0m\u001b[1;33m\u001b[0m\u001b[1;33m\u001b[0m\u001b[0m\n",
      "\u001b[1;32m~\\AppData\\Roaming\\Python\\Python39\\site-packages\\tensorflow\\python\\checkpoint\\checkpoint.py\u001b[0m in \u001b[0;36msave\u001b[1;34m(self, file_prefix, checkpoint_number, session, options, update_ckpt_state)\u001b[0m\n\u001b[0;32m   1349\u001b[0m       \u001b[0mfile_io\u001b[0m\u001b[1;33m.\u001b[0m\u001b[0mrecursive_create_dir\u001b[0m\u001b[1;33m(\u001b[0m\u001b[0mos\u001b[0m\u001b[1;33m.\u001b[0m\u001b[0mpath\u001b[0m\u001b[1;33m.\u001b[0m\u001b[0mdirname\u001b[0m\u001b[1;33m(\u001b[0m\u001b[0mfile_prefix\u001b[0m\u001b[1;33m)\u001b[0m\u001b[1;33m)\u001b[0m\u001b[1;33m\u001b[0m\u001b[1;33m\u001b[0m\u001b[0m\n\u001b[0;32m   1350\u001b[0m \u001b[1;33m\u001b[0m\u001b[0m\n\u001b[1;32m-> 1351\u001b[1;33m     save_path, new_feed_additions = self._save_cached_when_graph_building(\n\u001b[0m\u001b[0;32m   1352\u001b[0m         file_prefix_tensor, object_graph_tensor, options, update_ckpt_state)\n\u001b[0;32m   1353\u001b[0m \u001b[1;33m\u001b[0m\u001b[0m\n",
      "\u001b[1;32m~\\AppData\\Roaming\\Python\\Python39\\site-packages\\tensorflow\\python\\checkpoint\\checkpoint.py\u001b[0m in \u001b[0;36m_save_cached_when_graph_building\u001b[1;34m(self, file_prefix, object_graph_tensor, options, update_ckpt_state)\u001b[0m\n\u001b[0;32m   1294\u001b[0m \u001b[1;33m\u001b[0m\u001b[0m\n\u001b[0;32m   1295\u001b[0m     \u001b[1;31m# Execute the normal checkpoint, i.e., synchronous.\u001b[0m\u001b[1;33m\u001b[0m\u001b[1;33m\u001b[0m\u001b[0m\n\u001b[1;32m-> 1296\u001b[1;33m     \u001b[1;32mreturn\u001b[0m \u001b[0m_run_save\u001b[0m\u001b[1;33m(\u001b[0m\u001b[1;33m)\u001b[0m\u001b[1;33m\u001b[0m\u001b[1;33m\u001b[0m\u001b[0m\n\u001b[0m\u001b[0;32m   1297\u001b[0m \u001b[1;33m\u001b[0m\u001b[0m\n\u001b[0;32m   1298\u001b[0m   def save(self, file_prefix, checkpoint_number=None, session=None,\n",
      "\u001b[1;32m~\\AppData\\Roaming\\Python\\Python39\\site-packages\\tensorflow\\python\\checkpoint\\checkpoint.py\u001b[0m in \u001b[0;36m_run_save\u001b[1;34m()\u001b[0m\n\u001b[0;32m   1237\u001b[0m         saver = functional_saver.MultiDeviceSaver(named_saveable_objects,\n\u001b[0;32m   1238\u001b[0m                                                   registered_savers)\n\u001b[1;32m-> 1239\u001b[1;33m         \u001b[0msave_op\u001b[0m \u001b[1;33m=\u001b[0m \u001b[0msaver\u001b[0m\u001b[1;33m.\u001b[0m\u001b[0msave\u001b[0m\u001b[1;33m(\u001b[0m\u001b[0mfile_prefix\u001b[0m\u001b[1;33m,\u001b[0m \u001b[0moptions\u001b[0m\u001b[1;33m=\u001b[0m\u001b[0moptions\u001b[0m\u001b[1;33m)\u001b[0m\u001b[1;33m\u001b[0m\u001b[1;33m\u001b[0m\u001b[0m\n\u001b[0m\u001b[0;32m   1240\u001b[0m         \u001b[1;32mwith\u001b[0m \u001b[0mops\u001b[0m\u001b[1;33m.\u001b[0m\u001b[0mdevice\u001b[0m\u001b[1;33m(\u001b[0m\u001b[1;34m\"/cpu:0\"\u001b[0m\u001b[1;33m)\u001b[0m\u001b[1;33m:\u001b[0m\u001b[1;33m\u001b[0m\u001b[1;33m\u001b[0m\u001b[0m\n\u001b[0;32m   1241\u001b[0m           \u001b[1;32mwith\u001b[0m \u001b[0mops\u001b[0m\u001b[1;33m.\u001b[0m\u001b[0mcontrol_dependencies\u001b[0m\u001b[1;33m(\u001b[0m\u001b[1;33m[\u001b[0m\u001b[0msave_op\u001b[0m\u001b[1;33m]\u001b[0m\u001b[1;33m)\u001b[0m\u001b[1;33m:\u001b[0m\u001b[1;33m\u001b[0m\u001b[1;33m\u001b[0m\u001b[0m\n",
      "\u001b[1;32m~\\AppData\\Roaming\\Python\\Python39\\site-packages\\tensorflow\\python\\checkpoint\\functional_saver.py\u001b[0m in \u001b[0;36msave\u001b[1;34m(self, file_prefix, options)\u001b[0m\n\u001b[0;32m    360\u001b[0m       \u001b[0mtf_function_save\u001b[0m\u001b[1;33m(\u001b[0m\u001b[1;33m)\u001b[0m\u001b[1;33m\u001b[0m\u001b[1;33m\u001b[0m\u001b[0m\n\u001b[0;32m    361\u001b[0m     \u001b[1;32melse\u001b[0m\u001b[1;33m:\u001b[0m\u001b[1;33m\u001b[0m\u001b[1;33m\u001b[0m\u001b[0m\n\u001b[1;32m--> 362\u001b[1;33m       \u001b[1;32mreturn\u001b[0m \u001b[0msave_fn\u001b[0m\u001b[1;33m(\u001b[0m\u001b[1;33m)\u001b[0m\u001b[1;33m\u001b[0m\u001b[1;33m\u001b[0m\u001b[0m\n\u001b[0m\u001b[0;32m    363\u001b[0m \u001b[1;33m\u001b[0m\u001b[0m\n\u001b[0;32m    364\u001b[0m   \u001b[1;32mdef\u001b[0m \u001b[0mrestore\u001b[0m\u001b[1;33m(\u001b[0m\u001b[0mself\u001b[0m\u001b[1;33m,\u001b[0m \u001b[0mfile_prefix\u001b[0m\u001b[1;33m,\u001b[0m \u001b[0moptions\u001b[0m\u001b[1;33m=\u001b[0m\u001b[1;32mNone\u001b[0m\u001b[1;33m)\u001b[0m\u001b[1;33m:\u001b[0m\u001b[1;33m\u001b[0m\u001b[1;33m\u001b[0m\u001b[0m\n",
      "\u001b[1;32m~\\AppData\\Roaming\\Python\\Python39\\site-packages\\tensorflow\\python\\checkpoint\\functional_saver.py\u001b[0m in \u001b[0;36msave_fn\u001b[1;34m()\u001b[0m\n\u001b[0;32m    334\u001b[0m           \u001b[1;31m# initial read operations should be placed on the SaveableObject's\u001b[0m\u001b[1;33m\u001b[0m\u001b[1;33m\u001b[0m\u001b[0m\n\u001b[0;32m    335\u001b[0m           \u001b[1;31m# device.\u001b[0m\u001b[1;33m\u001b[0m\u001b[1;33m\u001b[0m\u001b[0m\n\u001b[1;32m--> 336\u001b[1;33m           \u001b[0msharded_saves\u001b[0m\u001b[1;33m.\u001b[0m\u001b[0mappend\u001b[0m\u001b[1;33m(\u001b[0m\u001b[0msaver\u001b[0m\u001b[1;33m.\u001b[0m\u001b[0msave\u001b[0m\u001b[1;33m(\u001b[0m\u001b[0mshard_prefix\u001b[0m\u001b[1;33m,\u001b[0m \u001b[0moptions\u001b[0m\u001b[1;33m)\u001b[0m\u001b[1;33m)\u001b[0m\u001b[1;33m\u001b[0m\u001b[1;33m\u001b[0m\u001b[0m\n\u001b[0m\u001b[0;32m    337\u001b[0m \u001b[1;33m\u001b[0m\u001b[0m\n\u001b[0;32m    338\u001b[0m       \u001b[1;32mwith\u001b[0m \u001b[0mops\u001b[0m\u001b[1;33m.\u001b[0m\u001b[0mcontrol_dependencies\u001b[0m\u001b[1;33m(\u001b[0m\u001b[0msharded_saves\u001b[0m\u001b[1;33m)\u001b[0m\u001b[1;33m:\u001b[0m\u001b[1;33m\u001b[0m\u001b[1;33m\u001b[0m\u001b[0m\n",
      "\u001b[1;32m~\\AppData\\Roaming\\Python\\Python39\\site-packages\\tensorflow\\python\\checkpoint\\functional_saver.py\u001b[0m in \u001b[0;36msave\u001b[1;34m(self, file_prefix, options)\u001b[0m\n\u001b[0;32m     77\u001b[0m     \u001b[0msave_device\u001b[0m \u001b[1;33m=\u001b[0m \u001b[0moptions\u001b[0m\u001b[1;33m.\u001b[0m\u001b[0mexperimental_io_device\u001b[0m \u001b[1;32mor\u001b[0m \u001b[1;34m\"cpu:0\"\u001b[0m\u001b[1;33m\u001b[0m\u001b[1;33m\u001b[0m\u001b[0m\n\u001b[0;32m     78\u001b[0m     \u001b[1;32mwith\u001b[0m \u001b[0mops\u001b[0m\u001b[1;33m.\u001b[0m\u001b[0mdevice\u001b[0m\u001b[1;33m(\u001b[0m\u001b[0msave_device\u001b[0m\u001b[1;33m)\u001b[0m\u001b[1;33m:\u001b[0m\u001b[1;33m\u001b[0m\u001b[1;33m\u001b[0m\u001b[0m\n\u001b[1;32m---> 79\u001b[1;33m       \u001b[1;32mreturn\u001b[0m \u001b[0mio_ops\u001b[0m\u001b[1;33m.\u001b[0m\u001b[0msave_v2\u001b[0m\u001b[1;33m(\u001b[0m\u001b[0mfile_prefix\u001b[0m\u001b[1;33m,\u001b[0m \u001b[0mtensor_names\u001b[0m\u001b[1;33m,\u001b[0m \u001b[0mtensor_slices\u001b[0m\u001b[1;33m,\u001b[0m \u001b[0mtensors\u001b[0m\u001b[1;33m)\u001b[0m\u001b[1;33m\u001b[0m\u001b[1;33m\u001b[0m\u001b[0m\n\u001b[0m\u001b[0;32m     80\u001b[0m \u001b[1;33m\u001b[0m\u001b[0m\n\u001b[0;32m     81\u001b[0m   \u001b[1;32mdef\u001b[0m \u001b[0mrestore\u001b[0m\u001b[1;33m(\u001b[0m\u001b[0mself\u001b[0m\u001b[1;33m,\u001b[0m \u001b[0mfile_prefix\u001b[0m\u001b[1;33m,\u001b[0m \u001b[0moptions\u001b[0m\u001b[1;33m=\u001b[0m\u001b[1;32mNone\u001b[0m\u001b[1;33m)\u001b[0m\u001b[1;33m:\u001b[0m\u001b[1;33m\u001b[0m\u001b[1;33m\u001b[0m\u001b[0m\n",
      "\u001b[1;32m~\\AppData\\Roaming\\Python\\Python39\\site-packages\\tensorflow\\python\\ops\\gen_io_ops.py\u001b[0m in \u001b[0;36msave_v2\u001b[1;34m(prefix, tensor_names, shape_and_slices, tensors, name)\u001b[0m\n\u001b[0;32m   1720\u001b[0m       \u001b[1;32mpass\u001b[0m\u001b[1;33m\u001b[0m\u001b[1;33m\u001b[0m\u001b[0m\n\u001b[0;32m   1721\u001b[0m     \u001b[1;32mtry\u001b[0m\u001b[1;33m:\u001b[0m\u001b[1;33m\u001b[0m\u001b[1;33m\u001b[0m\u001b[0m\n\u001b[1;32m-> 1722\u001b[1;33m       return save_v2_eager_fallback(\n\u001b[0m\u001b[0;32m   1723\u001b[0m           \u001b[0mprefix\u001b[0m\u001b[1;33m,\u001b[0m \u001b[0mtensor_names\u001b[0m\u001b[1;33m,\u001b[0m \u001b[0mshape_and_slices\u001b[0m\u001b[1;33m,\u001b[0m \u001b[0mtensors\u001b[0m\u001b[1;33m,\u001b[0m \u001b[0mname\u001b[0m\u001b[1;33m=\u001b[0m\u001b[0mname\u001b[0m\u001b[1;33m,\u001b[0m\u001b[1;33m\u001b[0m\u001b[1;33m\u001b[0m\u001b[0m\n\u001b[0;32m   1724\u001b[0m           ctx=_ctx)\n",
      "\u001b[1;32m~\\AppData\\Roaming\\Python\\Python39\\site-packages\\tensorflow\\python\\ops\\gen_io_ops.py\u001b[0m in \u001b[0;36msave_v2_eager_fallback\u001b[1;34m(prefix, tensor_names, shape_and_slices, tensors, name, ctx)\u001b[0m\n\u001b[0;32m   1741\u001b[0m   \u001b[0m_inputs_flat\u001b[0m \u001b[1;33m=\u001b[0m \u001b[1;33m[\u001b[0m\u001b[0mprefix\u001b[0m\u001b[1;33m,\u001b[0m \u001b[0mtensor_names\u001b[0m\u001b[1;33m,\u001b[0m \u001b[0mshape_and_slices\u001b[0m\u001b[1;33m]\u001b[0m \u001b[1;33m+\u001b[0m \u001b[0mlist\u001b[0m\u001b[1;33m(\u001b[0m\u001b[0mtensors\u001b[0m\u001b[1;33m)\u001b[0m\u001b[1;33m\u001b[0m\u001b[1;33m\u001b[0m\u001b[0m\n\u001b[0;32m   1742\u001b[0m   \u001b[0m_attrs\u001b[0m \u001b[1;33m=\u001b[0m \u001b[1;33m(\u001b[0m\u001b[1;34m\"dtypes\"\u001b[0m\u001b[1;33m,\u001b[0m \u001b[0m_attr_dtypes\u001b[0m\u001b[1;33m)\u001b[0m\u001b[1;33m\u001b[0m\u001b[1;33m\u001b[0m\u001b[0m\n\u001b[1;32m-> 1743\u001b[1;33m   _result = _execute.execute(b\"SaveV2\", 0, inputs=_inputs_flat, attrs=_attrs,\n\u001b[0m\u001b[0;32m   1744\u001b[0m                              ctx=ctx, name=name)\n\u001b[0;32m   1745\u001b[0m   \u001b[0m_result\u001b[0m \u001b[1;33m=\u001b[0m \u001b[1;32mNone\u001b[0m\u001b[1;33m\u001b[0m\u001b[1;33m\u001b[0m\u001b[0m\n",
      "\u001b[1;32m~\\AppData\\Roaming\\Python\\Python39\\site-packages\\tensorflow\\python\\eager\\execute.py\u001b[0m in \u001b[0;36mquick_execute\u001b[1;34m(op_name, num_outputs, inputs, attrs, ctx, name)\u001b[0m\n\u001b[0;32m     52\u001b[0m   \u001b[1;32mtry\u001b[0m\u001b[1;33m:\u001b[0m\u001b[1;33m\u001b[0m\u001b[1;33m\u001b[0m\u001b[0m\n\u001b[0;32m     53\u001b[0m     \u001b[0mctx\u001b[0m\u001b[1;33m.\u001b[0m\u001b[0mensure_initialized\u001b[0m\u001b[1;33m(\u001b[0m\u001b[1;33m)\u001b[0m\u001b[1;33m\u001b[0m\u001b[1;33m\u001b[0m\u001b[0m\n\u001b[1;32m---> 54\u001b[1;33m     tensors = pywrap_tfe.TFE_Py_Execute(ctx._handle, device_name, op_name,\n\u001b[0m\u001b[0;32m     55\u001b[0m                                         inputs, attrs, num_outputs)\n\u001b[0;32m     56\u001b[0m   \u001b[1;32mexcept\u001b[0m \u001b[0mcore\u001b[0m\u001b[1;33m.\u001b[0m\u001b[0m_NotOkStatusException\u001b[0m \u001b[1;32mas\u001b[0m \u001b[0me\u001b[0m\u001b[1;33m:\u001b[0m\u001b[1;33m\u001b[0m\u001b[1;33m\u001b[0m\u001b[0m\n",
      "\u001b[1;31mKeyboardInterrupt\u001b[0m: "
     ]
    }
   ],
   "source": [
    "history = model.fit(dataset, epochs=EPOCHS, callbacks=[checkpoint_callback])"
   ]
  },
  {
   "cell_type": "code",
   "execution_count": 40,
   "metadata": {},
   "outputs": [],
   "source": [
    "class OneStep(tf.keras.Model):\n",
    "  def __init__(self, model, chars_from_ids, ids_from_chars, omit, temperature=1.0):\n",
    "    super().__init__()\n",
    "    self.temperature = temperature\n",
    "    self.model = model\n",
    "    self.chars_from_ids = chars_from_ids\n",
    "    self.ids_from_chars = ids_from_chars\n",
    "\n",
    "    # Create a mask to prevent \"[UNK]\" from being generated.\n",
    "\n",
    "    #USE THIS TO CHANGE WHICH OUTPUTS ARE ALLOWED\n",
    "    skip_ids = self.ids_from_chars(omit)[:, None]\n",
    "\n",
    "    sparse_mask = tf.SparseTensor(\n",
    "        # Put a -inf at each bad index.\n",
    "        values=[-float('inf')]*len(skip_ids),\n",
    "        indices=skip_ids,\n",
    "        # Match the shape to the vocabulary\n",
    "        dense_shape=[len(ids_from_chars.get_vocabulary())])\n",
    "    self.prediction_mask = tf.sparse.to_dense(sparse_mask)\n",
    "\n",
    "  #@tf.function\n",
    "  def generate_one_step(self, inputs, states=None):\n",
    "    # Convert strings to token IDs.\n",
    "    input_chars = tf.strings.unicode_split(inputs, 'UTF-8')\n",
    "    input_ids = self.ids_from_chars(input_chars).to_tensor()\n",
    "\n",
    "    # Run the model.\n",
    "    # predicted_logits.shape is [batch, char, next_char_logits]\n",
    "    predicted_logits, states = self.model(inputs=input_ids, states=states,\n",
    "                                          return_state=True)\n",
    "    # Only use the last prediction.\n",
    "    predicted_logits = predicted_logits[:, -1, :]\n",
    "\n",
    "    predicted_logits = predicted_logits/self.temperature\n",
    "    # Apply the prediction mask: prevent \"[UNK]\" from being generated.\n",
    "    predicted_logits = predicted_logits + self.prediction_mask\n",
    "\n",
    "    # Sample the output logits to generate token IDs.\n",
    "    predicted_ids = tf.random.categorical(predicted_logits, num_samples=1)\n",
    "    predicted_ids = tf.squeeze(predicted_ids, axis=-1)\n",
    "\n",
    "    # Convert from token ids to characters\n",
    "    predicted_chars = self.chars_from_ids(predicted_ids)\n",
    "\n",
    "    # Return the characters and model state.\n",
    "    return predicted_chars, states"
   ]
  },
  {
   "cell_type": "code",
   "execution_count": 41,
   "metadata": {},
   "outputs": [
    {
     "name": "stdout",
     "output_type": "stream",
     "text": [
      "{40: ['E0'], 41: ['E1'], 42: ['E2'], 43: ['E3'], 44: ['E4'], 45: ['E5', 'A0'], 46: ['E6', 'A1'], 47: ['E7', 'A2'], 48: ['E8', 'A3'], 49: ['E9', 'A4'], 50: ['E10', 'A5', 'D0'], 51: ['E11', 'A6', 'D1'], 52: ['E12', 'A7', 'D2'], 53: ['E13', 'A8', 'D3'], 54: ['E14', 'A9', 'D4'], 55: ['E15', 'A10', 'D5', 'G0'], 56: ['E16', 'A11', 'D6', 'G1'], 57: ['E17', 'A12', 'D7', 'G2'], 58: ['E18', 'A13', 'D8', 'G3'], 59: ['E19', 'A14', 'D9', 'G4', 'B0'], 60: ['E20', 'A15', 'D10', 'G5', 'B1'], 61: ['E21', 'A16', 'D11', 'G6', 'B2'], 62: ['E22', 'A17', 'D12', 'G7', 'B3'], 63: ['E23', 'A18', 'D13', 'G8', 'B4'], 64: ['E24', 'A19', 'D14', 'G9', 'B5', 'e0'], 65: ['A20', 'D15', 'G10', 'B6', 'e1'], 66: ['A21', 'D16', 'G11', 'B7', 'e2'], 67: ['A22', 'D17', 'G12', 'B8', 'e3'], 68: ['A23', 'D18', 'G13', 'B9', 'e4'], 69: ['A24', 'D19', 'G14', 'B10', 'e5'], 70: ['D20', 'G15', 'B11', 'e6'], 71: ['D21', 'G16', 'B12', 'e7'], 72: ['D22', 'G17', 'B13', 'e8'], 73: ['D23', 'G18', 'B14', 'e9'], 74: ['D24', 'G19', 'B15', 'e10'], 75: ['G20', 'B16', 'e11'], 76: ['G21', 'B17', 'e12'], 77: ['G22', 'B18', 'e13'], 78: ['G23', 'B19', 'e14'], 79: ['G24', 'B20', 'e15'], 80: ['B21', 'e16'], 81: ['B22', 'e17'], 82: ['B23', 'e18'], 83: ['B24', 'e19'], 84: ['e20'], 85: ['e21'], 86: ['e22'], 87: ['e23'], 88: ['e24']}\n"
     ]
    }
   ],
   "source": [
    "from MidiToTabOptions import *\n",
    "tab_midi_dict = generate_tab_midi_pairs()"
   ]
  },
  {
   "cell_type": "code",
   "execution_count": 42,
   "metadata": {},
   "outputs": [
    {
     "name": "stdout",
     "output_type": "stream",
     "text": [
      "tf.Tensor([b'D7 G5 '], shape=(1,), dtype=string)\n",
      "tf.Tensor([b'D7 G5 G6 '], shape=(1,), dtype=string)\n",
      "tf.Tensor([b'D7 G5 G6 G8 '], shape=(1,), dtype=string)\n",
      "tf.Tensor([b'D7 G5 G6 G8 G5 '], shape=(1,), dtype=string)\n",
      "tf.Tensor([b'D7 G5 G6 G8 G5 D6 '], shape=(1,), dtype=string)\n",
      "tf.Tensor([b'D7 G5 G6 G8 G5 D6 G3 '], shape=(1,), dtype=string)\n"
     ]
    }
   ],
   "source": [
    "#Array of Midi notes\n",
    "notes = [60, 61 , 63, 60, 56, 58]\n",
    "#notes = [74, 69, 67, 79, 69, 78, 69, 62, 74, 69, 67, 79, 69, 78, 69]\n",
    "states = None\n",
    "\n",
    "#First tab note, hard coded\n",
    "base_tab = 'D7 '\n",
    "#base_tab = 'D12 '\n",
    "\n",
    "\n",
    "#Dynamically starting input \n",
    "append_tab = tf.constant([base_tab])\n",
    "for note in notes:\n",
    "\n",
    "    #Finds all tab options for the current note and \n",
    "    #removes them from the omitted option list in the OneStep function\n",
    "    options = ['[UNK]']\n",
    "    options.extend(tab_midi_dict[note])\n",
    "    omit = list(set(ids_from_chars.get_vocabulary()) - set(options))\n",
    "    omit.insert(0, '[UNK]')\n",
    "\n",
    "    omit_sorted = []\n",
    "    for item in ids_from_chars.get_vocabulary():\n",
    "        if item in omit:\n",
    "            omit_sorted.append(item)\n",
    "\n",
    "    #generates the next predicted tab note out of the set of possible options\n",
    "    one_step_model = OneStep(model, chars_from_ids, ids_from_chars, omit_sorted)\n",
    "\n",
    "    #bootstrap the predictions \n",
    "    bootstrap_list = []    \n",
    "    for i in range(100):\n",
    "        next_char, states = one_step_model.generate_one_step(append_tab, states=states)    \n",
    "        bootstrap_list.append(next_char.numpy()[0].decode('utf-8'))\n",
    "    next_tab = max(set(bootstrap_list), key=bootstrap_list.count)\n",
    "\n",
    "\n",
    "    #append new tab to input list\n",
    "    append_tab = tf.constant([append_tab.numpy()[0].decode('utf-8') + next_tab + ' '])\n",
    "    print(append_tab)"
   ]
  }
 ],
 "metadata": {
  "kernelspec": {
   "display_name": "base",
   "language": "python",
   "name": "python3"
  },
  "language_info": {
   "codemirror_mode": {
    "name": "ipython",
    "version": 3
   },
   "file_extension": ".py",
   "mimetype": "text/x-python",
   "name": "python",
   "nbconvert_exporter": "python",
   "pygments_lexer": "ipython3",
   "version": "3.9.13"
  },
  "orig_nbformat": 4,
  "vscode": {
   "interpreter": {
    "hash": "5b6ddfb2dcac28d85c50c41a252d540a7fa8764b66ffa4029a84ab1fab305572"
   }
  }
 },
 "nbformat": 4,
 "nbformat_minor": 2
}
