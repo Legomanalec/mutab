{
 "cells": [
  {
   "cell_type": "code",
   "execution_count": 1,
   "metadata": {},
   "outputs": [],
   "source": [
    "import tensorflow as tf\n",
    "import numpy as np"
   ]
  },
  {
   "cell_type": "code",
   "execution_count": 2,
   "metadata": {},
   "outputs": [
    {
     "data": {
      "text/plain": [
       "[PhysicalDevice(name='/physical_device:GPU:0', device_type='GPU')]"
      ]
     },
     "execution_count": 2,
     "metadata": {},
     "output_type": "execute_result"
    }
   ],
   "source": [
    "tf.config.list_physical_devices('GPU')"
   ]
  },
  {
   "cell_type": "code",
   "execution_count": 3,
   "metadata": {},
   "outputs": [],
   "source": [
    "lst = []\n",
    "\n",
    "with open('../data/full_tab_string.txt') as small_pf:\n",
    "\n",
    "    tmp_list = []\n",
    "    for line in small_pf:\n",
    "        line = line.rstrip(\"\\n\")\n",
    "        if line == \"\":\n",
    "            lst.append(tmp_list)\n",
    "            tmp_list = []\n",
    "        else:\n",
    "            tmp_list.extend(line.split())\n",
    "\n",
    "    if tmp_list:  # add last one\n",
    "        lst.append(tmp_list)\n",
    "lst = lst[0]"
   ]
  },
  {
   "cell_type": "code",
   "execution_count": 4,
   "metadata": {},
   "outputs": [],
   "source": [
    "text = \"\"\n",
    "with open('../data/full_tab_string.txt') as small_pf:\n",
    "    text = small_pf.read()"
   ]
  },
  {
   "cell_type": "code",
   "execution_count": 5,
   "metadata": {},
   "outputs": [],
   "source": [
    "#Can't use set because tab encodings are not hashable types\n",
    "def unique(list1):\n",
    "    unique_set = set()\n",
    "    for x in list1:\n",
    "        if x not in unique_set:\n",
    "            unique_set.add(x)\n",
    "    return unique_set"
   ]
  },
  {
   "cell_type": "code",
   "execution_count": 6,
   "metadata": {},
   "outputs": [],
   "source": [
    "#list of all tab locations\n",
    "tab_vocab = unique(lst)"
   ]
  },
  {
   "cell_type": "code",
   "execution_count": 7,
   "metadata": {},
   "outputs": [],
   "source": [
    "#this is a quick fix and needs to be done at the raw data level\n",
    "new_list = []\n",
    "for tab in tab_vocab:\n",
    "    if int(tab[1:]) <= 22:\n",
    "        new_list.append(tab)\n",
    "tab_vocab = new_list"
   ]
  },
  {
   "cell_type": "code",
   "execution_count": 8,
   "metadata": {},
   "outputs": [
    {
     "name": "stdout",
     "output_type": "stream",
     "text": [
      "['[UNK]', 'D11', 'A0', 'G15', 'D15', 'B9', 'D22', 'G6', 'G16', 'B10', 'E12', 'E3', 'A17', 'A11', 'D0', 'e18', 'B18', 'B8', 'D6', 'e17', 'E7', 'B3', 'G12', 'e7', 'E0', 'D20', 'A22', 'e14', 'E22', 'E9', 'D21', 'D3', 'A10', 'E20', 'B22', 'E18', 'D17', 'A9', 'G14', 'e20', 'E13', 'B19', 'G1', 'A6', 'E10', 'E2', 'e15', 'A8', 'B7', 'D2', 'e22', 'e3', 'G4', 'E19', 'A18', 'G7', 'B6', 'E17', 'A4', 'E1', 'D14', 'D12', 'E5', 'G9', 'e16', 'E16', 'B14', 'G22', 'B12', 'A19', 'e10', 'B20', 'B11', 'e11', 'A14', 'G20', 'A1', 'A15', 'e1', 'D4', 'A5', 'D13', 'G2', 'e21', 'D1', 'e8', 'e0', 'G19', 'B2', 'E4', 'B5', 'B4', 'E15', 'D5', 'G17', 'e13', 'D19', 'G3', 'G8', 'B17', 'A16', 'B1', 'B0', 'e9', 'D18', 'e6', 'G5', 'A20', 'A3', 'E11', 'A21', 'G21', 'e2', 'D10', 'G18', 'D7', 'D16', 'B21', 'e4', 'G11', 'e5', 'A2', 'B15', 'e12', 'E6', 'G10', 'B13', 'E8', 'G13', 'A13', 'B16', 'A12', 'A7', 'D9', 'E14', 'G0', 'e19', 'D8']\n"
     ]
    }
   ],
   "source": [
    "ids_from_chars = tf.keras.layers.StringLookup(\n",
    "    num_oov_indices = 1, \n",
    "    vocabulary=list(tab_vocab), \n",
    "    mask_token=None)\n",
    "print(ids_from_chars.get_vocabulary())"
   ]
  },
  {
   "cell_type": "code",
   "execution_count": 9,
   "metadata": {},
   "outputs": [],
   "source": [
    "chars_from_ids = tf.keras.layers.StringLookup(\n",
    "    vocabulary=ids_from_chars.get_vocabulary(), invert=True, mask_token=None)\n"
   ]
  },
  {
   "cell_type": "code",
   "execution_count": 10,
   "metadata": {},
   "outputs": [],
   "source": [
    "def text_from_ids(ids):\n",
    "  return tf.strings.reduce_join(chars_from_ids(ids) + \" \", axis=-1)"
   ]
  },
  {
   "cell_type": "code",
   "execution_count": 11,
   "metadata": {},
   "outputs": [],
   "source": [
    "all_ids = ids_from_chars(tf.strings.split(text))"
   ]
  },
  {
   "cell_type": "code",
   "execution_count": 12,
   "metadata": {},
   "outputs": [
    {
     "data": {
      "text/plain": [
       "tensorflow.python.data.ops.dataset_ops.TensorSliceDataset"
      ]
     },
     "execution_count": 12,
     "metadata": {},
     "output_type": "execute_result"
    }
   ],
   "source": [
    "ids_dataset = tf.data.Dataset.from_tensor_slices(all_ids)\n",
    "type(ids_dataset)"
   ]
  },
  {
   "cell_type": "code",
   "execution_count": 13,
   "metadata": {},
   "outputs": [],
   "source": [
    "seq_length = 10"
   ]
  },
  {
   "cell_type": "code",
   "execution_count": 14,
   "metadata": {},
   "outputs": [
    {
     "name": "stdout",
     "output_type": "stream",
     "text": [
      "<class 'tensorflow.python.data.ops.dataset_ops.BatchDataset'>\n",
      "tf.Tensor([b'D7' b'G5' b'B5' b'e5' b'e7' b'D6' b'B5' b'G5' b'e7' b'e8' b'D5'], shape=(11,), dtype=string)\n",
      "<class 'tensorflow.python.framework.ops.EagerTensor'>\n"
     ]
    }
   ],
   "source": [
    "sequences = ids_dataset.batch(seq_length+1, drop_remainder=True)\n",
    "print(type(sequences))\n",
    "for seq in sequences.take(1):\n",
    "  print(chars_from_ids(seq))\n",
    "  print(type(seq))"
   ]
  },
  {
   "cell_type": "code",
   "execution_count": 15,
   "metadata": {},
   "outputs": [],
   "source": [
    "def split_input_target(sequence):\n",
    "    input_text = sequence[:-1]\n",
    "    target_text = sequence[1:]\n",
    "    return input_text, target_text"
   ]
  },
  {
   "cell_type": "code",
   "execution_count": 16,
   "metadata": {},
   "outputs": [
    {
     "data": {
      "text/plain": [
       "<MapDataset element_spec=(TensorSpec(shape=(10,), dtype=tf.int64, name=None), TensorSpec(shape=(10,), dtype=tf.int64, name=None))>"
      ]
     },
     "execution_count": 16,
     "metadata": {},
     "output_type": "execute_result"
    }
   ],
   "source": [
    "dataset = sequences.map(split_input_target)\n",
    "dataset\n",
    "\n"
   ]
  },
  {
   "cell_type": "code",
   "execution_count": 17,
   "metadata": {},
   "outputs": [
    {
     "name": "stdout",
     "output_type": "stream",
     "text": [
      "Input : b'D7 G5 B5 e5 e7 D6 B5 G5 e7 e8 '\n",
      "Target: b'G5 B5 e5 e7 D6 B5 G5 e7 e8 D5 '\n"
     ]
    }
   ],
   "source": [
    "for input_example, target_example in dataset.take(1):\n",
    "    print(\"Input :\", text_from_ids(input_example).numpy())\n",
    "    print(\"Target:\", text_from_ids(target_example).numpy())"
   ]
  },
  {
   "cell_type": "code",
   "execution_count": 18,
   "metadata": {},
   "outputs": [
    {
     "data": {
      "text/plain": [
       "<PrefetchDataset element_spec=(TensorSpec(shape=(64, 10), dtype=tf.int64, name=None), TensorSpec(shape=(64, 10), dtype=tf.int64, name=None))>"
      ]
     },
     "execution_count": 18,
     "metadata": {},
     "output_type": "execute_result"
    }
   ],
   "source": [
    "# Batch size\n",
    "BATCH_SIZE = 64\n",
    "\n",
    "# Buffer size to shuffle the dataset\n",
    "# (TF data is designed to work with possibly infinite sequences,\n",
    "# so it doesn't attempt to shuffle the entire sequence in memory. Instead,\n",
    "# it maintains a buffer in which it shuffles elements).\n",
    "BUFFER_SIZE = 10000\n",
    "\n",
    "dataset = (\n",
    "    dataset\n",
    "    .shuffle(BUFFER_SIZE)\n",
    "    .batch(BATCH_SIZE, drop_remainder=True)\n",
    "    .prefetch(tf.data.experimental.AUTOTUNE))\n",
    "\n",
    "dataset"
   ]
  },
  {
   "cell_type": "code",
   "execution_count": 19,
   "metadata": {},
   "outputs": [],
   "source": [
    "# Length of the vocabulary in StringLookup Layer\n",
    "vocab_size = len(ids_from_chars.get_vocabulary())\n",
    "\n",
    "# The embedding dimension\n",
    "embedding_dim = 64\n",
    "\n",
    "# Number of RNN units\n",
    "rnn_units = 1024"
   ]
  },
  {
   "cell_type": "code",
   "execution_count": 20,
   "metadata": {},
   "outputs": [],
   "source": [
    "class MyModel(tf.keras.Model):\n",
    "  def __init__(self, vocab_size, embedding_dim, rnn_units):\n",
    "    super().__init__(self)\n",
    "    self.embedding = tf.keras.layers.Embedding(vocab_size, embedding_dim)\n",
    "    self.gru = tf.keras.layers.GRU(rnn_units,\n",
    "                                   return_sequences=True,\n",
    "                                   return_state=True)\n",
    "\n",
    "    #adjust the dense units size                         \n",
    "    self.dense = tf.keras.layers.Dense(vocab_size)\n",
    "\n",
    "  def call(self, inputs, states=None, return_state=False, training=False):\n",
    "    x = inputs\n",
    "    x = self.embedding(x, training=training)\n",
    "    if states is None:\n",
    "      states = self.gru.get_initial_state(x)\n",
    "    x, states = self.gru(x, initial_state=states, training=training)\n",
    "    x = self.dense(x, training=training)\n",
    "\n",
    "    if return_state:\n",
    "      return x, states\n",
    "    else:\n",
    "      return x"
   ]
  },
  {
   "cell_type": "code",
   "execution_count": 21,
   "metadata": {},
   "outputs": [],
   "source": [
    "model = MyModel(\n",
    "    vocab_size=vocab_size,\n",
    "    embedding_dim=embedding_dim,\n",
    "    rnn_units=rnn_units)"
   ]
  },
  {
   "cell_type": "code",
   "execution_count": 22,
   "metadata": {},
   "outputs": [
    {
     "name": "stdout",
     "output_type": "stream",
     "text": [
      "(64, 10, 138) # (batch_size, sequence_length, vocab_size)\n"
     ]
    }
   ],
   "source": [
    "for input_example_batch, target_example_batch in dataset.take(1):\n",
    "    example_batch_predictions = model(input_example_batch)\n",
    "    print(example_batch_predictions.shape, \"# (batch_size, sequence_length, vocab_size)\")"
   ]
  },
  {
   "cell_type": "code",
   "execution_count": 23,
   "metadata": {},
   "outputs": [
    {
     "name": "stdout",
     "output_type": "stream",
     "text": [
      "Model: \"my_model\"\n",
      "_________________________________________________________________\n",
      " Layer (type)                Output Shape              Param #   \n",
      "=================================================================\n",
      " embedding (Embedding)       multiple                  8832      \n",
      "                                                                 \n",
      " gru (GRU)                   multiple                  3348480   \n",
      "                                                                 \n",
      " dense (Dense)               multiple                  141450    \n",
      "                                                                 \n",
      "=================================================================\n",
      "Total params: 3,498,762\n",
      "Trainable params: 3,498,762\n",
      "Non-trainable params: 0\n",
      "_________________________________________________________________\n"
     ]
    }
   ],
   "source": [
    "model.summary()"
   ]
  },
  {
   "cell_type": "code",
   "execution_count": 24,
   "metadata": {},
   "outputs": [],
   "source": [
    "sampled_indices = tf.random.categorical(example_batch_predictions[0], num_samples=1)\n",
    "sampled_indices = tf.squeeze(sampled_indices, axis=-1).numpy()"
   ]
  },
  {
   "cell_type": "code",
   "execution_count": 25,
   "metadata": {},
   "outputs": [
    {
     "data": {
      "text/plain": [
       "array([ 12, 120, 125, 121,  98,  26, 131, 122,  77,  42], dtype=int64)"
      ]
     },
     "execution_count": 25,
     "metadata": {},
     "output_type": "execute_result"
    }
   ],
   "source": [
    "sampled_indices"
   ]
  },
  {
   "cell_type": "code",
   "execution_count": 26,
   "metadata": {},
   "outputs": [],
   "source": [
    "loss = tf.losses.SparseCategoricalCrossentropy(from_logits=True)"
   ]
  },
  {
   "cell_type": "code",
   "execution_count": 27,
   "metadata": {},
   "outputs": [
    {
     "name": "stdout",
     "output_type": "stream",
     "text": [
      "Prediction shape:  (64, 10, 138)  # (batch_size, sequence_length, vocab_size)\n",
      "Mean loss:         tf.Tensor(4.9267, shape=(), dtype=float32)\n"
     ]
    }
   ],
   "source": [
    "example_batch_mean_loss = loss(target_example_batch, example_batch_predictions)\n",
    "print(\"Prediction shape: \", example_batch_predictions.shape, \" # (batch_size, sequence_length, vocab_size)\")\n",
    "print(\"Mean loss:        \", example_batch_mean_loss)"
   ]
  },
  {
   "cell_type": "code",
   "execution_count": 28,
   "metadata": {},
   "outputs": [],
   "source": [
    "model.compile(optimizer='adam', loss=loss)"
   ]
  },
  {
   "cell_type": "code",
   "execution_count": 29,
   "metadata": {},
   "outputs": [
    {
     "ename": "NameError",
     "evalue": "name 'os' is not defined",
     "output_type": "error",
     "traceback": [
      "\u001b[1;31m---------------------------------------------------------------------------\u001b[0m",
      "\u001b[1;31mNameError\u001b[0m                                 Traceback (most recent call last)",
      "\u001b[1;32m~\\AppData\\Local\\Temp\\ipykernel_12956\\1561751826.py\u001b[0m in \u001b[0;36m<module>\u001b[1;34m\u001b[0m\n\u001b[0;32m      2\u001b[0m \u001b[0mcheckpoint_dir\u001b[0m \u001b[1;33m=\u001b[0m \u001b[1;34m'./tab_training_checkpoints'\u001b[0m\u001b[1;33m\u001b[0m\u001b[1;33m\u001b[0m\u001b[0m\n\u001b[0;32m      3\u001b[0m \u001b[1;31m# Name of the checkpoint files\u001b[0m\u001b[1;33m\u001b[0m\u001b[1;33m\u001b[0m\u001b[0m\n\u001b[1;32m----> 4\u001b[1;33m \u001b[0mcheckpoint_prefix\u001b[0m \u001b[1;33m=\u001b[0m \u001b[0mos\u001b[0m\u001b[1;33m.\u001b[0m\u001b[0mpath\u001b[0m\u001b[1;33m.\u001b[0m\u001b[0mjoin\u001b[0m\u001b[1;33m(\u001b[0m\u001b[0mcheckpoint_dir\u001b[0m\u001b[1;33m,\u001b[0m \u001b[1;34m\"ckpt_{epoch}\"\u001b[0m\u001b[1;33m)\u001b[0m\u001b[1;33m\u001b[0m\u001b[1;33m\u001b[0m\u001b[0m\n\u001b[0m\u001b[0;32m      5\u001b[0m \u001b[1;33m\u001b[0m\u001b[0m\n\u001b[0;32m      6\u001b[0m checkpoint_callback = tf.keras.callbacks.ModelCheckpoint(\n",
      "\u001b[1;31mNameError\u001b[0m: name 'os' is not defined"
     ]
    }
   ],
   "source": [
    "# Directory where the checkpoints will be saved\n",
    "checkpoint_dir = './tab_training_checkpoints'\n",
    "# Name of the checkpoint files\n",
    "checkpoint_prefix = os.path.join(checkpoint_dir, \"ckpt_{epoch}\")\n",
    "\n",
    "checkpoint_callback = tf.keras.callbacks.ModelCheckpoint(\n",
    "    filepath=checkpoint_prefix,\n",
    "    save_weights_only=True)"
   ]
  },
  {
   "cell_type": "code",
   "execution_count": null,
   "metadata": {},
   "outputs": [],
   "source": [
    "EPOCHS = 10"
   ]
  },
  {
   "cell_type": "code",
   "execution_count": null,
   "metadata": {},
   "outputs": [
    {
     "name": "stdout",
     "output_type": "stream",
     "text": [
      "Epoch 1/10\n",
      "411/411 [==============================] - 3s 6ms/step - loss: 0.7778\n",
      "Epoch 2/10\n",
      "411/411 [==============================] - 2s 6ms/step - loss: 0.7715\n",
      "Epoch 3/10\n",
      "411/411 [==============================] - 2s 6ms/step - loss: 0.7648\n",
      "Epoch 4/10\n",
      "411/411 [==============================] - 3s 6ms/step - loss: 0.7598\n",
      "Epoch 5/10\n",
      "411/411 [==============================] - 3s 6ms/step - loss: 0.7549\n",
      "Epoch 6/10\n",
      "411/411 [==============================] - 2s 6ms/step - loss: 0.7517\n",
      "Epoch 7/10\n",
      "411/411 [==============================] - 2s 6ms/step - loss: 0.7470\n",
      "Epoch 8/10\n",
      "411/411 [==============================] - 3s 6ms/step - loss: 0.7443\n",
      "Epoch 9/10\n",
      "411/411 [==============================] - 2s 6ms/step - loss: 0.7419\n",
      "Epoch 10/10\n",
      "411/411 [==============================] - 3s 6ms/step - loss: 0.7378\n"
     ]
    }
   ],
   "source": [
    "history = model.fit(dataset, epochs=EPOCHS, callbacks=[checkpoint_callback])"
   ]
  },
  {
   "cell_type": "code",
   "execution_count": 30,
   "metadata": {},
   "outputs": [],
   "source": [
    "class OneStep(tf.keras.Model):\n",
    "  def __init__(self, model, chars_from_ids, ids_from_chars, omit, temperature=1.0):\n",
    "    super().__init__()\n",
    "    self.temperature = temperature\n",
    "    self.model = model\n",
    "    self.chars_from_ids = chars_from_ids\n",
    "    self.ids_from_chars = ids_from_chars\n",
    "\n",
    "    # Create a mask to prevent \"[UNK]\" from being generated.\n",
    "\n",
    "    skip_ids = self.ids_from_chars(omit)[:, None]\n",
    "\n",
    "    sparse_mask = tf.SparseTensor(\n",
    "        # Put a -inf at each bad index.\n",
    "        values=[-float('inf')]*len(skip_ids),\n",
    "        indices=skip_ids,\n",
    "        # Match the shape to the vocabulary\n",
    "        dense_shape=[len(ids_from_chars.get_vocabulary())])\n",
    "    self.prediction_mask = tf.sparse.to_dense(sparse_mask)\n",
    "\n",
    "  @tf.function\n",
    "  def generate_one_step(self, inputs, omit, states=None):\n",
    "    # Convert strings to token IDs.\n",
    "    input_chars = tf.strings.unicode_split(inputs, 'UTF-8')\n",
    "    input_ids = self.ids_from_chars(input_chars).to_tensor()\n",
    "\n",
    "    # Run the model.\n",
    "    # predicted_logits.shape is [batch, char, next_char_logits]\n",
    "    predicted_logits, states = self.model(inputs=input_ids, states=states,\n",
    "                                          return_state=True)\n",
    "    # Only use the last prediction.\n",
    "    predicted_logits = predicted_logits[:, -1, :]\n",
    "\n",
    "    predicted_logits = predicted_logits/self.temperature\n",
    "    # Apply the prediction mask: prevent \"[UNK]\" from being generated.\n",
    "\n",
    "    predicted_logits = predicted_logits + self.prediction_mask\n",
    "\n",
    "    # Sample the output logits to generate token IDs.\n",
    "    predicted_ids = tf.random.categorical(predicted_logits, num_samples=1)\n",
    "    predicted_ids = tf.squeeze(predicted_ids, axis=-1)\n",
    "\n",
    "    # Convert from token ids to characters\n",
    "    predicted_chars = self.chars_from_ids(predicted_ids)\n",
    "\n",
    "    # Return the characters and model state.\n",
    "    return predicted_chars, states"
   ]
  },
  {
   "cell_type": "code",
   "execution_count": 31,
   "metadata": {},
   "outputs": [],
   "source": [
    "from MidiToTabOptions import *\n",
    "tab_midi_dict = generate_tab_midi_pairs()"
   ]
  },
  {
   "cell_type": "code",
   "execution_count": 36,
   "metadata": {},
   "outputs": [
    {
     "data": {
      "text/plain": [
       "[57,\n",
       " 60,\n",
       " 64,\n",
       " 69,\n",
       " 71,\n",
       " 64,\n",
       " 60,\n",
       " 71,\n",
       " 72,\n",
       " 64,\n",
       " 60,\n",
       " 72,\n",
       " 66,\n",
       " 62,\n",
       " 57,\n",
       " 66,\n",
       " 64,\n",
       " 60,\n",
       " 57,\n",
       " 60,\n",
       " 64,\n",
       " 60,\n",
       " 57,\n",
       " 59,\n",
       " 60,\n",
       " 60,\n",
       " 60,\n",
       " 84,\n",
       " 84,\n",
       " 84,\n",
       " 84,\n",
       " 84,\n",
       " 84,\n",
       " 86]"
      ]
     },
     "execution_count": 36,
     "metadata": {},
     "output_type": "execute_result"
    }
   ],
   "source": [
    "from MidiToArray import *\n",
    "notes = MidiToArray(r\"C:\\Users\\alecr\\desktop\\mutab\\Sandbox\\samples\\sample.mid\")\n",
    "notes\n",
    "\n"
   ]
  },
  {
   "cell_type": "code",
   "execution_count": 37,
   "metadata": {},
   "outputs": [],
   "source": [
    "#Array of Midi notes\n",
    "#notes = [60, 61, 63, 60, 56, 58]\n",
    "states = None\n",
    "\n",
    "#First tab note, hard coded\n",
    "base_tab = 'D7 '\n",
    "\n",
    "#Dynamically starting input \n",
    "append_tab = tf.constant([base_tab])\n",
    "for note in notes:\n",
    "\n",
    "    #Finds all tab options for the current note and \n",
    "    #removes them from the omitted option list in the OneStep function\n",
    "    options = ['[UNK]']\n",
    "    options.extend(tab_midi_dict[note])\n",
    "    omit = list(set(ids_from_chars.get_vocabulary()) - set(options))\n",
    "    omit.insert(0, '[UNK]')\n",
    "\n",
    "    omit_sorted = []\n",
    "    for item in ids_from_chars.get_vocabulary():\n",
    "        if item in omit:\n",
    "            omit_sorted.append(item)\n",
    "\n",
    "    #generates the next predicted tab note out of the set of possible options\n",
    "    tf.keras.backend.clear_session()\n",
    "    one_step_model = OneStep(model, chars_from_ids, ids_from_chars, omit_sorted)\n",
    "\n",
    "    #bootstrap the predictions \n",
    "    bootstrap_list = []    \n",
    "    for i in range(100):\n",
    "        next_char, states = one_step_model.generate_one_step(append_tab, omit_sorted, states=states)    \n",
    "        bootstrap_list.append(next_char.numpy()[0].decode('utf-8'))\n",
    "    next_tab = max(set(bootstrap_list), key=bootstrap_list.count)\n",
    "\n",
    "\n",
    "    #append new tab to input list\n",
    "    append_tab = tf.constant([append_tab.numpy()[0].decode('utf-8') + next_tab + ' '])\n"
   ]
  },
  {
   "cell_type": "code",
   "execution_count": 38,
   "metadata": {},
   "outputs": [
    {
     "name": "stdout",
     "output_type": "stream",
     "text": [
      "e|------------------------------------------------------------------------------------20-20-20-20-20-20-22-\n",
      "B|------------------5-----------------13-7-----------------------------------------------------------------\n",
      "G|---------------------------------------------2-----9-----------------2--4-----5--------------------------\n",
      "D|7--7--10-14-19-21-------21-22-14----------------16-------7--10-14----------10----------------------------\n",
      "A|---------------------15-------------------------------------------15-------------------------------------\n",
      "E|---------------------------------20-------22----------20-------------------------20----------------------\n",
      "\n"
     ]
    }
   ],
   "source": [
    "string = str(append_tab.numpy()[0].decode('utf-8'))\n",
    "array = string.split(' ')[:-1]\n",
    "print(convert_array_to_tab(array))"
   ]
  },
  {
   "cell_type": "code",
   "execution_count": null,
   "metadata": {},
   "outputs": [
    {
     "name": "stdout",
     "output_type": "stream",
     "text": [
      "tf.Tensor([b'D8 G5 B2 B4 G5 A11 D8 '], shape=(1,), dtype=string)\n"
     ]
    }
   ],
   "source": [
    "print(append_tab)"
   ]
  }
 ],
 "metadata": {
  "kernelspec": {
   "display_name": "base",
   "language": "python",
   "name": "python3"
  },
  "language_info": {
   "codemirror_mode": {
    "name": "ipython",
    "version": 3
   },
   "file_extension": ".py",
   "mimetype": "text/x-python",
   "name": "python",
   "nbconvert_exporter": "python",
   "pygments_lexer": "ipython3",
   "version": "3.9.13"
  },
  "orig_nbformat": 4,
  "vscode": {
   "interpreter": {
    "hash": "5b6ddfb2dcac28d85c50c41a252d540a7fa8764b66ffa4029a84ab1fab305572"
   }
  }
 },
 "nbformat": 4,
 "nbformat_minor": 2
}
