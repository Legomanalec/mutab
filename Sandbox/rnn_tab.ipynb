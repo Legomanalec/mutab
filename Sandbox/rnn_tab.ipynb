{
 "cells": [
  {
   "cell_type": "code",
   "execution_count": 1,
   "metadata": {},
   "outputs": [],
   "source": [
    "import tensorflow as tf\n",
    "import numpy as np"
   ]
  },
  {
   "cell_type": "code",
   "execution_count": 97,
   "metadata": {},
   "outputs": [
    {
     "data": {
      "text/plain": [
       "[PhysicalDevice(name='/physical_device:GPU:0', device_type='GPU')]"
      ]
     },
     "execution_count": 97,
     "metadata": {},
     "output_type": "execute_result"
    }
   ],
   "source": [
    "#Verify Tensorflow is using GPU\n",
    "tf.config.list_physical_devices('GPU')"
   ]
  },
  {
   "cell_type": "code",
   "execution_count": 98,
   "metadata": {},
   "outputs": [],
   "source": [
    "lst = []\n",
    "\n",
    "with open('../data/full_tab_string_test.txt') as small_pf:\n",
    "\n",
    "    tmp_list = []\n",
    "    for line in small_pf:\n",
    "        line = line.rstrip(\"\\n\")\n",
    "        if line == \"\":\n",
    "            lst.append(tmp_list)\n",
    "            tmp_list = []\n",
    "        else:\n",
    "            tmp_list.extend(line.split())\n",
    "\n",
    "    if tmp_list:  # add last one\n",
    "        lst.append(tmp_list)\n",
    "lst = lst[0]"
   ]
  },
  {
   "cell_type": "code",
   "execution_count": 99,
   "metadata": {},
   "outputs": [],
   "source": [
    "text = \"\"\n",
    "with open('../data/full_tab_string_test.txt') as small_pf:\n",
    "    text = small_pf.read()"
   ]
  },
  {
   "cell_type": "code",
   "execution_count": 100,
   "metadata": {},
   "outputs": [],
   "source": [
    "#Can't use set because tab encodings are not hashable types\n",
    "def unique(list1):\n",
    "    unique_set = set()\n",
    "    for x in list1:\n",
    "        if x not in unique_set:\n",
    "            unique_set.add(x)\n",
    "    return unique_set"
   ]
  },
  {
   "cell_type": "code",
   "execution_count": 101,
   "metadata": {},
   "outputs": [],
   "source": [
    "#list of all tab locations\n",
    "tab_vocab = unique(lst)"
   ]
  },
  {
   "cell_type": "code",
   "execution_count": 102,
   "metadata": {},
   "outputs": [],
   "source": [
    "#this is a quick fix and needs to be done at the raw data level\n",
    "new_list = []\n",
    "for tab in tab_vocab:\n",
    "    if int(tab[1:]) <= 22:\n",
    "        new_list.append(tab)\n",
    "tab_vocab = new_list"
   ]
  },
  {
   "cell_type": "code",
   "execution_count": 103,
   "metadata": {},
   "outputs": [
    {
     "name": "stdout",
     "output_type": "stream",
     "text": [
      "['[UNK]', 'G19', 'A4', 'D12', 'E6', 'e15', 'e17', 'e16', 'G10', 'e18', 'D0', 'G11', 'A15', 'G6', 'e0', 'D10', 'A1', 'D1', 'B8', 'B7', 'e12', 'E17', 'A2', 'B4', 'D6', 'G8', 'B13', 'D15', 'E9', 'B3', 'B9', 'B2', 'A14', 'A12', 'e8', 'B1', 'e14', 'E7', 'G15', 'E3', 'A11', 'E19', 'D17', 'D4', 'D14', 'D5', 'B12', 'B17', 'D9', 'B6', 'G16', 'e1', 'G9', 'e7', 'e2', 'A10', 'D11', 'B20', 'B10', 'B15', 'A5', 'A6', 'e11', 'B14', 'B18', 'G18', 'E14', 'G21', 'D7', 'B11', 'B0', 'e4', 'G4', 'E10', 'e5', 'e9', 'e21', 'A3', 'G17', 'G3', 'E11', 'D16', 'E8', 'B16', 'B19', 'B21', 'D2', 'E0', 'e6', 'G12', 'E4', 'e19', 'A7', 'e13', 'G2', 'A8', 'A9', 'D3', 'A0', 'G0', 'A13', 'e3', 'G1', 'G7', 'E12', 'D8', 'e20', 'D13', 'G5', 'G14', 'D19', 'B5', 'e10', 'E2', 'e22', 'E5', 'E1']\n"
     ]
    }
   ],
   "source": [
    "ids_from_chars = tf.keras.layers.StringLookup(\n",
    "    num_oov_indices = 1, \n",
    "    vocabulary=list(tab_vocab), \n",
    "    mask_token=None)\n",
    "print(ids_from_chars.get_vocabulary())"
   ]
  },
  {
   "cell_type": "code",
   "execution_count": 104,
   "metadata": {},
   "outputs": [],
   "source": [
    "chars_from_ids = tf.keras.layers.StringLookup(\n",
    "    vocabulary=ids_from_chars.get_vocabulary(), invert=True, mask_token=None)\n"
   ]
  },
  {
   "cell_type": "code",
   "execution_count": 105,
   "metadata": {},
   "outputs": [],
   "source": [
    "def text_from_ids(ids):\n",
    "  return tf.strings.reduce_join(chars_from_ids(ids) + \" \", axis=-1)"
   ]
  },
  {
   "cell_type": "code",
   "execution_count": 106,
   "metadata": {},
   "outputs": [],
   "source": [
    "all_ids = ids_from_chars(tf.strings.split(text))"
   ]
  },
  {
   "cell_type": "code",
   "execution_count": 107,
   "metadata": {},
   "outputs": [
    {
     "data": {
      "text/plain": [
       "tensorflow.python.data.ops.dataset_ops.TensorSliceDataset"
      ]
     },
     "execution_count": 107,
     "metadata": {},
     "output_type": "execute_result"
    }
   ],
   "source": [
    "ids_dataset = tf.data.Dataset.from_tensor_slices(all_ids)\n",
    "type(ids_dataset)"
   ]
  },
  {
   "cell_type": "code",
   "execution_count": 108,
   "metadata": {},
   "outputs": [],
   "source": [
    "seq_length = 10"
   ]
  },
  {
   "cell_type": "code",
   "execution_count": 109,
   "metadata": {},
   "outputs": [
    {
     "name": "stdout",
     "output_type": "stream",
     "text": [
      "<class 'tensorflow.python.data.ops.dataset_ops.BatchDataset'>\n",
      "tf.Tensor([b'D7' b'G5' b'B5' b'e5' b'e7' b'D6' b'B5' b'G5' b'e7' b'e8' b'D5'], shape=(11,), dtype=string)\n",
      "<class 'tensorflow.python.framework.ops.EagerTensor'>\n"
     ]
    }
   ],
   "source": [
    "sequences = ids_dataset.batch(seq_length+1, drop_remainder=True)\n",
    "print(type(sequences))\n",
    "for seq in sequences.take(1):\n",
    "  print(chars_from_ids(seq))\n",
    "  print(type(seq))"
   ]
  },
  {
   "cell_type": "code",
   "execution_count": 110,
   "metadata": {},
   "outputs": [],
   "source": [
    "def split_input_target(sequence):\n",
    "    input_text = sequence[:-1]\n",
    "    target_text = sequence[1:]\n",
    "    return input_text, target_text"
   ]
  },
  {
   "cell_type": "code",
   "execution_count": 111,
   "metadata": {},
   "outputs": [
    {
     "data": {
      "text/plain": [
       "<MapDataset element_spec=(TensorSpec(shape=(10,), dtype=tf.int64, name=None), TensorSpec(shape=(10,), dtype=tf.int64, name=None))>"
      ]
     },
     "execution_count": 111,
     "metadata": {},
     "output_type": "execute_result"
    }
   ],
   "source": [
    "dataset = sequences.map(split_input_target)\n",
    "dataset\n",
    "\n"
   ]
  },
  {
   "cell_type": "code",
   "execution_count": 112,
   "metadata": {},
   "outputs": [
    {
     "name": "stdout",
     "output_type": "stream",
     "text": [
      "Input : b'D7 G5 B5 e5 e7 D6 B5 G5 e7 e8 '\n",
      "Target: b'G5 B5 e5 e7 D6 B5 G5 e7 e8 D5 '\n"
     ]
    }
   ],
   "source": [
    "for input_example, target_example in dataset.take(1):\n",
    "    print(\"Input :\", text_from_ids(input_example).numpy())\n",
    "    print(\"Target:\", text_from_ids(target_example).numpy())"
   ]
  },
  {
   "cell_type": "code",
   "execution_count": 113,
   "metadata": {},
   "outputs": [
    {
     "data": {
      "text/plain": [
       "<PrefetchDataset element_spec=(TensorSpec(shape=(64, 10), dtype=tf.int64, name=None), TensorSpec(shape=(64, 10), dtype=tf.int64, name=None))>"
      ]
     },
     "execution_count": 113,
     "metadata": {},
     "output_type": "execute_result"
    }
   ],
   "source": [
    "# Batch size\n",
    "BATCH_SIZE = 64\n",
    "\n",
    "# Buffer size to shuffle the dataset\n",
    "# (TF data is designed to work with possibly infinite sequences,\n",
    "# so it doesn't attempt to shuffle the entire sequence in memory. Instead,\n",
    "# it maintains a buffer in which it shuffles elements).\n",
    "BUFFER_SIZE = 10000\n",
    "\n",
    "dataset = (\n",
    "    dataset\n",
    "    .shuffle(BUFFER_SIZE)\n",
    "    .batch(BATCH_SIZE, drop_remainder=True)\n",
    "    .prefetch(tf.data.experimental.AUTOTUNE))\n",
    "\n",
    "dataset"
   ]
  },
  {
   "cell_type": "code",
   "execution_count": 114,
   "metadata": {},
   "outputs": [],
   "source": [
    "# Length of the vocabulary in StringLookup Layer\n",
    "vocab_size = len(ids_from_chars.get_vocabulary())\n",
    "\n",
    "# The embedding dimension\n",
    "embedding_dim = 64\n",
    "\n",
    "# Number of RNN units\n",
    "rnn_units = 1024"
   ]
  },
  {
   "cell_type": "code",
   "execution_count": 115,
   "metadata": {},
   "outputs": [],
   "source": [
    "class MyModel(tf.keras.Model):\n",
    "  def __init__(self, vocab_size, embedding_dim, rnn_units):\n",
    "    super().__init__(self)\n",
    "    self.embedding = tf.keras.layers.Embedding(vocab_size, embedding_dim)\n",
    "    self.gru = tf.keras.layers.GRU(rnn_units,\n",
    "                                   return_sequences=True,\n",
    "                                   return_state=True)\n",
    "\n",
    "    #adjust the dense units size                         \n",
    "    self.dense = tf.keras.layers.Dense(vocab_size)\n",
    "\n",
    "  def call(self, inputs, states=None, return_state=False, training=False):\n",
    "    x = inputs\n",
    "    x = self.embedding(x, training=training)\n",
    "    if states is None:\n",
    "      states = self.gru.get_initial_state(x)\n",
    "    x, states = self.gru(x, initial_state=states, training=training)\n",
    "    x = self.dense(x, training=training)\n",
    "\n",
    "    if return_state:\n",
    "      return x, states\n",
    "    else:\n",
    "      return x"
   ]
  },
  {
   "cell_type": "code",
   "execution_count": 116,
   "metadata": {},
   "outputs": [],
   "source": [
    "model = MyModel(\n",
    "    vocab_size=vocab_size,\n",
    "    embedding_dim=embedding_dim,\n",
    "    rnn_units=rnn_units)"
   ]
  },
  {
   "cell_type": "code",
   "execution_count": 117,
   "metadata": {},
   "outputs": [
    {
     "name": "stdout",
     "output_type": "stream",
     "text": [
      "(64, 10, 117) # (batch_size, sequence_length, vocab_size)\n"
     ]
    }
   ],
   "source": [
    "for input_example_batch, target_example_batch in dataset.take(1):\n",
    "    example_batch_predictions = model(input_example_batch)\n",
    "    print(example_batch_predictions.shape, \"# (batch_size, sequence_length, vocab_size)\")"
   ]
  },
  {
   "cell_type": "code",
   "execution_count": 118,
   "metadata": {},
   "outputs": [
    {
     "name": "stdout",
     "output_type": "stream",
     "text": [
      "Model: \"my_model\"\n",
      "_________________________________________________________________\n",
      " Layer (type)                Output Shape              Param #   \n",
      "=================================================================\n",
      " embedding (Embedding)       multiple                  7488      \n",
      "                                                                 \n",
      " gru (GRU)                   multiple                  3348480   \n",
      "                                                                 \n",
      " dense (Dense)               multiple                  119925    \n",
      "                                                                 \n",
      "=================================================================\n",
      "Total params: 3,475,893\n",
      "Trainable params: 3,475,893\n",
      "Non-trainable params: 0\n",
      "_________________________________________________________________\n"
     ]
    }
   ],
   "source": [
    "model.summary()"
   ]
  },
  {
   "cell_type": "code",
   "execution_count": 119,
   "metadata": {},
   "outputs": [],
   "source": [
    "sampled_indices = tf.random.categorical(example_batch_predictions[0], num_samples=1)\n",
    "sampled_indices = tf.squeeze(sampled_indices, axis=-1).numpy()"
   ]
  },
  {
   "cell_type": "code",
   "execution_count": 120,
   "metadata": {},
   "outputs": [
    {
     "data": {
      "text/plain": [
       "array([ 72,  29,  88,  81, 105,  74,  78,  40,  89,   2], dtype=int64)"
      ]
     },
     "execution_count": 120,
     "metadata": {},
     "output_type": "execute_result"
    }
   ],
   "source": [
    "sampled_indices"
   ]
  },
  {
   "cell_type": "code",
   "execution_count": 121,
   "metadata": {},
   "outputs": [],
   "source": [
    "loss = tf.losses.SparseCategoricalCrossentropy(from_logits=True)"
   ]
  },
  {
   "cell_type": "code",
   "execution_count": 122,
   "metadata": {},
   "outputs": [
    {
     "name": "stdout",
     "output_type": "stream",
     "text": [
      "Prediction shape:  (64, 10, 117)  # (batch_size, sequence_length, vocab_size)\n",
      "Mean loss:         tf.Tensor(4.7617264, shape=(), dtype=float32)\n"
     ]
    }
   ],
   "source": [
    "example_batch_mean_loss = loss(target_example_batch, example_batch_predictions)\n",
    "print(\"Prediction shape: \", example_batch_predictions.shape, \" # (batch_size, sequence_length, vocab_size)\")\n",
    "print(\"Mean loss:        \", example_batch_mean_loss)"
   ]
  },
  {
   "cell_type": "code",
   "execution_count": 123,
   "metadata": {},
   "outputs": [],
   "source": [
    "model.compile(optimizer='adam', loss=loss)"
   ]
  },
  {
   "cell_type": "code",
   "execution_count": 124,
   "metadata": {},
   "outputs": [],
   "source": [
    "import os\n",
    "# Directory where the checkpoints will be saved\n",
    "checkpoint_dir = './tab_training_checkpoints'\n",
    "# Name of the checkpoint files\n",
    "checkpoint_prefix = os.path.join(checkpoint_dir, \"ckpt_{epoch}\")\n",
    "\n",
    "checkpoint_callback = tf.keras.callbacks.ModelCheckpoint(\n",
    "    filepath=checkpoint_prefix,\n",
    "    save_weights_only=True)"
   ]
  },
  {
   "cell_type": "code",
   "execution_count": 125,
   "metadata": {},
   "outputs": [],
   "source": [
    "EPOCHS = 100"
   ]
  },
  {
   "cell_type": "code",
   "execution_count": 126,
   "metadata": {},
   "outputs": [
    {
     "name": "stdout",
     "output_type": "stream",
     "text": [
      "Epoch 1/100\n",
      "27/27 [==============================] - 2s 14ms/step - loss: 4.2605\n",
      "Epoch 2/100\n",
      "27/27 [==============================] - 0s 13ms/step - loss: 3.6190\n",
      "Epoch 3/100\n",
      "27/27 [==============================] - 0s 11ms/step - loss: 3.2224\n",
      "Epoch 4/100\n",
      "27/27 [==============================] - 0s 11ms/step - loss: 2.9733\n",
      "Epoch 5/100\n",
      "27/27 [==============================] - 0s 10ms/step - loss: 2.7475\n",
      "Epoch 6/100\n",
      "27/27 [==============================] - 0s 11ms/step - loss: 2.5544\n",
      "Epoch 7/100\n",
      "27/27 [==============================] - 0s 12ms/step - loss: 2.4127\n",
      "Epoch 8/100\n",
      "27/27 [==============================] - 0s 10ms/step - loss: 2.2798\n",
      "Epoch 9/100\n",
      "27/27 [==============================] - 0s 10ms/step - loss: 2.1486\n",
      "Epoch 10/100\n",
      "27/27 [==============================] - 0s 11ms/step - loss: 2.0437\n",
      "Epoch 11/100\n",
      "27/27 [==============================] - 0s 11ms/step - loss: 1.9141\n",
      "Epoch 12/100\n",
      "27/27 [==============================] - 0s 10ms/step - loss: 1.7996\n",
      "Epoch 13/100\n",
      "27/27 [==============================] - 0s 10ms/step - loss: 1.6875\n",
      "Epoch 14/100\n",
      "27/27 [==============================] - 0s 11ms/step - loss: 1.5679\n",
      "Epoch 15/100\n",
      "27/27 [==============================] - 0s 10ms/step - loss: 1.4536\n",
      "Epoch 16/100\n",
      "27/27 [==============================] - 0s 11ms/step - loss: 1.3459\n",
      "Epoch 17/100\n",
      "27/27 [==============================] - 0s 11ms/step - loss: 1.2457\n",
      "Epoch 18/100\n",
      "27/27 [==============================] - 0s 11ms/step - loss: 1.1515\n",
      "Epoch 19/100\n",
      "27/27 [==============================] - 0s 11ms/step - loss: 1.0620\n",
      "Epoch 20/100\n",
      "27/27 [==============================] - 0s 11ms/step - loss: 0.9792\n",
      "Epoch 21/100\n",
      "27/27 [==============================] - 0s 11ms/step - loss: 0.9150\n",
      "Epoch 22/100\n",
      "27/27 [==============================] - 0s 10ms/step - loss: 0.8538\n",
      "Epoch 23/100\n",
      "27/27 [==============================] - 0s 11ms/step - loss: 0.7986\n",
      "Epoch 24/100\n",
      "27/27 [==============================] - 0s 11ms/step - loss: 0.7525\n",
      "Epoch 25/100\n",
      "27/27 [==============================] - 1s 18ms/step - loss: 0.7127\n",
      "Epoch 26/100\n",
      "27/27 [==============================] - 0s 12ms/step - loss: 0.6781\n",
      "Epoch 27/100\n",
      "27/27 [==============================] - 0s 12ms/step - loss: 0.6541\n",
      "Epoch 28/100\n",
      "27/27 [==============================] - 0s 12ms/step - loss: 0.6309\n",
      "Epoch 29/100\n",
      "27/27 [==============================] - 0s 12ms/step - loss: 0.6087\n",
      "Epoch 30/100\n",
      "27/27 [==============================] - 0s 12ms/step - loss: 0.5898\n",
      "Epoch 31/100\n",
      "27/27 [==============================] - 0s 12ms/step - loss: 0.5752\n",
      "Epoch 32/100\n",
      "27/27 [==============================] - 0s 12ms/step - loss: 0.5679\n",
      "Epoch 33/100\n",
      "27/27 [==============================] - 0s 14ms/step - loss: 0.5524\n",
      "Epoch 34/100\n",
      "27/27 [==============================] - 0s 13ms/step - loss: 0.5422\n",
      "Epoch 35/100\n",
      "27/27 [==============================] - 0s 11ms/step - loss: 0.5314\n",
      "Epoch 36/100\n",
      "27/27 [==============================] - 0s 11ms/step - loss: 0.5255\n",
      "Epoch 37/100\n",
      "27/27 [==============================] - 0s 10ms/step - loss: 0.5189\n",
      "Epoch 38/100\n",
      "27/27 [==============================] - 0s 11ms/step - loss: 0.5098\n",
      "Epoch 39/100\n",
      "27/27 [==============================] - 0s 11ms/step - loss: 0.5057\n",
      "Epoch 40/100\n",
      "27/27 [==============================] - 0s 11ms/step - loss: 0.5041\n",
      "Epoch 41/100\n",
      "27/27 [==============================] - 0s 10ms/step - loss: 0.4959\n",
      "Epoch 42/100\n",
      "27/27 [==============================] - 0s 11ms/step - loss: 0.4914\n",
      "Epoch 43/100\n",
      "27/27 [==============================] - 0s 10ms/step - loss: 0.4861\n",
      "Epoch 44/100\n",
      "27/27 [==============================] - 0s 11ms/step - loss: 0.4811\n",
      "Epoch 45/100\n",
      "27/27 [==============================] - 0s 10ms/step - loss: 0.4748\n",
      "Epoch 46/100\n",
      "27/27 [==============================] - 0s 11ms/step - loss: 0.4731\n",
      "Epoch 47/100\n",
      "27/27 [==============================] - 0s 11ms/step - loss: 0.4674\n",
      "Epoch 48/100\n",
      "27/27 [==============================] - 0s 12ms/step - loss: 0.4633\n",
      "Epoch 49/100\n",
      "27/27 [==============================] - 0s 10ms/step - loss: 0.4642\n",
      "Epoch 50/100\n",
      "27/27 [==============================] - 0s 11ms/step - loss: 0.4579\n",
      "Epoch 51/100\n",
      "27/27 [==============================] - 0s 11ms/step - loss: 0.4562\n",
      "Epoch 52/100\n",
      "27/27 [==============================] - 0s 12ms/step - loss: 0.4521\n",
      "Epoch 53/100\n",
      "27/27 [==============================] - 0s 10ms/step - loss: 0.4484\n",
      "Epoch 54/100\n",
      "27/27 [==============================] - 0s 11ms/step - loss: 0.4477\n",
      "Epoch 55/100\n",
      "27/27 [==============================] - 0s 11ms/step - loss: 0.4449\n",
      "Epoch 56/100\n",
      "27/27 [==============================] - 0s 11ms/step - loss: 0.4394\n",
      "Epoch 57/100\n",
      "27/27 [==============================] - 0s 11ms/step - loss: 0.4370\n",
      "Epoch 58/100\n",
      "27/27 [==============================] - 0s 11ms/step - loss: 0.4359\n",
      "Epoch 59/100\n",
      "27/27 [==============================] - 0s 11ms/step - loss: 0.4325\n",
      "Epoch 60/100\n",
      "27/27 [==============================] - 0s 11ms/step - loss: 0.4329\n",
      "Epoch 61/100\n",
      "27/27 [==============================] - 0s 11ms/step - loss: 0.4277\n",
      "Epoch 62/100\n",
      "27/27 [==============================] - 0s 11ms/step - loss: 0.4252\n",
      "Epoch 63/100\n",
      "27/27 [==============================] - 0s 13ms/step - loss: 0.4251\n",
      "Epoch 64/100\n",
      "27/27 [==============================] - 0s 11ms/step - loss: 0.4226\n",
      "Epoch 65/100\n",
      "27/27 [==============================] - 0s 12ms/step - loss: 0.4194\n",
      "Epoch 66/100\n",
      "27/27 [==============================] - 0s 11ms/step - loss: 0.4214\n",
      "Epoch 67/100\n",
      "27/27 [==============================] - 0s 11ms/step - loss: 0.4163\n",
      "Epoch 68/100\n",
      "27/27 [==============================] - 0s 11ms/step - loss: 0.4176\n",
      "Epoch 69/100\n",
      "27/27 [==============================] - 0s 10ms/step - loss: 0.4166\n",
      "Epoch 70/100\n",
      "27/27 [==============================] - 0s 12ms/step - loss: 0.4122\n",
      "Epoch 71/100\n",
      "27/27 [==============================] - 0s 12ms/step - loss: 0.4130\n",
      "Epoch 72/100\n",
      "27/27 [==============================] - 0s 11ms/step - loss: 0.4122\n",
      "Epoch 73/100\n",
      "27/27 [==============================] - 0s 10ms/step - loss: 0.4104\n",
      "Epoch 74/100\n",
      "27/27 [==============================] - 0s 12ms/step - loss: 0.4102\n",
      "Epoch 75/100\n",
      "27/27 [==============================] - 0s 12ms/step - loss: 0.4061\n",
      "Epoch 76/100\n",
      "27/27 [==============================] - 0s 12ms/step - loss: 0.4079\n",
      "Epoch 77/100\n",
      "27/27 [==============================] - 0s 10ms/step - loss: 0.4060\n",
      "Epoch 78/100\n",
      "27/27 [==============================] - 0s 10ms/step - loss: 0.4026\n",
      "Epoch 79/100\n",
      "27/27 [==============================] - 0s 12ms/step - loss: 0.4012\n",
      "Epoch 80/100\n",
      "27/27 [==============================] - 0s 12ms/step - loss: 0.4013\n",
      "Epoch 81/100\n",
      "27/27 [==============================] - 0s 12ms/step - loss: 0.3987\n",
      "Epoch 82/100\n",
      "27/27 [==============================] - 0s 12ms/step - loss: 0.3994\n",
      "Epoch 83/100\n",
      "27/27 [==============================] - 0s 10ms/step - loss: 0.3993\n",
      "Epoch 84/100\n",
      "27/27 [==============================] - 0s 12ms/step - loss: 0.3985\n",
      "Epoch 85/100\n",
      "27/27 [==============================] - 0s 12ms/step - loss: 0.3966\n",
      "Epoch 86/100\n",
      "27/27 [==============================] - 0s 13ms/step - loss: 0.3962\n",
      "Epoch 87/100\n",
      "27/27 [==============================] - 0s 12ms/step - loss: 0.3966\n",
      "Epoch 88/100\n",
      "27/27 [==============================] - 0s 12ms/step - loss: 0.3982\n",
      "Epoch 89/100\n",
      "27/27 [==============================] - 0s 10ms/step - loss: 0.3929\n",
      "Epoch 90/100\n",
      "27/27 [==============================] - 0s 12ms/step - loss: 0.3955\n",
      "Epoch 91/100\n",
      "27/27 [==============================] - 0s 12ms/step - loss: 0.3916\n",
      "Epoch 92/100\n",
      "27/27 [==============================] - 0s 13ms/step - loss: 0.3919\n",
      "Epoch 93/100\n",
      "27/27 [==============================] - 0s 10ms/step - loss: 0.3929\n",
      "Epoch 94/100\n",
      "27/27 [==============================] - 0s 12ms/step - loss: 0.3929\n",
      "Epoch 95/100\n",
      "27/27 [==============================] - 0s 12ms/step - loss: 0.3895\n",
      "Epoch 96/100\n",
      "27/27 [==============================] - 0s 12ms/step - loss: 0.3903\n",
      "Epoch 97/100\n",
      "27/27 [==============================] - 0s 10ms/step - loss: 0.3886\n",
      "Epoch 98/100\n",
      "27/27 [==============================] - 0s 12ms/step - loss: 0.3904\n",
      "Epoch 99/100\n",
      "27/27 [==============================] - 0s 12ms/step - loss: 0.3901\n",
      "Epoch 100/100\n",
      "27/27 [==============================] - 0s 12ms/step - loss: 0.3875\n"
     ]
    }
   ],
   "source": [
    "history = model.fit(dataset, epochs=EPOCHS, callbacks=[checkpoint_callback])"
   ]
  },
  {
   "cell_type": "code",
   "execution_count": 127,
   "metadata": {},
   "outputs": [],
   "source": [
    "class OneStep(tf.keras.Model):\n",
    "  def __init__(self, model, chars_from_ids, ids_from_chars, omit, temperature=1.0):\n",
    "    super().__init__()\n",
    "    self.temperature = temperature\n",
    "    self.model = model\n",
    "    self.chars_from_ids = chars_from_ids\n",
    "    self.ids_from_chars = ids_from_chars\n",
    "\n",
    "    # Create a mask to prevent \"[UNK]\" from being generated.\n",
    "\n",
    "    skip_ids = self.ids_from_chars(omit)[:, None]\n",
    "\n",
    "    sparse_mask = tf.SparseTensor(\n",
    "        # Put a -inf at each bad index.\n",
    "        values=[-float('inf')]*len(skip_ids),\n",
    "        indices=skip_ids,\n",
    "        # Match the shape to the vocabulary\n",
    "        dense_shape=[len(ids_from_chars.get_vocabulary())])\n",
    "    self.prediction_mask = tf.sparse.to_dense(sparse_mask)\n",
    "\n",
    "  @tf.function\n",
    "  def generate_one_step(self, inputs, omit, states=None):\n",
    "    # Convert strings to token IDs.\n",
    "    input_chars = tf.strings.unicode_split(inputs, 'UTF-8')\n",
    "    input_ids = self.ids_from_chars(input_chars).to_tensor()\n",
    "\n",
    "    # Run the model.\n",
    "    # predicted_logits.shape is [batch, char, next_char_logits]\n",
    "    predicted_logits, states = self.model(inputs=input_ids, states=states,\n",
    "                                          return_state=True)\n",
    "    # Only use the last prediction.\n",
    "    predicted_logits = predicted_logits[:, -1, :]\n",
    "\n",
    "    predicted_logits = predicted_logits/self.temperature\n",
    "    # Apply the prediction mask: prevent \"[UNK]\" from being generated.\n",
    "\n",
    "    predicted_logits = predicted_logits + self.prediction_mask\n",
    "\n",
    "    # Sample the output logits to generate token IDs.\n",
    "    predicted_ids = tf.random.categorical(predicted_logits, num_samples=1)\n",
    "    predicted_ids = tf.squeeze(predicted_ids, axis=-1)\n",
    "\n",
    "    # Convert from token ids to characters\n",
    "    predicted_chars = self.chars_from_ids(predicted_ids)\n",
    "\n",
    "    # Return the characters and model state.\n",
    "    return predicted_chars, states"
   ]
  },
  {
   "cell_type": "code",
   "execution_count": 128,
   "metadata": {},
   "outputs": [],
   "source": [
    "from MidiToTabOptions import *\n",
    "tab_midi_dict = generate_tab_midi_pairs()"
   ]
  },
  {
   "cell_type": "code",
   "execution_count": 129,
   "metadata": {},
   "outputs": [
    {
     "data": {
      "text/plain": [
       "[60, 64, 69, 71, 64, 60, 71, 72, 64, 60, 72, 66, 62, 57, 66]"
      ]
     },
     "execution_count": 129,
     "metadata": {},
     "output_type": "execute_result"
    }
   ],
   "source": [
    "from MidiToArray import *\n",
    "notes = MidiToArray(r\"C:\\Users\\alecr\\desktop\\mutab\\Sandbox\\samples\\sample.mid\")\n",
    "notes = notes[1:16]\n",
    "notes\n",
    "\n"
   ]
  },
  {
   "cell_type": "code",
   "execution_count": 130,
   "metadata": {},
   "outputs": [],
   "source": [
    "#Array of Midi notes\n",
    "#notes = [60, 61, 63, 60, 56, 58]\n",
    "states = None\n",
    "\n",
    "#First tab note, hard coded\n",
    "base_tab = 'D7 '\n",
    "\n",
    "#Dynamically starting input \n",
    "append_tab = tf.constant([base_tab])\n",
    "for note in notes:\n",
    "\n",
    "    #Finds all tab options for the current note and \n",
    "    #removes them from the omitted option list in the OneStep function\n",
    "    options = ['[UNK]']\n",
    "    options.extend(tab_midi_dict[note])\n",
    "    omit = list(set(ids_from_chars.get_vocabulary()) - set(options))\n",
    "    omit.insert(0, '[UNK]')\n",
    "\n",
    "    omit_sorted = []\n",
    "    for item in ids_from_chars.get_vocabulary():\n",
    "        if item in omit:\n",
    "            omit_sorted.append(item)\n",
    "\n",
    "    \n",
    "    #generates the next predicted tab note out of the set of possible options   \n",
    "    one_step_model = OneStep(model, chars_from_ids, ids_from_chars, omit_sorted)\n",
    "\n",
    "    #bootstrap the predictions \n",
    "    bootstrap_list = []    \n",
    "    for i in range(100):\n",
    "        next_char, states = one_step_model.generate_one_step(append_tab, omit_sorted, states=states)    \n",
    "        bootstrap_list.append(next_char.numpy()[0].decode('utf-8'))\n",
    "    next_tab = max(set(bootstrap_list), key=bootstrap_list.count)\n",
    "\n",
    "\n",
    "    #append new tab to input list\n",
    "    append_tab = tf.constant([append_tab.numpy()[0].decode('utf-8') + next_tab + ' '])\n",
    "tf.keras.backend.clear_session()"
   ]
  },
  {
   "cell_type": "code",
   "execution_count": 131,
   "metadata": {},
   "outputs": [
    {
     "name": "stdout",
     "output_type": "stream",
     "text": [
      "e|------------------------------------------------\n",
      "B|------------12----1--12-------1-----------------\n",
      "G|---5--------------------17-------17-------2-----\n",
      "D|7-----14-19----14----------14-------16-12----16-\n",
      "A|------------------------------------------------\n",
      "E|------------------------------------------------\n",
      "\n"
     ]
    }
   ],
   "source": [
    "string = str(append_tab.numpy()[0].decode('utf-8'))\n",
    "array = string.split(' ')[:-1]\n",
    "print(convert_array_to_tab(array))"
   ]
  },
  {
   "cell_type": "code",
   "execution_count": 132,
   "metadata": {},
   "outputs": [
    {
     "name": "stdout",
     "output_type": "stream",
     "text": [
      "tf.Tensor([b'D7 G5 D14 D19 B12 D14 B1 B12 G17 D14 B1 G17 D16 D12 G2 D16 '], shape=(1,), dtype=string)\n"
     ]
    }
   ],
   "source": [
    "print(append_tab)"
   ]
  }
 ],
 "metadata": {
  "kernelspec": {
   "display_name": "base",
   "language": "python",
   "name": "python3"
  },
  "language_info": {
   "codemirror_mode": {
    "name": "ipython",
    "version": 3
   },
   "file_extension": ".py",
   "mimetype": "text/x-python",
   "name": "python",
   "nbconvert_exporter": "python",
   "pygments_lexer": "ipython3",
   "version": "3.9.13"
  },
  "orig_nbformat": 4,
  "vscode": {
   "interpreter": {
    "hash": "5b6ddfb2dcac28d85c50c41a252d540a7fa8764b66ffa4029a84ab1fab305572"
   }
  }
 },
 "nbformat": 4,
 "nbformat_minor": 2
}
