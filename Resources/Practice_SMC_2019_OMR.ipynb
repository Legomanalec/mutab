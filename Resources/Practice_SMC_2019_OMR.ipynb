{
  "nbformat": 4,
  "nbformat_minor": 0,
  "metadata": {
    "colab": {
      "provenance": []
    },
    "kernelspec": {
      "name": "python3",
      "display_name": "Python 3"
    },
    "accelerator": "GPU"
  },
  "cells": [
    {
      "cell_type": "markdown",
      "metadata": {
        "id": "sEIQQXr_-dsr"
      },
      "source": [
        "# Sound and Music Computing Summer School 2019\n",
        "## Practice session on Optical Music Recognition\n",
        "\n",
        "**Speaker**: Jorge Calvo-Zaragoza (jcalvo@dlsi.ua.es)\n",
        "\n"
      ]
    },
    {
      "cell_type": "markdown",
      "metadata": {
        "id": "HWEH3PubvZVK"
      },
      "source": [
        "# Google Colaboratory\n",
        "\n",
        "Colaboratory is a free Jupyter notebook environment that requires no setup and runs entirely in the (Google) cloud.\n",
        "\n",
        "With Colaboratory you can write and execute code, save and share your analyses, and access powerful computing resources, all for free from your browser.\n",
        "\n",
        "\n",
        "## Getting started\n",
        "\n",
        "The document you are reading is a  [Jupyter notebook](https://jupyter.org/), hosted in Colaboratory. It is not a static page, but an interactive environment that lets you write and execute code in Python and other languages.\n",
        "\n",
        "For example, here is a **code cell** with a short Python script that prints a greeting and a universal truth:\n"
      ]
    },
    {
      "cell_type": "code",
      "metadata": {
        "id": "ShZB7Ms5vcfr",
        "colab": {
          "base_uri": "https://localhost:8080/",
          "height": 51
        },
        "outputId": "533f606b-ffef-4db7-8feb-7fd94b348e09"
      },
      "source": [
        "print('Hello SMC,')\n",
        "print('OMR is cool!')"
      ],
      "execution_count": null,
      "outputs": [
        {
          "output_type": "stream",
          "text": [
            "Hello SMC,\n",
            "OMR is cool!\n"
          ],
          "name": "stdout"
        }
      ]
    },
    {
      "cell_type": "markdown",
      "metadata": {
        "id": "ETyHK9EYvkcU"
      },
      "source": [
        "We can also execute console commands by placing *!* at the beggining of the line:"
      ]
    },
    {
      "cell_type": "code",
      "metadata": {
        "id": "yzR0UXN5vkvK",
        "colab": {
          "base_uri": "https://localhost:8080/",
          "height": 323
        },
        "outputId": "715c489b-26fd-4bff-ae72-f18debdebbad"
      },
      "source": [
        "!/usr/bin/nvidia-smi\n",
        "\n",
        "!python --version "
      ],
      "execution_count": null,
      "outputs": [
        {
          "output_type": "stream",
          "text": [
            "Sun May 26 12:28:04 2019       \n",
            "+-----------------------------------------------------------------------------+\n",
            "| NVIDIA-SMI 418.67       Driver Version: 410.79       CUDA Version: 10.0     |\n",
            "|-------------------------------+----------------------+----------------------+\n",
            "| GPU  Name        Persistence-M| Bus-Id        Disp.A | Volatile Uncorr. ECC |\n",
            "| Fan  Temp  Perf  Pwr:Usage/Cap|         Memory-Usage | GPU-Util  Compute M. |\n",
            "|===============================+======================+======================|\n",
            "|   0  Tesla K80           Off  | 00000000:00:04.0 Off |                    0 |\n",
            "| N/A   28C    P8    26W / 149W |      0MiB / 11441MiB |      0%      Default |\n",
            "+-------------------------------+----------------------+----------------------+\n",
            "                                                                               \n",
            "+-----------------------------------------------------------------------------+\n",
            "| Processes:                                                       GPU Memory |\n",
            "|  GPU       PID   Type   Process name                             Usage      |\n",
            "|=============================================================================|\n",
            "|  No running processes found                                                 |\n",
            "+-----------------------------------------------------------------------------+\n",
            "Python 3.6.7\n"
          ],
          "name": "stdout"
        }
      ]
    },
    {
      "cell_type": "markdown",
      "metadata": {
        "id": "2tpEVKOcrTlx"
      },
      "source": [
        "# Keras\n",
        "\n",
        "[Keras](https://keras.io/) is a high-level API for neural networks, obviously including deep learning (DL). Actually, it is main motivation. \n",
        "\n",
        "It is written in Python and runs over [TensorFlow](https://www.tensorflow.org/) (Google), [CNTK ](https://www.microsoft.com/en-us/cognitive-toolkit/) (Microsoft), [Theano](http://deeplearning.net/software/theano/) or [MxNet](https://mxnet.incubator.apache.org/) (Amazon) as backbone frameworks. It was primarily developed for research uses, with the aim of being able to move rapidly from an idea to preliminary results in the shortest possible time.\n",
        "\n",
        "Essentially, Keras:\n",
        "\n",
        "- allows fast prototyping because of its simplicity, modularity and extensibility.\n",
        "- supports the most typical neural network elements (units, training algorithms, loss functions, etc.)\n",
        "- runs over both CPU and GPU.\n",
        "\n",
        "Most interesting charasteristics:\n",
        "\n",
        "- **Ease of use**: Keras is an API designed for human beings. Keras follows best practices to reduce cognitive load: it offers consistent and simple APIs, minimizes the number of user actions required for common use cases, and provides clear and actionable feedback about user error.\n",
        "\n",
        "- **Modularity**: A model is understood as a sequence or graphic of independent modules, totally configurable, that can be connected to each other with the minimum possible constraints. In particular, the neural layers, the cost functions, the optimizers, the initialization schemes, the activation functions and the regularization schemes are independent modules that can be combined to create new experiments.\n",
        "\n",
        "- **Allows easy extension**: New modules are easy to add (like new classes and functions), and existing modules provide wide examples. Being able to easily create new modules allows total expressivity, making Keras suitable for advanced research.\n",
        "\n",
        "- **Work with Python**: There are no separate configuration for neural models. The models are directly described in the Python code, which is compact and easy-to-debug."
      ]
    },
    {
      "cell_type": "markdown",
      "metadata": {
        "id": "L7gPxPC7rRJb"
      },
      "source": [
        "# Step-by-step Optical Music Recognition system\n",
        "\n",
        "Let's build a simple, yet complete, staff-based Optical Music Recognition (OMR) system.\n",
        "\n",
        "The system will make use of deep neural networks, organized in an encoder-decoder topology based on Recurrent Neural Networks (RNN). Our encoder will also include a Convolutional Neural Network (CNN) to perform the feature extraction process during the encoding stage.\n",
        "\n",
        "## Input domain\n",
        "\n",
        "We need to define the input domain of our OMR system.\n",
        "\n",
        "We choose an easy one:\n",
        "\n",
        "* Printed\n",
        "* Ideal conditions\n",
        "* Modern notation\n",
        "* Monophonic\n",
        "\n",
        "We'll see that it is easy to extend this to other domains.\n",
        "\n",
        "## Output domain\n",
        "\n",
        "Sequence of **agnostic** symbols.\n",
        "\n",
        "## Data\n",
        "\n",
        "It is well known that Deep Learning models require training sets of sufficient size. The [Printed Images of Music Staves](https://grfia.dlsi.ua.es/primus/) (PrIMuS) dataset was devised to fulfill these requirements for end-to-end staff-based OMR research. Thus, the objective pursued when creating this ground-truth data was not to represent the most complex musical notation corpus, but collect the highest possible number of scores readily available to be represented in formats suitable for OMR experimentation and evaluation.\n",
        "\n",
        "PrIMuS contains 87678 real-music incipits (an incipit is a sequence of notes, typically the first ones, used for identifying a melody or musical work), each one represented by five files: the Plaine and Easie code source, an image with the rendered score, the musical symbolic representation of the incipit both in Music Encoding Initiative format (MEI) and in an on-purpose simplified encoding (semantic encoding), and a sequence containing the graphical symbols shown in the score with their position in the staff without any musical meaning (agnostic encoding). \n",
        "\n",
        "A sample from PrIMuS:\n",
        "\n",
        "![Sample image](https://github.com/calvozaragoza/tf-deep-omr/blob/master/Data/Example/000051652-1_2_1.png?raw=true)\n",
        "\n",
        "whose *agnostic* representation sequence is as follows:\n",
        "\n",
        "`clef.C-L1\taccidental.flat-L4\taccidental.flat-L2\taccidental.flat-S3\tdigit.2-L4\tdigit.4-L2\tdigit.2-S5 digit.3-S5\tmultirest-L3\tbarline-L1\trest.quarter-L3\trest.eighth-L3\tnote.eighth-L4\tbarline-L1 note.quarter-L4\tdot-S4\tnote.eighth-L3\tbarline-L1\tnote.quarter-S5\tdot-S5\tnote.eighth-L5\tbarline-L1 note.eighth-S4\tnote.eighth-S4\trest.quarter-L3\tbarline-L1`\n",
        "\n",
        "Due to efficiency reasons, we will just use a subset of PrIMuS for this tutorial. We will build our training set of pairs (image, agnostic representation) to train our deep encoder-decoder architecture. \n",
        "\n",
        "\n",
        "## Model overview \n",
        "\n",
        "Our DL model will consist of:\n",
        "\n",
        "* Encoder CNN: the input image is first fed into a CNN that learns a feature representation that is useful for the task at hand.\n",
        "* Encoder RNN: the last filtered image of the CNN is used as input to the encoder RNN, that processes the image frame by frame to produce a latent representation of the whole input staff region\n",
        "* Decoder RNN: from the latent vector, the decoder RNN will predict a symbol step by step. The last predicted symbol is fed into the decoder in the next step. The first symbol provided to the encoder is that of *start of sentence* (SOS). The process is stopped once the decoder RNN predicts an *end of sentence* (EOS) symbol.\n",
        "\n",
        "A graphical overview of the considered architecture is shown in the following figure:\n",
        "\n",
        "![Topology](https://drive.google.com/uc?id=14EVEPy-zedcPBYyavefiAeeBcpG6J0HZ)"
      ]
    },
    {
      "cell_type": "markdown",
      "metadata": {
        "id": "UEt6pluBxssh"
      },
      "source": [
        "## Preliminary: generators\n",
        "\n",
        "In the case of tasks solved with RNNs, and especially with the encoder-decoder approach, it is usual to have variable-length inputs and outputs sequences. Although, by definition, RNNs can handle sequences of variable size, internally Keras (likewise other frameworks) works with fixed-dimension data batches for a more efficient processing.\n",
        "\n",
        "\n",
        "To alleviate this problem, there are two alternatives: to create as many batches as sequences are (which is inefficient in training) or to use the *padding* technique. Padding consists in calculating the longest sequence and establishing the dimensions according to this value. Shorter sequences are filled with null values (typically 0). The problem is that, when the differences between the lengths are very high, padding becomes very severe and causes a less effective learning.\n",
        "\n",
        "\n",
        "However, there is an intermediate, elegant, solution to deal with this issue: mini batches. That is, to build small batches and apply intra-batch padding. To be able to do this in Keras, it is necessary to use *generator* functions. Generators are Python functions that prepare such batches. On each call, the generator prepares the next batch to be considered and *freezes*, until it is called in again to generate another batch. Generator functions allow us to return batches that contain a fixed number of elements. Then we can do padding at the batch level, thereby reducing the aforementioned problem.\n",
        "\n",
        "\n",
        "The following code provides an intuitive example of this behavior (pay special attention to keywords **yield** and **next**)."
      ]
    },
    {
      "cell_type": "code",
      "metadata": {
        "id": "BD6QurPPxtpv",
        "colab": {
          "base_uri": "https://localhost:8080/",
          "height": 170
        },
        "outputId": "cad27b3e-7469-4b02-8f78-94627604d215"
      },
      "source": [
        "import numpy as np    # Python's Matrix package\n",
        "\n",
        "sample = [[1,2], [3,4,5], [6,7,8,9], [10]]\n",
        "\n",
        "def example_generator(data, batch_size):  \n",
        "    while True:\n",
        "      for idx in range(0,len(data),batch_size):\n",
        "        batch = data[idx:idx+batch_size]                \n",
        "        max_length = max([len(b) for b in batch])        \n",
        "        fixed_dim_batch = np.zeros((len(batch),max_length), dtype=np.int)\n",
        "        \n",
        "        for i,b in enumerate(batch):\n",
        "          fixed_dim_batch[i,:len(b)] = b\n",
        "          \n",
        "        yield fixed_dim_batch\n",
        "                          \n",
        "generator = example_generator(sample, batch_size = 2)\n",
        "\n",
        "print('Batch',1)\n",
        "x  = next(generator)\n",
        "print(x)\n",
        "print(x.shape)\n",
        "print()\n",
        "print('Batch',2)\n",
        "x  = next(generator)\n",
        "print(x)\n",
        "print(x.shape)"
      ],
      "execution_count": null,
      "outputs": [
        {
          "output_type": "stream",
          "text": [
            "Batch 1\n",
            "[[1 2 0]\n",
            " [3 4 5]]\n",
            "(2, 3)\n",
            "\n",
            "Batch 2\n",
            "[[ 6  7  8  9]\n",
            " [10  0  0  0]]\n",
            "(2, 4)\n"
          ],
          "name": "stdout"
        }
      ]
    },
    {
      "cell_type": "markdown",
      "metadata": {
        "id": "XsMEDQKUx-Nd"
      },
      "source": [
        "### Bucketting\n",
        "\n",
        "Another concept (which will not appear in the implementation below) is *bucketting*. This strategy first orders the dataset so that elements within the same batch are of similar length. This minimizes intra-batch padding, thus approaching the optimal (but inefficient) way of performing the training process element by element."
      ]
    },
    {
      "cell_type": "code",
      "metadata": {
        "id": "OF5sdY651B7z",
        "colab": {
          "base_uri": "https://localhost:8080/",
          "height": 170
        },
        "outputId": "44753e02-60ca-42d9-f927-53c8acb5e43d"
      },
      "source": [
        "import numpy as np    # Python's Matrix package\n",
        "\n",
        "sample = [[1,2], [3,4,5], [6,7,8,9], [10]]\n",
        "\n",
        "def bucketting_generator(data, batch_size):\n",
        "    data.sort(key = len)\n",
        "    while True:\n",
        "      for idx in range(0,len(data),batch_size):\n",
        "        batch = data[idx:idx+batch_size]                \n",
        "        max_length = max([len(b) for b in batch])        \n",
        "        fixed_dim_batch = np.zeros((len(batch),max_length), dtype=np.int)\n",
        "        \n",
        "        for i,b in enumerate(batch):\n",
        "          fixed_dim_batch[i,:len(b)] = b\n",
        "          \n",
        "        yield fixed_dim_batch\n",
        "                          \n",
        "generator = bucketting_generator(sample, batch_size = 2)\n",
        "\n",
        "print('Batch',1)\n",
        "x  = next(generator)\n",
        "print(x)\n",
        "print(x.shape)\n",
        "print()\n",
        "print('Batch',2)\n",
        "x  = next(generator)\n",
        "print(x)\n",
        "print(x.shape)"
      ],
      "execution_count": null,
      "outputs": [
        {
          "output_type": "stream",
          "text": [
            "Batch 1\n",
            "[[10  0]\n",
            " [ 1  2]]\n",
            "(2, 2)\n",
            "\n",
            "Batch 2\n",
            "[[3 4 5 0]\n",
            " [6 7 8 9]]\n",
            "(2, 4)\n"
          ],
          "name": "stdout"
        }
      ]
    },
    {
      "cell_type": "markdown",
      "metadata": {
        "id": "L1X7sOxxnLou"
      },
      "source": [
        "# Code\n",
        "\n",
        "## Data loading and preprocessing"
      ]
    },
    {
      "cell_type": "code",
      "metadata": {
        "id": "0bRR4WMXbAXf",
        "colab": {
          "base_uri": "https://localhost:8080/",
          "height": 51
        },
        "outputId": "3d68f229-10c0-497c-953a-2fa2e29af0c5"
      },
      "source": [
        "\"\"\"\n",
        "Initialization of Google Drive file system\n",
        "\"\"\"\n",
        "\n",
        "import zipfile\n",
        "from google.colab import drive\n",
        "import glob\n",
        "\n",
        "drive.mount('/content/drive')\n",
        "\n",
        "zip_ref = zipfile.ZipFile(\"/content/drive/My Drive/Cursos/SMC Summer School 2019/PriMuS-40000.zip\", 'r')\n",
        "zip_ref.extractall(\"/tmp\")\n",
        "zip_ref.close()\n",
        "\n",
        "data_folder = '/tmp/PriMuS-40000'\n",
        "num_samples = len(glob.glob(data_folder+'/*.png'))\n",
        "\n",
        "print('Num. samples:',num_samples)"
      ],
      "execution_count": null,
      "outputs": [
        {
          "output_type": "stream",
          "text": [
            "Drive already mounted at /content/drive; to attempt to forcibly remount, call drive.mount(\"/content/drive\", force_remount=True).\n",
            "Num. samples: 40000\n"
          ],
          "name": "stdout"
        }
      ]
    },
    {
      "cell_type": "code",
      "metadata": {
        "id": "AvKvhEupZ4z0",
        "colab": {
          "base_uri": "https://localhost:8080/",
          "height": 34
        },
        "outputId": "f506f53f-cd79-4074-c409-1e7f514fc510"
      },
      "source": [
        "\"\"\"\n",
        "\n",
        "Data loading:\n",
        "\n",
        "Each sample consists of a pair (x,y) such that:\n",
        " - x: single-staff image (*.png)\n",
        " - y: sequence of symbols (*.txt)\n",
        " \n",
        "\"\"\"\n",
        "\n",
        "import cv2     # OpenCV image package\n",
        "import tqdm    # Loop with loading bar\n",
        "\n",
        "X = []\n",
        "Y = []\n",
        "\n",
        "num_samples = 20000 # Tune according to resources\n",
        "\n",
        "# Loop over each image file\n",
        "for idx in tqdm.tqdm(range(1,num_samples+1)):\n",
        "  image = cv2.imread(data_folder+'/'+str(idx)+'.png', False) # Grayscale\n",
        "  \n",
        "  sequence_file = open(data_folder+'/'+str(idx)+'.txt', \"r\")\n",
        "  sequence = sequence_file.readline().split()\n",
        "  sequence_file.close()\n",
        "  \n",
        "  X.append(image)\n",
        "  Y.append(sequence)"
      ],
      "execution_count": null,
      "outputs": [
        {
          "output_type": "stream",
          "text": [
            "100%|██████████| 20000/20000 [00:29<00:00, 689.01it/s]\n"
          ],
          "name": "stderr"
        }
      ]
    },
    {
      "cell_type": "code",
      "metadata": {
        "id": "mEGRn9Pa9iBX",
        "colab": {
          "base_uri": "https://localhost:8080/",
          "height": 190
        },
        "outputId": "2cd443a2-073d-4f3c-d70d-991f64889ef6"
      },
      "source": [
        "\"\"\"\n",
        "Visualization of data loading\n",
        "\"\"\"\n",
        "\n",
        "import matplotlib\n",
        "from matplotlib import pyplot as plt\n",
        "%matplotlib inline\n",
        "matplotlib.rcParams['figure.dpi']= 150\n",
        "\n",
        "idx_example = 5\n",
        "\n",
        "# Display first two samples\n",
        "f = plt.figure()\n",
        "f.add_subplot(1,1,1)\n",
        "plt.imshow(X[idx_example])\n",
        "plt.show(block=True)\n",
        "\n",
        "print(Y[idx_example])\n"
      ],
      "execution_count": null,
      "outputs": [
        {
          "output_type": "display_data",
          "data": {
            "image/png": "[encoded data removed]",
            "text/plain": [
              "<Figure size 900x600 with 1 Axes>"
            ]
          },
          "metadata": {
            "tags": []
          }
        },
        {
          "output_type": "stream",
          "text": [
            "['clef.F-L4', 'accidental.sharp-L4', 'accidental.sharp-S2', 'metersign.C-L3', 'digit.1-S5', 'multirest-L3', 'barline-L1', 'rest.quarter-L3', 'rest.eighth-L3', 'note.sixteenth-S3', 'note.sixteenth-L4', 'note.sixteenth-S4', 'note.eighth-S4', 'barline-L1', 'rest.half-L3', 'rest.quarter-L3', 'rest.eighth-L3', 'note.eighth-S4', 'barline-L1', 'note.eighth-L4', 'note.eighth-L4', 'rest.eighth-L3', 'note.eighth-L5', 'note.quarter-L4', 'rest.eighth-L3', 'note.eighth-L5', 'barline-L1', 'note.eighth-L5', 'note.eighth-L3', 'rest.sixteenth-L3', 'note.sixteenth-L3', 'note.sixteenth-L3', 'note.sixteenth-S3', 'note.quarter-L4']\n"
          ],
          "name": "stdout"
        }
      ]
    },
    {
      "cell_type": "code",
      "metadata": {
        "id": "vbYt9St6nQs-"
      },
      "source": [
        "\"\"\"\n",
        "The network needs a fixed height (i.e., features per frame).\n",
        "The width is variable, and so we rescale to a fixed height\n",
        "but keeping the aspect ratio.\n",
        "\"\"\"\n",
        "\n",
        "def resize(image, height):\n",
        "    width = int(float(height * image.shape[1]) / image.shape[0])\n",
        "    return cv2.resize(image, (width, height))\n",
        "\n",
        "img_height = 64\n",
        "for idx,image in enumerate(X):\n",
        "  X[idx] = resize(image,img_height)"
      ],
      "execution_count": null,
      "outputs": []
    },
    {
      "cell_type": "code",
      "metadata": {
        "id": "rFwpYQwj1mTi",
        "colab": {
          "base_uri": "https://localhost:8080/",
          "height": 54
        },
        "outputId": "2bc5b200-3bfb-417c-9136-f4d87ded4f66"
      },
      "source": [
        "\"\"\"\n",
        "We need the special characters 'start of sequence' (sos) and\n",
        "'end of sequence' (eos)\n",
        "\"\"\" \n",
        "output_sos = '<s>'\n",
        "output_eos = '</s>'\n",
        "\n",
        "# We include both to the ground-truth sequence\n",
        "Y = [ [ output_sos ] +  sequence + [ output_eos ] for sequence in Y]\n",
        "\n",
        "# We can then compute the set of symbols\n",
        "alphabet = set()\n",
        "\n",
        "for sequence in Y:\n",
        "    alphabet.update(sequence)\n",
        "              \n",
        "alphabet_len = len(alphabet)    \n",
        "\n",
        "print('There is a total of ' + str(alphabet_len) + ' symbols: ' + str(sorted(alphabet)))\n",
        "\n",
        "# Building conversors from symbol to int and inversely\n",
        "alphabet_from_char_to_int = dict([(char, i) for i, char in enumerate(alphabet)])\n",
        "alphabet_from_int_to_char = dict([(i, char) for i, char in enumerate(alphabet)])"
      ],
      "execution_count": null,
      "outputs": [
        {
          "output_type": "stream",
          "text": [
            "There is a total of 706 symbols: ['</s>', '<s>', 'accidental.flat-L-1', 'accidental.flat-L0', 'accidental.flat-L1', 'accidental.flat-L2', 'accidental.flat-L3', 'accidental.flat-L4', 'accidental.flat-L5', 'accidental.flat-L6', 'accidental.flat-L7', 'accidental.flat-L8', 'accidental.flat-S-1', 'accidental.flat-S-2', 'accidental.flat-S0', 'accidental.flat-S1', 'accidental.flat-S2', 'accidental.flat-S3', 'accidental.flat-S4', 'accidental.flat-S5', 'accidental.flat-S6', 'accidental.flat-S7', 'accidental.natural-L-1', 'accidental.natural-L-2', 'accidental.natural-L0', 'accidental.natural-L1', 'accidental.natural-L2', 'accidental.natural-L3', 'accidental.natural-L4', 'accidental.natural-L5', 'accidental.natural-L6', 'accidental.natural-L7', 'accidental.natural-L8', 'accidental.natural-S-1', 'accidental.natural-S-2', 'accidental.natural-S-3', 'accidental.natural-S0', 'accidental.natural-S1', 'accidental.natural-S2', 'accidental.natural-S3', 'accidental.natural-S4', 'accidental.natural-S5', 'accidental.natural-S6', 'accidental.natural-S7', 'accidental.sharp-L-1', 'accidental.sharp-L-2', 'accidental.sharp-L0', 'accidental.sharp-L1', 'accidental.sharp-L2', 'accidental.sharp-L3', 'accidental.sharp-L4', 'accidental.sharp-L5', 'accidental.sharp-L6', 'accidental.sharp-L7', 'accidental.sharp-S-1', 'accidental.sharp-S-2', 'accidental.sharp-S0', 'accidental.sharp-S1', 'accidental.sharp-S2', 'accidental.sharp-S3', 'accidental.sharp-S4', 'accidental.sharp-S5', 'accidental.sharp-S6', 'accidental.sharp-S7', 'barline-L1', 'clef.C-L1', 'clef.C-L2', 'clef.C-L3', 'clef.C-L4', 'clef.F-L3', 'clef.F-L4', 'clef.G-L1', 'clef.G-L2', 'digit.0-S5', 'digit.1-L2', 'digit.1-S5', 'digit.11-L4', 'digit.12-L4', 'digit.16-L2', 'digit.2-L2', 'digit.2-L4', 'digit.2-S5', 'digit.24-L4', 'digit.3-L2', 'digit.3-L4', 'digit.3-S5', 'digit.4-L2', 'digit.4-L4', 'digit.4-S5', 'digit.5-L4', 'digit.5-S5', 'digit.6-L2', 'digit.6-L4', 'digit.6-S5', 'digit.7-S5', 'digit.8-L2', 'digit.8-L4', 'digit.8-S5', 'digit.9-L4', 'digit.9-S5', 'dot-S-1', 'dot-S-2', 'dot-S-3', 'dot-S0', 'dot-S1', 'dot-S2', 'dot-S3', 'dot-S4', 'dot-S5', 'dot-S6', 'dot-S7', 'dot-S8', 'fermata.above-S6', 'gracenote.beamedBoth1-L1', 'gracenote.beamedBoth1-L2', 'gracenote.beamedBoth1-L3', 'gracenote.beamedBoth1-L4', 'gracenote.beamedBoth1-L5', 'gracenote.beamedBoth1-L6', 'gracenote.beamedBoth1-S0', 'gracenote.beamedBoth1-S1', 'gracenote.beamedBoth1-S2', 'gracenote.beamedBoth1-S3', 'gracenote.beamedBoth1-S4', 'gracenote.beamedBoth1-S5', 'gracenote.beamedBoth2-L-1', 'gracenote.beamedBoth2-L0', 'gracenote.beamedBoth2-L1', 'gracenote.beamedBoth2-L2', 'gracenote.beamedBoth2-L3', 'gracenote.beamedBoth2-L4', 'gracenote.beamedBoth2-L5', 'gracenote.beamedBoth2-L6', 'gracenote.beamedBoth2-S0', 'gracenote.beamedBoth2-S1', 'gracenote.beamedBoth2-S2', 'gracenote.beamedBoth2-S3', 'gracenote.beamedBoth2-S4', 'gracenote.beamedBoth2-S5', 'gracenote.beamedBoth3-L2', 'gracenote.beamedBoth3-L3', 'gracenote.beamedBoth3-L4', 'gracenote.beamedBoth3-L5', 'gracenote.beamedBoth3-L6', 'gracenote.beamedBoth3-S2', 'gracenote.beamedBoth3-S3', 'gracenote.beamedBoth3-S4', 'gracenote.eighth-L-1', 'gracenote.eighth-L0', 'gracenote.eighth-L1', 'gracenote.eighth-L2', 'gracenote.eighth-L3', 'gracenote.eighth-L4', 'gracenote.eighth-L5', 'gracenote.eighth-L6', 'gracenote.eighth-S-1', 'gracenote.eighth-S0', 'gracenote.eighth-S1', 'gracenote.eighth-S2', 'gracenote.eighth-S3', 'gracenote.eighth-S4', 'gracenote.eighth-S5', 'gracenote.half-L2', 'gracenote.half-S2', 'gracenote.quarter-L1', 'gracenote.quarter-L2', 'gracenote.quarter-L3', 'gracenote.quarter-L4', 'gracenote.quarter-L5', 'gracenote.quarter-L6', 'gracenote.quarter-S0', 'gracenote.quarter-S1', 'gracenote.quarter-S2', 'gracenote.quarter-S3', 'gracenote.quarter-S4', 'gracenote.quarter-S5', 'gracenote.sixteenth-L-1', 'gracenote.sixteenth-L0', 'gracenote.sixteenth-L1', 'gracenote.sixteenth-L2', 'gracenote.sixteenth-L3', 'gracenote.sixteenth-L4', 'gracenote.sixteenth-L5', 'gracenote.sixteenth-L6', 'gracenote.sixteenth-S-1', 'gracenote.sixteenth-S-2', 'gracenote.sixteenth-S0', 'gracenote.sixteenth-S1', 'gracenote.sixteenth-S2', 'gracenote.sixteenth-S3', 'gracenote.sixteenth-S4', 'gracenote.sixteenth-S5', 'gracenote.thirty_second-L-1', 'gracenote.thirty_second-L0', 'gracenote.thirty_second-L1', 'gracenote.thirty_second-L2', 'gracenote.thirty_second-L3', 'gracenote.thirty_second-L4', 'gracenote.thirty_second-L5', 'gracenote.thirty_second-L6', 'gracenote.thirty_second-S-1', 'gracenote.thirty_second-S-2', 'gracenote.thirty_second-S0', 'gracenote.thirty_second-S1', 'gracenote.thirty_second-S2', 'gracenote.thirty_second-S3', 'gracenote.thirty_second-S4', 'gracenote.thirty_second-S5', 'metersign.C-L3', 'metersign.C/-L3', 'multirest-L3', 'note.beamedBoth0-L0', 'note.beamedBoth0-L1', 'note.beamedBoth0-L2', 'note.beamedBoth0-L3', 'note.beamedBoth0-L4', 'note.beamedBoth0-L5', 'note.beamedBoth0-L6', 'note.beamedBoth0-L7', 'note.beamedBoth0-S-1', 'note.beamedBoth0-S-3', 'note.beamedBoth0-S0', 'note.beamedBoth0-S1', 'note.beamedBoth0-S2', 'note.beamedBoth0-S3', 'note.beamedBoth0-S4', 'note.beamedBoth0-S5', 'note.beamedBoth0-S6', 'note.beamedBoth1-L-1', 'note.beamedBoth1-L-2', 'note.beamedBoth1-L-3', 'note.beamedBoth1-L0', 'note.beamedBoth1-L1', 'note.beamedBoth1-L2', 'note.beamedBoth1-L3', 'note.beamedBoth1-L4', 'note.beamedBoth1-L5', 'note.beamedBoth1-L6', 'note.beamedBoth1-L7', 'note.beamedBoth1-L8', 'note.beamedBoth1-S-1', 'note.beamedBoth1-S-2', 'note.beamedBoth1-S-3', 'note.beamedBoth1-S0', 'note.beamedBoth1-S1', 'note.beamedBoth1-S2', 'note.beamedBoth1-S3', 'note.beamedBoth1-S4', 'note.beamedBoth1-S5', 'note.beamedBoth1-S6', 'note.beamedBoth1-S7', 'note.beamedBoth1-S8', 'note.beamedBoth2-L-1', 'note.beamedBoth2-L-2', 'note.beamedBoth2-L-3', 'note.beamedBoth2-L0', 'note.beamedBoth2-L1', 'note.beamedBoth2-L2', 'note.beamedBoth2-L3', 'note.beamedBoth2-L4', 'note.beamedBoth2-L5', 'note.beamedBoth2-L6', 'note.beamedBoth2-L7', 'note.beamedBoth2-L8', 'note.beamedBoth2-S-1', 'note.beamedBoth2-S-2', 'note.beamedBoth2-S-3', 'note.beamedBoth2-S0', 'note.beamedBoth2-S1', 'note.beamedBoth2-S2', 'note.beamedBoth2-S3', 'note.beamedBoth2-S4', 'note.beamedBoth2-S5', 'note.beamedBoth2-S6', 'note.beamedBoth2-S7', 'note.beamedBoth2-S8', 'note.beamedBoth3-L-1', 'note.beamedBoth3-L-2', 'note.beamedBoth3-L0', 'note.beamedBoth3-L1', 'note.beamedBoth3-L2', 'note.beamedBoth3-L3', 'note.beamedBoth3-L4', 'note.beamedBoth3-L5', 'note.beamedBoth3-L6', 'note.beamedBoth3-L7', 'note.beamedBoth3-L8', 'note.beamedBoth3-S-1', 'note.beamedBoth3-S-2', 'note.beamedBoth3-S0', 'note.beamedBoth3-S1', 'note.beamedBoth3-S2', 'note.beamedBoth3-S3', 'note.beamedBoth3-S4', 'note.beamedBoth3-S5', 'note.beamedBoth3-S6', 'note.beamedBoth3-S7', 'note.beamedBoth3-S8', 'note.beamedBoth4-L-1', 'note.beamedBoth4-L0', 'note.beamedBoth4-L1', 'note.beamedBoth4-L2', 'note.beamedBoth4-L3', 'note.beamedBoth4-L4', 'note.beamedBoth4-L5', 'note.beamedBoth4-L6', 'note.beamedBoth4-L7', 'note.beamedBoth4-S-1', 'note.beamedBoth4-S0', 'note.beamedBoth4-S1', 'note.beamedBoth4-S2', 'note.beamedBoth4-S3', 'note.beamedBoth4-S4', 'note.beamedBoth4-S5', 'note.beamedBoth4-S6', 'note.beamedBoth4-S7', 'note.beamedBoth5-L0', 'note.beamedBoth5-L1', 'note.beamedLeft0-L1', 'note.beamedLeft0-L2', 'note.beamedLeft0-L3', 'note.beamedLeft0-L4', 'note.beamedLeft0-L5', 'note.beamedLeft0-L6', 'note.beamedLeft0-L7', 'note.beamedLeft0-S-2', 'note.beamedLeft0-S1', 'note.beamedLeft0-S2', 'note.beamedLeft0-S3', 'note.beamedLeft0-S4', 'note.beamedLeft0-S5', 'note.beamedLeft1-L-1', 'note.beamedLeft1-L-2', 'note.beamedLeft1-L0', 'note.beamedLeft1-L1', 'note.beamedLeft1-L2', 'note.beamedLeft1-L3', 'note.beamedLeft1-L4', 'note.beamedLeft1-L5', 'note.beamedLeft1-L6', 'note.beamedLeft1-L7', 'note.beamedLeft1-L8', 'note.beamedLeft1-S-1', 'note.beamedLeft1-S-2', 'note.beamedLeft1-S-3', 'note.beamedLeft1-S0', 'note.beamedLeft1-S1', 'note.beamedLeft1-S2', 'note.beamedLeft1-S3', 'note.beamedLeft1-S4', 'note.beamedLeft1-S5', 'note.beamedLeft1-S6', 'note.beamedLeft1-S7', 'note.beamedLeft1-S8', 'note.beamedLeft2-L-1', 'note.beamedLeft2-L-2', 'note.beamedLeft2-L0', 'note.beamedLeft2-L1', 'note.beamedLeft2-L2', 'note.beamedLeft2-L3', 'note.beamedLeft2-L4', 'note.beamedLeft2-L5', 'note.beamedLeft2-L6', 'note.beamedLeft2-L7', 'note.beamedLeft2-L8', 'note.beamedLeft2-S-1', 'note.beamedLeft2-S-2', 'note.beamedLeft2-S-3', 'note.beamedLeft2-S0', 'note.beamedLeft2-S1', 'note.beamedLeft2-S2', 'note.beamedLeft2-S3', 'note.beamedLeft2-S4', 'note.beamedLeft2-S5', 'note.beamedLeft2-S6', 'note.beamedLeft2-S7', 'note.beamedLeft2-S8', 'note.beamedLeft3-L-1', 'note.beamedLeft3-L-2', 'note.beamedLeft3-L0', 'note.beamedLeft3-L1', 'note.beamedLeft3-L2', 'note.beamedLeft3-L3', 'note.beamedLeft3-L4', 'note.beamedLeft3-L5', 'note.beamedLeft3-L6', 'note.beamedLeft3-L7', 'note.beamedLeft3-L8', 'note.beamedLeft3-S-1', 'note.beamedLeft3-S-2', 'note.beamedLeft3-S0', 'note.beamedLeft3-S1', 'note.beamedLeft3-S2', 'note.beamedLeft3-S3', 'note.beamedLeft3-S4', 'note.beamedLeft3-S5', 'note.beamedLeft3-S6', 'note.beamedLeft3-S7', 'note.beamedLeft3-S8', 'note.beamedLeft4-L0', 'note.beamedLeft4-L1', 'note.beamedLeft4-L2', 'note.beamedLeft4-L3', 'note.beamedLeft4-L4', 'note.beamedLeft4-L5', 'note.beamedLeft4-L6', 'note.beamedLeft4-S0', 'note.beamedLeft4-S1', 'note.beamedLeft4-S2', 'note.beamedLeft4-S3', 'note.beamedLeft4-S4', 'note.beamedLeft4-S5', 'note.beamedLeft4-S6', 'note.beamedLeft5-S0', 'note.beamedLeft5-S1', 'note.beamedRight0-L0', 'note.beamedRight0-L1', 'note.beamedRight0-L2', 'note.beamedRight0-L3', 'note.beamedRight0-L4', 'note.beamedRight0-L5', 'note.beamedRight0-L6', 'note.beamedRight0-L7', 'note.beamedRight0-S0', 'note.beamedRight0-S1', 'note.beamedRight0-S2', 'note.beamedRight0-S3', 'note.beamedRight0-S4', 'note.beamedRight0-S5', 'note.beamedRight0-S6', 'note.beamedRight0-S7', 'note.beamedRight1-L-1', 'note.beamedRight1-L-2', 'note.beamedRight1-L-3', 'note.beamedRight1-L0', 'note.beamedRight1-L1', 'note.beamedRight1-L2', 'note.beamedRight1-L3', 'note.beamedRight1-L4', 'note.beamedRight1-L5', 'note.beamedRight1-L6', 'note.beamedRight1-L7', 'note.beamedRight1-L8', 'note.beamedRight1-S-1', 'note.beamedRight1-S-2', 'note.beamedRight1-S-3', 'note.beamedRight1-S0', 'note.beamedRight1-S1', 'note.beamedRight1-S2', 'note.beamedRight1-S3', 'note.beamedRight1-S4', 'note.beamedRight1-S5', 'note.beamedRight1-S6', 'note.beamedRight1-S7', 'note.beamedRight1-S8', 'note.beamedRight2-L-1', 'note.beamedRight2-L-2', 'note.beamedRight2-L-3', 'note.beamedRight2-L0', 'note.beamedRight2-L1', 'note.beamedRight2-L2', 'note.beamedRight2-L3', 'note.beamedRight2-L4', 'note.beamedRight2-L5', 'note.beamedRight2-L6', 'note.beamedRight2-L7', 'note.beamedRight2-L8', 'note.beamedRight2-S-1', 'note.beamedRight2-S-2', 'note.beamedRight2-S-3', 'note.beamedRight2-S0', 'note.beamedRight2-S1', 'note.beamedRight2-S2', 'note.beamedRight2-S3', 'note.beamedRight2-S4', 'note.beamedRight2-S5', 'note.beamedRight2-S6', 'note.beamedRight2-S7', 'note.beamedRight2-S8', 'note.beamedRight3-L-1', 'note.beamedRight3-L0', 'note.beamedRight3-L1', 'note.beamedRight3-L2', 'note.beamedRight3-L3', 'note.beamedRight3-L4', 'note.beamedRight3-L5', 'note.beamedRight3-L6', 'note.beamedRight3-L7', 'note.beamedRight3-L8', 'note.beamedRight3-S-1', 'note.beamedRight3-S-2', 'note.beamedRight3-S0', 'note.beamedRight3-S1', 'note.beamedRight3-S2', 'note.beamedRight3-S3', 'note.beamedRight3-S4', 'note.beamedRight3-S5', 'note.beamedRight3-S6', 'note.beamedRight3-S7', 'note.beamedRight3-S8', 'note.beamedRight4-L0', 'note.beamedRight4-L3', 'note.beamedRight4-L4', 'note.beamedRight4-L5', 'note.beamedRight4-L6', 'note.beamedRight4-L7', 'note.beamedRight4-S-1', 'note.beamedRight4-S-2', 'note.beamedRight4-S0', 'note.beamedRight4-S1', 'note.beamedRight4-S2', 'note.beamedRight4-S3', 'note.beamedRight4-S4', 'note.beamedRight4-S7', 'note.double_whole-L1', 'note.double_whole-L2', 'note.double_whole-L3', 'note.double_whole-L4', 'note.double_whole-L5', 'note.double_whole-L6', 'note.double_whole-L7', 'note.double_whole-S0', 'note.double_whole-S2', 'note.double_whole-S3', 'note.double_whole-S4', 'note.double_whole-S5', 'note.double_whole-S6', 'note.double_whole-S7', 'note.eighth-L-1', 'note.eighth-L-2', 'note.eighth-L-3', 'note.eighth-L0', 'note.eighth-L1', 'note.eighth-L2', 'note.eighth-L3', 'note.eighth-L4', 'note.eighth-L5', 'note.eighth-L6', 'note.eighth-L7', 'note.eighth-L8', 'note.eighth-S-1', 'note.eighth-S-2', 'note.eighth-S-3', 'note.eighth-S0', 'note.eighth-S1', 'note.eighth-S2', 'note.eighth-S3', 'note.eighth-S4', 'note.eighth-S5', 'note.eighth-S6', 'note.eighth-S7', 'note.eighth-S8', 'note.half-L-1', 'note.half-L-2', 'note.half-L-3', 'note.half-L0', 'note.half-L1', 'note.half-L2', 'note.half-L3', 'note.half-L4', 'note.half-L5', 'note.half-L6', 'note.half-L7', 'note.half-L8', 'note.half-S-1', 'note.half-S-2', 'note.half-S-3', 'note.half-S0', 'note.half-S1', 'note.half-S2', 'note.half-S3', 'note.half-S4', 'note.half-S5', 'note.half-S6', 'note.half-S7', 'note.half-S8', 'note.quadruple_whole-L5', 'note.quadruple_whole-S3', 'note.quarter-L-1', 'note.quarter-L-2', 'note.quarter-L-3', 'note.quarter-L0', 'note.quarter-L1', 'note.quarter-L2', 'note.quarter-L3', 'note.quarter-L4', 'note.quarter-L5', 'note.quarter-L6', 'note.quarter-L7', 'note.quarter-L8', 'note.quarter-S-1', 'note.quarter-S-2', 'note.quarter-S-3', 'note.quarter-S0', 'note.quarter-S1', 'note.quarter-S2', 'note.quarter-S3', 'note.quarter-S4', 'note.quarter-S5', 'note.quarter-S6', 'note.quarter-S7', 'note.quarter-S8', 'note.sixteenth-L-1', 'note.sixteenth-L-2', 'note.sixteenth-L0', 'note.sixteenth-L1', 'note.sixteenth-L2', 'note.sixteenth-L3', 'note.sixteenth-L4', 'note.sixteenth-L5', 'note.sixteenth-L6', 'note.sixteenth-L7', 'note.sixteenth-L8', 'note.sixteenth-S-1', 'note.sixteenth-S-2', 'note.sixteenth-S0', 'note.sixteenth-S1', 'note.sixteenth-S2', 'note.sixteenth-S3', 'note.sixteenth-S4', 'note.sixteenth-S5', 'note.sixteenth-S6', 'note.sixteenth-S7', 'note.sixteenth-S8', 'note.thirty_second-L-1', 'note.thirty_second-L0', 'note.thirty_second-L1', 'note.thirty_second-L2', 'note.thirty_second-L3', 'note.thirty_second-L4', 'note.thirty_second-L5', 'note.thirty_second-L6', 'note.thirty_second-L7', 'note.thirty_second-S0', 'note.thirty_second-S1', 'note.thirty_second-S2', 'note.thirty_second-S3', 'note.thirty_second-S4', 'note.thirty_second-S5', 'note.thirty_second-S6', 'note.whole-L-1', 'note.whole-L0', 'note.whole-L1', 'note.whole-L2', 'note.whole-L3', 'note.whole-L4', 'note.whole-L5', 'note.whole-L6', 'note.whole-L7', 'note.whole-S-1', 'note.whole-S0', 'note.whole-S1', 'note.whole-S2', 'note.whole-S3', 'note.whole-S4', 'note.whole-S5', 'note.whole-S6', 'note.whole-S7', 'rest.eighth-L3', 'rest.half-L3', 'rest.quadruple_whole-L3', 'rest.quarter-L3', 'rest.sixteenth-L3', 'rest.sixty_fourth-L3', 'rest.thirty_second-L3', 'rest.whole-L4', 'slur.end-L-1', 'slur.end-L-2', 'slur.end-L0', 'slur.end-L1', 'slur.end-L2', 'slur.end-L3', 'slur.end-L4', 'slur.end-L5', 'slur.end-L6', 'slur.end-L7', 'slur.end-L8', 'slur.end-S-1', 'slur.end-S0', 'slur.end-S1', 'slur.end-S2', 'slur.end-S3', 'slur.end-S4', 'slur.end-S5', 'slur.end-S6', 'slur.end-S7', 'slur.start-L-1', 'slur.start-L-2', 'slur.start-L0', 'slur.start-L1', 'slur.start-L2', 'slur.start-L3', 'slur.start-L4', 'slur.start-L5', 'slur.start-L6', 'slur.start-L7', 'slur.start-L8', 'slur.start-S-1', 'slur.start-S0', 'slur.start-S1', 'slur.start-S2', 'slur.start-S3', 'slur.start-S4', 'slur.start-S5', 'slur.start-S6', 'slur.start-S7']\n"
          ],
          "name": "stdout"
        }
      ]
    },
    {
      "cell_type": "markdown",
      "metadata": {
        "id": "_5O3vMmIOgml"
      },
      "source": [
        "## Evaluation\n",
        "\n",
        "How can we measure how well an OMR system recognizes an input score? Unfortunately, this is a **long-standing unresolved question** in the field. \n",
        "\n",
        "However, in this context we only need a measure of how well the network is learning. The *loss* function value could be used but it is difficult to interpret. That is why we are going to use the **edit distance**.\n",
        "\n",
        "Given that our output domain consists of sequences of music symbols, we can *evaluate* the learning process as regards the edit distance between the ground-truth sequence and the sequence predicted by the model. \n",
        "\n",
        "The edit distance between *A* and *B* counts the number of editing operations (insert, delete, or replace) needed to convert a sequence *A* into the sequence *B*. Note that in our context this can be seen as the cost of correcting the output of the OMR system."
      ]
    },
    {
      "cell_type": "code",
      "metadata": {
        "id": "72qIhgjaO7dT",
        "colab": {
          "base_uri": "https://localhost:8080/",
          "height": 34
        },
        "outputId": "d9c210f8-3c27-4370-91ce-6e545afd001b"
      },
      "source": [
        "# Evaluation\n",
        "\n",
        "def edit_distance(a,b):\n",
        "    \"Computes the Levenshtein distance between sequence a and b.\"\n",
        "    n, m = len(a), len(b)\n",
        "\n",
        "    if n > m:\n",
        "        a,b = b,a\n",
        "        n,m = m,n\n",
        "\n",
        "    current = range(n+1)\n",
        "    for i in range(1,m+1):\n",
        "        previous, current = current, [i]+[0]*n\n",
        "        for j in range(1,n+1):\n",
        "            add, delete = previous[j]+1, current[j-1]+1\n",
        "            change = previous[j-1]\n",
        "            if a[j-1] != b[i-1]:\n",
        "                change = change + 1\n",
        "            current[j] = min(add, delete, change)\n",
        "\n",
        "    return current[n]\n",
        "  \n",
        "example_A = ['clef.F-L4', 'rest.quarter-L3', 'note.quarter-S3', 'barline-L1']\n",
        "example_B = ['clef.F-L4', 'rest.quarter-L1', 'note.quarter-S3', 'note.eighth-S2', 'barline-L1']\n",
        "\n",
        "print('Edit distance: ', edit_distance(example_A, example_B))"
      ],
      "execution_count": null,
      "outputs": [
        {
          "output_type": "stream",
          "text": [
            "Edit distance:  2\n"
          ],
          "name": "stdout"
        }
      ]
    },
    {
      "cell_type": "markdown",
      "metadata": {
        "id": "zSsy_EsmOQUk"
      },
      "source": [
        "## Training\n"
      ]
    },
    {
      "cell_type": "markdown",
      "metadata": {
        "id": "R836P1JDO6We"
      },
      "source": [
        "We now must define the generators (see above) for the training set, taking into account that:\n",
        "* The encoder receives an image\n",
        "* The decoder receives a sequence of symbols (starting with SOS)\n",
        "* The decoder emits a sequence of symbols (ending with EOS)"
      ]
    },
    {
      "cell_type": "code",
      "metadata": {
        "id": "Bfpyb6cE16IZ"
      },
      "source": [
        "\"\"\"\n",
        "We build a generator for getting batches of equal width size.\n",
        "\"\"\"\n",
        "\n",
        "import numpy as np # Python's Matrix package\n",
        "\n",
        "def vector_to_batch(X_batch, Y_batch):\n",
        "    max_batch_image_len = max([image.shape[1] for image in X_batch])\n",
        "\n",
        "    encoder_input = np.zeros((len(X_batch),img_height,max_batch_image_len), dtype=np.float)\n",
        "\n",
        "    for idx, image in enumerate(X_batch):\n",
        "        encoder_input[idx][:,:image.shape[1]] = image  \n",
        "\n",
        "    encoder_input = np.expand_dims(encoder_input, axis=-1) # Tensor-wise input (B,H,W) -> (B,H,W,1)\n",
        "    encoder_input = (255. - encoder_input) / 255. # Image normalization within [0,1]\n",
        "    \n",
        "    max_batch_output_len = max([len(sequence) for sequence in Y_batch])\n",
        "\n",
        "    decoder_input = np.zeros((len(Y_batch),max_batch_output_len,alphabet_len), dtype=np.float)\n",
        "    decoder_output = np.zeros((len(Y_batch),max_batch_output_len,alphabet_len), dtype=np.float)\n",
        "\n",
        "    for idx_s, output_sentence in enumerate(Y_batch):        \n",
        "        for idx_c, char in enumerate(output_sentence):\n",
        "            decoder_input[idx_s][idx_c][alphabet_from_char_to_int[char]] = 1.\n",
        "            if idx_c > 0:\n",
        "                decoder_output[idx_s][idx_c-1][alphabet_from_char_to_int[char]] = 1.\n",
        "                \n",
        "    return encoder_input, decoder_input, decoder_output\n",
        "\n",
        "def generator(X, Y, batch_size):\n",
        "  idx = 0\n",
        "  while True:\n",
        "    X_batch = X[idx:idx+batch_size]\n",
        "    Y_batch = Y[idx:idx+batch_size]\n",
        "    \n",
        "    encoder_input, decoder_input, decoder_output = vector_to_batch(X_batch, Y_batch)\n",
        "    \n",
        "    yield [encoder_input, decoder_input], decoder_output\n",
        "    \n",
        "    idx = (idx + batch_size) % len(X)"
      ],
      "execution_count": null,
      "outputs": []
    },
    {
      "cell_type": "code",
      "metadata": {
        "id": "TEzdg70dvKzu",
        "colab": {
          "base_uri": "https://localhost:8080/",
          "height": 68
        },
        "outputId": "1171933a-e112-4865-c5a5-c1bbf8e795cc"
      },
      "source": [
        "sanity_check_generator = generator(X,Y, batch_size = 16)\n",
        "\n",
        "[encoder_input, decoder_input], decoder_output = next(sanity_check_generator)\n",
        "\n",
        "print ('Encoder input: ' + str(encoder_input.shape))\n",
        "print ('Decoder input: ' + str(decoder_input.shape))\n",
        "print ('Decoder output: ' + str(decoder_output.shape))"
      ],
      "execution_count": null,
      "outputs": [
        {
          "output_type": "stream",
          "text": [
            "Encoder input: (16, 64, 699, 1)\n",
            "Decoder input: (16, 36, 706)\n",
            "Decoder output: (16, 36, 706)\n"
          ],
          "name": "stdout"
        }
      ]
    },
    {
      "cell_type": "markdown",
      "metadata": {
        "id": "Jo4705YSOyYs"
      },
      "source": [
        "## Model definition\n",
        "\n",
        "We must select the specific hyper-parameters of our CNN-Encoder-Decoder. The example below sets the network as:\n",
        "* CNN with 4 layers\n",
        "* RNN-Encoder with one layer\n",
        "* RNN-Decoder with one layer"
      ]
    },
    {
      "cell_type": "code",
      "metadata": {
        "id": "xWTOOMfrvqzr",
        "colab": {
          "base_uri": "https://localhost:8080/",
          "height": 904
        },
        "outputId": "e15b8896-2de6-4102-824e-419e100951b4"
      },
      "source": [
        "from keras.layers import Input, Dense, Flatten, Reshape, Permute\n",
        "from keras.layers import BatchNormalization\n",
        "from keras.layers.convolutional import Conv2D, MaxPooling2D\n",
        "from keras.layers.recurrent import LSTM\n",
        "from keras.models import Model\n",
        "from keras import backend as K\n",
        "\n",
        "def getmodel(img_height, alphabet_len):\n",
        "  filters = [32, 64, 128, 128]\n",
        "  w_pooling = [2,2,2,2]\n",
        "  h_pooling = [2,2,2,2]\n",
        "\n",
        "  if K.image_data_format() == 'channels_last':\n",
        "    input_data = Input(name='input', shape=(img_height, None, 1))\n",
        "  else:\n",
        "    input_data = Input(name='input', shape=(1, img_height, None))\n",
        "\n",
        "\n",
        "  # Encoder-CNN with 4 layers    \n",
        "  inner = Conv2D(filters[0], (3, 3), padding='same', activation='relu')(input_data)\n",
        "  inner = BatchNormalization()(inner)\n",
        "  inner = MaxPooling2D(pool_size=(h_pooling[0], w_pooling[0]))(inner)\n",
        "\n",
        "  inner = Conv2D(filters[1], (3, 3), padding='same', activation='relu')(inner)\n",
        "  inner = BatchNormalization()(inner)\n",
        "  inner = MaxPooling2D(pool_size=(h_pooling[1], w_pooling[1]))(inner)\n",
        "\n",
        "  inner = Conv2D(filters[2], (3, 3), padding='same', activation='relu')(inner)\n",
        "  inner = BatchNormalization()(inner)\n",
        "  inner = MaxPooling2D(pool_size=(h_pooling[2], w_pooling[2]))(inner)\n",
        "\n",
        "  inner = Conv2D(filters[3], (3, 3), padding='same', activation='relu')(inner)\n",
        "  inner = BatchNormalization()(inner)\n",
        "  inner = MaxPooling2D(pool_size=(h_pooling[3], w_pooling[3]))(inner)\n",
        "  \n",
        "  # Reshaping to input the Encoder-RNN\n",
        "  permute = Permute((2,1,3))(inner) #     \n",
        "  w_factor = np.prod(np.array(w_pooling))\n",
        "  h_factor = np.prod(np.array(h_pooling))\n",
        "\n",
        "  # This goes as a function of the number of poolings\n",
        "  conv_to_rnn_dims = (-1, (img_height // (h_factor)) * filters[3])        \n",
        "  encoder_input = Reshape(target_shape=conv_to_rnn_dims, name='reshape')(permute)    \n",
        "\n",
        "  # Encoder-RNN\n",
        "  encoder_outputs, state_h, state_c = LSTM(512, return_state=True)(encoder_input)\n",
        "  encoder_states = [state_h, state_c]\n",
        "\n",
        "  # Decoder-RNN\n",
        "  decoder_inputs = Input(shape=(None, alphabet_len))\n",
        "  decoder_outputs, _, _ = LSTM(512, return_sequences=True, return_state=True)(decoder_inputs, initial_state=encoder_states)\n",
        "  decoder_dense = Dense(alphabet_len, activation='softmax')\n",
        "  decoder_outputs = decoder_dense(decoder_outputs)\n",
        "\n",
        "  # We create the single model with two inputs \n",
        "  model = Model([input_data, decoder_inputs], decoder_outputs)\n",
        "  model.compile(optimizer='rmsprop', loss='categorical_crossentropy')   \n",
        "  model.summary()\n",
        "\n",
        "  return model\n",
        "\n",
        "  \n",
        "model = getmodel(encoder_input.shape[1],alphabet_len)  "
      ],
      "execution_count": null,
      "outputs": [
        {
          "output_type": "stream",
          "text": [
            "Using TensorFlow backend.\n"
          ],
          "name": "stderr"
        },
        {
          "output_type": "stream",
          "text": [
            "WARNING:tensorflow:From /usr/local/lib/python3.6/dist-packages/tensorflow/python/framework/op_def_library.py:263: colocate_with (from tensorflow.python.framework.ops) is deprecated and will be removed in a future version.\n",
            "Instructions for updating:\n",
            "Colocations handled automatically by placer.\n",
            "__________________________________________________________________________________________________\n",
            "Layer (type)                    Output Shape         Param #     Connected to                     \n",
            "==================================================================================================\n",
            "input (InputLayer)              (None, 64, None, 1)  0                                            \n",
            "__________________________________________________________________________________________________\n",
            "conv2d_1 (Conv2D)               (None, 64, None, 32) 320         input[0][0]                      \n",
            "__________________________________________________________________________________________________\n",
            "batch_normalization_1 (BatchNor (None, 64, None, 32) 128         conv2d_1[0][0]                   \n",
            "__________________________________________________________________________________________________\n",
            "max_pooling2d_1 (MaxPooling2D)  (None, 32, None, 32) 0           batch_normalization_1[0][0]      \n",
            "__________________________________________________________________________________________________\n",
            "conv2d_2 (Conv2D)               (None, 32, None, 64) 18496       max_pooling2d_1[0][0]            \n",
            "__________________________________________________________________________________________________\n",
            "batch_normalization_2 (BatchNor (None, 32, None, 64) 256         conv2d_2[0][0]                   \n",
            "__________________________________________________________________________________________________\n",
            "max_pooling2d_2 (MaxPooling2D)  (None, 16, None, 64) 0           batch_normalization_2[0][0]      \n",
            "__________________________________________________________________________________________________\n",
            "conv2d_3 (Conv2D)               (None, 16, None, 128 73856       max_pooling2d_2[0][0]            \n",
            "__________________________________________________________________________________________________\n",
            "batch_normalization_3 (BatchNor (None, 16, None, 128 512         conv2d_3[0][0]                   \n",
            "__________________________________________________________________________________________________\n",
            "max_pooling2d_3 (MaxPooling2D)  (None, 8, None, 128) 0           batch_normalization_3[0][0]      \n",
            "__________________________________________________________________________________________________\n",
            "conv2d_4 (Conv2D)               (None, 8, None, 128) 147584      max_pooling2d_3[0][0]            \n",
            "__________________________________________________________________________________________________\n",
            "batch_normalization_4 (BatchNor (None, 8, None, 128) 512         conv2d_4[0][0]                   \n",
            "__________________________________________________________________________________________________\n",
            "max_pooling2d_4 (MaxPooling2D)  (None, 4, None, 128) 0           batch_normalization_4[0][0]      \n",
            "__________________________________________________________________________________________________\n",
            "permute_1 (Permute)             (None, None, 4, 128) 0           max_pooling2d_4[0][0]            \n",
            "__________________________________________________________________________________________________\n",
            "reshape (Reshape)               (None, None, 512)    0           permute_1[0][0]                  \n",
            "__________________________________________________________________________________________________\n",
            "input_1 (InputLayer)            (None, None, 706)    0                                            \n",
            "__________________________________________________________________________________________________\n",
            "lstm_1 (LSTM)                   [(None, 512), (None, 2099200     reshape[0][0]                    \n",
            "__________________________________________________________________________________________________\n",
            "lstm_2 (LSTM)                   [(None, None, 512),  2496512     input_1[0][0]                    \n",
            "                                                                 lstm_1[0][1]                     \n",
            "                                                                 lstm_1[0][2]                     \n",
            "__________________________________________________________________________________________________\n",
            "dense_1 (Dense)                 (None, None, 706)    362178      lstm_2[0][0]                     \n",
            "==================================================================================================\n",
            "Total params: 5,199,554\n",
            "Trainable params: 5,198,850\n",
            "Non-trainable params: 704\n",
            "__________________________________________________________________________________________________\n"
          ],
          "name": "stdout"
        }
      ]
    },
    {
      "cell_type": "markdown",
      "metadata": {
        "id": "Mw1P-AGyOtCo"
      },
      "source": [
        "Data splitting into training and validation"
      ]
    },
    {
      "cell_type": "code",
      "metadata": {
        "id": "Ygv0-sGswyYr"
      },
      "source": [
        "val_split = 0.1 # 10 % of the data will be used to validate the learning process\n",
        "idx_split = int(len(X)*val_split)\n",
        "\n",
        "X_train = X[idx_split:]\n",
        "Y_train = Y[idx_split:]\n",
        "\n",
        "X_val = X[:idx_split]\n",
        "Y_val = Y[:idx_split]\n"
      ],
      "execution_count": null,
      "outputs": []
    },
    {
      "cell_type": "markdown",
      "metadata": {
        "id": "W-ZiqaYjOvqK"
      },
      "source": [
        "Training loop"
      ]
    },
    {
      "cell_type": "code",
      "metadata": {
        "id": "Egnkkf7dw8LS",
        "colab": {
          "base_uri": "https://localhost:8080/",
          "height": 1190
        },
        "outputId": "8012a549-5f48-4323-a588-d5cd3b081a7a"
      },
      "source": [
        "import math # Inf\n",
        "\n",
        "TR_BATCH_SIZE = 32\n",
        "train_generator = generator(X_train, Y_train, batch_size = TR_BATCH_SIZE)\n",
        "x_val, y_val, t_val = vector_to_batch(X_val, Y_val)\n",
        "\n",
        "# We monitor the edit distance over the validation set every two epochs\n",
        "MINI_EPOCH = 2\n",
        "previous_val_ed = math.inf\n",
        "\n",
        "# Loop over epochs\n",
        "for epoch in range(30):\n",
        "  print()\n",
        "  print('-----> Epoch', epoch*MINI_EPOCH)\n",
        "  \n",
        "  # Run the training process for some epochs\n",
        "  history = model.fit_generator(train_generator, \n",
        "                   steps_per_epoch=len(X_train)//TR_BATCH_SIZE, \n",
        "                   verbose=2, \n",
        "                   epochs=MINI_EPOCH, \n",
        "                   validation_data=[[x_val,y_val],t_val])  \n",
        "  \n",
        "  \n",
        "  \"\"\"\n",
        "  Monitorization over the validation set\n",
        "  \"\"\"\n",
        "  current_val_ed = 0\n",
        "  \n",
        "  # Prediction over the validation set\n",
        "  batch_prediction = model.predict([x_val,y_val],batch_size=16)\n",
        "  \n",
        "  # Loop over all validation samples\n",
        "  for idx,sentence_prediction in enumerate(batch_prediction):  \n",
        "\n",
        "      # Compute the ground-truth sequence\n",
        "      raw_gt_sequence = [alphabet_from_int_to_char[char] for char in np.argmax(t_val[idx],axis=1)] \n",
        "      gt_sequence = []          \n",
        "      \n",
        "      for char in raw_gt_sequence:\n",
        "        gt_sequence += [char]\n",
        "        if char == output_eos:\n",
        "            break\n",
        "      \n",
        "      # Compute the predicted sequence      \n",
        "      raw_predicted_sequence = [alphabet_from_int_to_char[char] for char in np.argmax(sentence_prediction,axis=1)] \n",
        "      predicted_sentence = []          \n",
        "      \n",
        "      for char in raw_predicted_sequence:\n",
        "        predicted_sentence += [char]\n",
        "        if char == output_eos:\n",
        "            break\n",
        "            \n",
        "      # Accumulate the edit distance\n",
        "      current_val_ed += edit_distance(gt_sequence,predicted_sentence)\n",
        "  \n",
        "  # Compute the average edit distance\n",
        "  current_val_ed = (1. * current_val_ed) / len(x_val)\n",
        "  \n",
        "  # Show validation results\n",
        "  print()\n",
        "  print()\n",
        "  print('Epoch ' + str(((epoch+1)*MINI_EPOCH)-1) + ' - Validation edit dist.: ' + str(current_val_ed))  \n",
        "  print()\n",
        "  print()\n",
        "  \n",
        "  \n",
        "  # To automatize the training and avoid overfitting, uncomment the following lines\n",
        "  '''\n",
        "  if current_val_ed > previous_val_ed:\n",
        "    break;\n",
        "  else:\n",
        "    previous_val_ed = current_val_ed\n",
        "  '''    \n"
      ],
      "execution_count": null,
      "outputs": [
        {
          "output_type": "stream",
          "text": [
            "\n",
            "-----> Epoch 0\n",
            "Epoch 1/2\n",
            " - 238s - loss: 0.9285 - val_loss: 0.7601\n",
            "Epoch 2/2\n",
            " - 237s - loss: 0.8548 - val_loss: 0.7459\n",
            "\n",
            "\n",
            "Epoch 1 - Validation edit dist.: 11.0585\n",
            "\n",
            "\n",
            "\n",
            "-----> Epoch 2\n",
            "Epoch 1/2\n",
            " - 238s - loss: 0.7830 - val_loss: 0.7077\n",
            "Epoch 2/2\n",
            " - 237s - loss: 0.7211 - val_loss: 0.7065\n",
            "\n",
            "\n",
            "Epoch 3 - Validation edit dist.: 10.4135\n",
            "\n",
            "\n",
            "\n",
            "-----> Epoch 4\n",
            "Epoch 1/2\n",
            " - 238s - loss: 0.6663 - val_loss: 0.6883\n",
            "Epoch 2/2\n",
            " - 237s - loss: 0.6164 - val_loss: 0.7155\n",
            "\n",
            "\n",
            "Epoch 5 - Validation edit dist.: 10.299\n",
            "\n",
            "\n",
            "\n",
            "-----> Epoch 6\n",
            "Epoch 1/2\n",
            " - 238s - loss: 0.5711 - val_loss: 0.6829\n",
            "Epoch 2/2\n",
            " - 237s - loss: 0.5293 - val_loss: 0.6783\n",
            "\n",
            "\n",
            "Epoch 7 - Validation edit dist.: 9.6995\n",
            "\n",
            "\n",
            "\n",
            "-----> Epoch 8\n",
            "Epoch 1/2\n",
            " - 238s - loss: 0.4905 - val_loss: 0.6879\n",
            "Epoch 2/2\n",
            " - 237s - loss: 0.4558 - val_loss: 0.6769\n",
            "\n",
            "\n",
            "Epoch 9 - Validation edit dist.: 9.646\n",
            "\n",
            "\n",
            "\n",
            "-----> Epoch 10\n",
            "Epoch 1/2\n",
            " - 238s - loss: 0.4250 - val_loss: 0.6970\n",
            "Epoch 2/2\n",
            " - 238s - loss: 0.3961 - val_loss: 0.7015\n",
            "\n",
            "\n",
            "Epoch 11 - Validation edit dist.: 9.598\n",
            "\n",
            "\n",
            "\n",
            "-----> Epoch 12\n",
            "Epoch 1/2\n"
          ],
          "name": "stdout"
        }
      ]
    },
    {
      "cell_type": "code",
      "metadata": {
        "id": "HNXHP98NuxJm",
        "colab": {
          "base_uri": "https://localhost:8080/",
          "height": 764
        },
        "outputId": "cbb7085d-75c0-4ac8-b0f5-0585a487eadf"
      },
      "source": [
        "\"\"\"\n",
        "Example of prediction after the model is trained\n",
        "\"\"\"\n",
        "\n",
        "idx_eval = 1 # Id of the validation sample to test\n",
        "\n",
        "# Batch preparation\n",
        "sample_x, sample_y, _ = vector_to_batch([X_val[idx_eval]], [Y_val[idx_eval]])\n",
        "\n",
        "# Prediction and conversion to symbols\n",
        "batch_prediction = model.predict([sample_x, sample_y])\n",
        "predicted_sequence = [alphabet_from_int_to_char[char] for char in np.argmax(batch_prediction[0],axis=1)]\n",
        "\n",
        "# Plot score\n",
        "f = plt.figure()\n",
        "f.add_subplot(1,1,1)\n",
        "plt.imshow(X_val[idx_eval])\n",
        "plt.show(block=True)\n",
        "\n",
        "# Display hypothesis\n",
        "print('Hypothesis:')\n",
        "for symbol in predicted_sequence:\n",
        "  if symbol == output_eos:\n",
        "    break\n",
        "  \n",
        "  print('\\t',symbol)"
      ],
      "execution_count": null,
      "outputs": [
        {
          "output_type": "display_data",
          "data": {
            "image/png": "[encoded data removed]",
            "text/plain": [
              "<Figure size 900x600 with 1 Axes>"
            ]
          },
          "metadata": {
            "tags": []
          }
        },
        {
          "output_type": "stream",
          "text": [
            "Hypothesis:\n",
            "\t clef.C-L1\n",
            "\t accidental.flat-L4\n",
            "\t accidental.flat-L2\n",
            "\t accidental.flat-S3\n",
            "\t digit.3-L4\n",
            "\t digit.4-L2\n",
            "\t digit.1-S5\n",
            "\t digit.1-S5\n",
            "\t multirest-L3\n",
            "\t barline-L1\n",
            "\t note.quarter-L4\n",
            "\t dot-S4\n",
            "\t dot-S2\n",
            "\t barline-L1\n",
            "\t barline-L1\n",
            "\t barline-L1\n",
            "\t note.eighth-S3\n",
            "\t note.eighth-L4\n",
            "\t rest.quarter-L3\n",
            "\t rest.quarter-L3\n",
            "\t barline-L1\n",
            "\t digit.1-S5\n",
            "\t dot-S6\n",
            "\t note.eighth-L5\n",
            "\t note.eighth-S4\n",
            "\t note.eighth-L4\n",
            "\t barline-L1\n",
            "\t note.eighth-S3\n",
            "\t barline-L1\n",
            "\t note.eighth-S3\n",
            "\t note.eighth-L3\n",
            "\t rest.quarter-L3\n",
            "\t rest.quarter-L3\n",
            "\t barline-L1\n"
          ],
          "name": "stdout"
        }
      ]
    },
    {
      "cell_type": "markdown",
      "metadata": {
        "id": "0cuu4wVtreos"
      },
      "source": [
        "## Exercises\n",
        "\n",
        "### Initialize your environment\n",
        "\n",
        "* Repeat the experiment in your own Google Colab\n",
        "  - The dataset is available [here](https://drive.google.com/file/d/1KOcLA-EBOSgbktFv3gzu1lsCPsy1AJ02/view?usp=sharing).\n",
        "\n",
        "### Basic\n",
        "* Hyper-parameter tuning for improving performance (both efficiency and effectiveness)\n",
        "* Implement *bucketting* \n",
        " \n",
        "### Medium\n",
        "* Error analysis: errors per symbol, errors per length of the image, errors per length of the output sequence\n",
        "* Make the RNNs bidirectional\n",
        "\n",
        "### Advanced\n",
        "* Convert the output to MIDI\n",
        "* Modifications for double output (glyph, position)  \n",
        "* Real prediction (the decoder input is unknown) \n",
        "* Add an attention model: [tutorial](https://wanasit.github.io/attention-based-sequence-to-sequence-in-keras.html)\n",
        "\n"
      ]
    }
  ]
}